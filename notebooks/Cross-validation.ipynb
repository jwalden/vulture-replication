{
 "cells": [
  {
   "cell_type": "markdown",
   "metadata": {
    "deletable": true,
    "editable": true
   },
   "source": [
    "### Cross Validation Penalty Parameter\n",
    "Einfaches Skript für die Cross Validation der Penalty Parameter auf unseren Daten.\n",
    "\n",
    "#### Benötigte Matrizen\n",
    "* ```data/matrices/matrix_cla_incl_current.pickle```\n",
    "* ```data/matrices/matrix_cla_incl_history.pickle```\n",
    "* ```data/matrices/matrix_reg_incl_current.pickle```\n",
    "* ```data/matrices/matrix_reg_incl_history.pickle```"
   ]
  },
  {
   "cell_type": "code",
   "execution_count": 13,
   "metadata": {
    "collapsed": false,
    "deletable": true,
    "editable": true
   },
   "outputs": [
    {
     "name": "stdout",
     "output_type": "stream",
     "text": [
      "+------------+---------+-------------------+\n",
      "| Classifier | With FH | Penalty Parameter |\n",
      "+------------+---------+-------------------+\n",
      "| SVC        |    No   |     {'C': 0.1}    |\n",
      "| SVC        |   Yes   |     {'C': 0.1}    |\n",
      "| SVR        |    No   |     {'C': 0.5}    |\n",
      "| SVR        |   Yes   |     {'C': 0.1}    |\n",
      "+------------+---------+-------------------+\n"
     ]
    }
   ],
   "source": [
    "from sklearn import svm\n",
    "from sklearn.grid_search import GridSearchCV\n",
    "from imports.matrix_helper import MatrixHelper\n",
    "from prettytable import PrettyTable\n",
    "\n",
    "matrix_helper = MatrixHelper()\n",
    "\n",
    "table = PrettyTable(['Classifier', 'With FH', 'Penalty Parameter'])\n",
    "table.align[\"Classifier\"] = \"l\"\n",
    "\n",
    "param_grid = {'C': [0.01, 0.1, 0.5, 1, 2]}\n",
    "\n",
    "models = [('cla', 'SVC', 'current'), ('cla', 'SVC', 'history'), ('reg', 'SVR', 'current'), ('reg', 'SVR', 'history')]\n",
    "for model in models:\n",
    "    matrices = matrix_helper.load_from_parse('data/matrices/matrix_{}_incl_{}.pickle'.format(model[0], model[2]))\n",
    "    feature_matrix = matrices[0]\n",
    "    features_count = feature_matrix.shape[1] - 1\n",
    "    \n",
    "    if model[1] == 'SVC':\n",
    "        classifier = svm.LinearSVC()\n",
    "    else:\n",
    "        classifier = svm.LinearSVR()\n",
    "\n",
    "    grid_search = GridSearchCV(classifier, param_grid, cv=5)\n",
    "    grid_search.fit(feature_matrix[:, range(features_count)], feature_matrix[:, features_count])\n",
    "\n",
    "    table.add_row([model[1], 'Yes' if model[2] == 'history' else 'No', grid_search.best_params_])\n",
    "\n",
    "print(table)"
   ]
  },
  {
   "cell_type": "code",
   "execution_count": null,
   "metadata": {
    "collapsed": true
   },
   "outputs": [],
   "source": []
  }
 ],
 "metadata": {
  "kernelspec": {
   "display_name": "Python [default]",
   "language": "python",
   "name": "python2"
  },
  "language_info": {
   "codemirror_mode": {
    "name": "ipython",
    "version": 2
   },
   "file_extension": ".py",
   "mimetype": "text/x-python",
   "name": "python",
   "nbconvert_exporter": "python",
   "pygments_lexer": "ipython2",
   "version": "2.7.13"
  }
 },
 "nbformat": 4,
 "nbformat_minor": 2
}
