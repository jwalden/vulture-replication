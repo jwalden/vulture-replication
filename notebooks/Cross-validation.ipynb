{
 "cells": [
  {
   "cell_type": "markdown",
   "metadata": {},
   "source": [
    "### Cross Validation"
   ]
  },
  {
   "cell_type": "code",
   "execution_count": 1,
   "metadata": {},
   "outputs": [
    {
     "name": "stderr",
     "output_type": "stream",
     "text": [
      "/Users/Aurelio/Documents/Programmieren/BA/vulture-replication/venv/lib/python2.7/site-packages/sklearn/cross_validation.py:44: DeprecationWarning: This module was deprecated in version 0.18 in favor of the model_selection module into which all the refactored classes and functions are moved. Also note that the interface of the new CV iterators are different from that of this module. This module will be removed in 0.20.\n",
      "  \"This module will be removed in 0.20.\", DeprecationWarning)\n",
      "/Users/Aurelio/Documents/Programmieren/BA/vulture-replication/venv/lib/python2.7/site-packages/sklearn/grid_search.py:43: DeprecationWarning: This module was deprecated in version 0.18 in favor of the model_selection module into which all the refactored classes and functions are moved. This module will be removed in 0.20.\n",
      "  DeprecationWarning)\n"
     ]
    },
    {
     "name": "stdout",
     "output_type": "stream",
     "text": [
      "go\n",
      "{'C': 0.1}\n"
     ]
    }
   ],
   "source": [
    "%matplotlib inline\n",
    "import matplotlib.pyplot as plt\n",
    "\n",
    "from sklearn.model_selection import cross_val_score\n",
    "import numpy as np\n",
    "from sklearn.model_selection import train_test_split\n",
    "from sklearn import datasets\n",
    "from sklearn import svm\n",
    "from sklearn.grid_search import GridSearchCV\n",
    "from imports.matrix_helper import MatrixHelper\n",
    "\n",
    "matrix_helper = MatrixHelper()\n",
    "\n",
    "matrices = matrix_helper.load_from_parse('data/matrices/matrix_cla_incl_history.pickle')\n",
    "feature_matrix = matrices[0]\n",
    "#feature_matrix = feature_matrix[:100, :]\n",
    "features_count = feature_matrix.shape[1] - 1\n",
    "print('go')\n",
    "\n",
    "#param_grid = {'C': [0.01, 0.1, 1, 10], 'kernel': ['linear']}\n",
    "param_grid = {'C': [0.01, 0.1, 0.2, 1]}\n",
    "grid_search = GridSearchCV(svm.LinearSVC(), param_grid, cv=5)\n",
    "grid_search.fit(feature_matrix[:, range(features_count)], feature_matrix[:, features_count])\n",
    "print(grid_search.best_params_)\n"
   ]
  },
  {
   "cell_type": "code",
   "execution_count": null,
   "metadata": {
    "collapsed": true
   },
   "outputs": [],
   "source": []
  }
 ],
 "metadata": {
  "kernelspec": {
   "display_name": "Python 2",
   "language": "python",
   "name": "python2"
  },
  "language_info": {
   "codemirror_mode": {
    "name": "ipython",
    "version": 2
   },
   "file_extension": ".py",
   "mimetype": "text/x-python",
   "name": "python",
   "nbconvert_exporter": "python",
   "pygments_lexer": "ipython2",
   "version": "2.7.10"
  }
 },
 "nbformat": 4,
 "nbformat_minor": 2
}
