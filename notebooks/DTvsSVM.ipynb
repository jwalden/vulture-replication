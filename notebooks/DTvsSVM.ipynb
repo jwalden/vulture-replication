{
 "cells": [
  {
   "cell_type": "markdown",
   "metadata": {},
   "source": [
    "# Folgendes Skript zeigt die Laufzeitunterschiede zwischen DTs und SVMs"
   ]
  },
  {
   "cell_type": "code",
   "execution_count": null,
   "metadata": {
    "collapsed": false
   },
   "outputs": [],
   "source": [
    "%matplotlib inline\n",
    "import matplotlib.pyplot as plt\n",
    "import numpy as np\n",
    "import time\n",
    "from sklearn import svm\n",
    "from sklearn import tree\n",
    "\n",
    "from imports.matrix_helper import MatrixHelper\n",
    "from imports.prediction_helper import PredictionHelper\n",
    "from sklearn.metrics import precision_recall_curve\n",
    "\n",
    "matrix_helper = MatrixHelper()\n",
    "\n",
    "def predict(training_data, training_target, test_data, prediction_type):\n",
    "\n",
    "    start = time.time()\n",
    "\n",
    "    # Create the SVM or DT\n",
    "    if (prediction_type == 'svm'):\n",
    "        m = svm.SVC(kernel='linear', C=0.2)\n",
    "    elif (prediction_type == 'dt'):\n",
    "        m = tree.DecisionTreeClassifier()\n",
    "    else:\n",
    "        m = svm.LinearSVC(C=pen)\n",
    "\n",
    "    # Fit prediction_type to the model\n",
    "    m.fit(training_data, training_target)\n",
    "\n",
    "    # Predict remaining data\n",
    "    target_prediction = m.predict(test_data) \n",
    "\n",
    "    end = time.time()\n",
    "    elapsed = (end - start) / 60\n",
    "    \n",
    "    return target_prediction, elapsed, target_score\n",
    "    \n",
    "# Read pickle\n",
    "matrices = matrix_helper.load_from_parse('data/matrices/matrix_cla_incl_history.pickle')\n",
    "\n",
    "feature_matrix = matrices[0]\n",
    "# feature_matrix = feature_matrix[:1000, :]\n",
    "\n",
    "rows = matrices[1]\n",
    "columns = matrices[2]\n",
    "features_count = feature_matrix.shape[1] - 1\n",
    "\n",
    "# Create own matrices for vulenrable and not vulnerable entries\n",
    "vulnerable_matrix, vulnerable_rows = matrix_helper.get_vulnerable_components(feature_matrix, rows)\n",
    "not_vulnerable_matrix, not_vulnerable_rows = matrix_helper.get_not_vulnerable_components(feature_matrix, rows)\n",
    "\n",
    "\n",
    "# Split into training sets (2/3) and test sets (1/3)\n",
    "vulnerable_training, vulnerable_test = matrix_helper.split_training_test(vulnerable_matrix, (2.0/3), vulnerable_rows)\n",
    "not_vulnerable_training, not_vulnerable_test = matrix_helper.split_training_test(not_vulnerable_matrix, (2.0/3), not_vulnerable_rows)\n",
    "\n",
    "\n",
    "# Concatenate vulnerable/not-vulnerable\n",
    "training_matrix = np.concatenate((not_vulnerable_training[0], vulnerable_training[0]), axis=0)\n",
    "test_matrix = np.concatenate((not_vulnerable_test[0], vulnerable_test[0]), axis=0)\n",
    "test_rows = not_vulnerable_test[1] + vulnerable_test[1]\n",
    "\n",
    "\n",
    "# Split into training and target matrices\n",
    "training_data, training_target = matrix_helper.create_data_target(training_matrix)\n",
    "test_data, test_target = matrix_helper.create_data_target(test_matrix)\n",
    "\n",
    "\n",
    "# Train the classification model and predict vulnerrabilities for test data\n",
    "for clf in ['dt', 'SVLinear']:\n",
    "    target_prediction, elapsed_time = predict(training_data, training_target, test_data, clf)\n",
    "    \n",
    "    precision, recall, thresholds = precision_recall_curve(test_target, target_prediction)\n",
    "\n",
    "    print('|{}|{:^11.3f}|{:^8.3f}| {} |'.format(clf, precision[1], recall[1], elapsed_time))\n",
    "\n",
    "    "
   ]
  },
  {
   "cell_type": "markdown",
   "metadata": {
    "collapsed": true
   },
   "source": [
    "| Type            | Precision | Recall | Time |\n",
    "|-------------------------------------|-----------|--------|-----------------|\n",
    "|dt|   0.593   | 0.617  | 1.15047711531 |\n",
    "|svm|   0.775   | 0.602  | 9.84284751415 |\n",
    "|linsvm|   0.736   | 0.631  | 0.0606333851814 |"
   ]
  },
  {
   "cell_type": "markdown",
   "metadata": {},
   "source": [
    "# Folgendes Skript evaluiert den optimalen penalty parameter durch cross validation"
   ]
  },
  {
   "cell_type": "code",
   "execution_count": 17,
   "metadata": {
    "collapsed": false
   },
   "outputs": [
    {
     "name": "stdout",
     "output_type": "stream",
     "text": [
      "|0.1|   0.766   | 0.589  | 0.274146966139 | 0.943345036706 *| 0.936482903551 |\n",
      "|0.2|   0.742   | 0.607  | 0.273292501767 | 0.942068305139 | 0.936961372451 *|\n",
      "|0.3|   0.736   | 0.617  | 0.275732080142 | 0.942068305139 | 0.935844054015 |\n",
      "|0.4|   0.731   | 0.621  | 0.27314825058 | 0.941749122247 | 0.93520584091 |\n",
      "|0.5|   0.722   | 0.627  | 0.276482550303 | 0.941110756463 | 0.933929541986 |\n",
      "|0.6|   0.716   | 0.634  | 0.274782900016 | 0.940791573572 | 0.932812350836 |\n",
      "|0.7|   0.713   | 0.637  | 0.276337250074 | 0.940631982126 | 0.931057455727 |\n",
      "|0.8|   0.711   | 0.639  | 0.279982133706 | 0.94047239068 | 0.931217199932 |\n",
      "|0.9|   0.708   | 0.639  | 0.280481302738 | 0.940153207788 | 0.931536433771 |\n",
      "|1.0|   0.705   | 0.639  | 0.27504661878 | 0.93967443345 | 0.931855540324 |\n",
      "|1.1|   0.701   | 0.644  | 0.276677866777 | 0.939514842004 | 0.931536433771 |\n",
      "|1.2|   0.694   | 0.644  | 0.278191216787 | 0.938557293329 | 0.931536433771 |\n",
      "|1.3|   0.691   | 0.642  | 0.278110484282 | 0.938078518991 | 0.930578859541 |\n",
      "|1.4|   0.689   | 0.641  | 0.276055999597 | 0.9377593361 | 0.929461668391 |\n",
      "|1.5|   0.681   | 0.641  | 0.280992217859 | 0.936801787424 | 0.929142434553 |\n",
      "|1.6|   0.680   | 0.642  | 0.278634782632 | 0.936642195978 | 0.928823455286 |\n",
      "|1.7|   0.674   | 0.639  | 0.278937133153 | 0.935684647303 | 0.929142561839 |\n",
      "|1.8|   0.671   | 0.639  | 0.277717932065 | 0.935365464411 | 0.928983072206 |\n",
      "|1.9|   0.666   | 0.639  | 0.274567266305 | 0.934567507182 | 0.928504348734 |\n",
      "|2.0|   0.665   | 0.641  | 0.277725748221 | 0.934567507182 | 0.928025497976 |\n"
     ]
    },
    {
     "data": {
      "text/plain": [
       "[<matplotlib.lines.Line2D at 0x121d80cd0>]"
      ]
     },
     "execution_count": 17,
     "metadata": {},
     "output_type": "execute_result"
    },
    {
     "data": {
      "image/png": "[encoded data removed]",
      "text/plain": [
       "<matplotlib.figure.Figure at 0x115872a50>"
      ]
     },
     "metadata": {},
     "output_type": "display_data"
    }
   ],
   "source": [
    "%matplotlib inline\n",
    "import matplotlib.pyplot as plt\n",
    "import numpy as np\n",
    "import time\n",
    "from sklearn import svm\n",
    "from sklearn import tree\n",
    "\n",
    "from imports.matrix_helper import MatrixHelper\n",
    "from imports.prediction_helper import PredictionHelper\n",
    "from sklearn.metrics import precision_recall_curve\n",
    "from sklearn.model_selection import cross_val_score\n",
    "\n",
    "matrix_helper = MatrixHelper()\n",
    "\n",
    "def predict(training_data, training_target, test_data, test_target, pen):\n",
    "    prediction_type = 'SVLinear'\n",
    "    start = time.time()\n",
    "\n",
    "    # Create the SVM or DT\n",
    "    if (prediction_type == 'svm'):\n",
    "        m = svm.SVC(kernel='linear', C=0.2)\n",
    "    elif (prediction_type == 'dt'):\n",
    "        m = tree.DecisionTreeClassifier()\n",
    "    else:\n",
    "        m = svm.LinearSVC(C=pen)\n",
    "\n",
    "    # Fit prediction_type to the model\n",
    "    m.fit(training_data, training_target)\n",
    "\n",
    "    # Predict remaining data\n",
    "    target_prediction = m.predict(test_data)\n",
    "    target_score = m.score(test_data, test_target)\n",
    "    scores = cross_val_score(m, test_data, test_target, cv=5)\n",
    "    cross_score = scores.mean()\n",
    "\n",
    "    end = time.time()\n",
    "    elapsed = (end - start) / 60\n",
    "    \n",
    "    return target_prediction, elapsed, target_score, cross_score\n",
    "    \n",
    "# Read pickle\n",
    "matrices = matrix_helper.load_from_parse('data/matrices/matrix_cla_incl_history.pickle')\n",
    "\n",
    "feature_matrix = matrices[0]\n",
    "# feature_matrix = feature_matrix[:1000, :]\n",
    "\n",
    "rows = matrices[1]\n",
    "columns = matrices[2]\n",
    "features_count = feature_matrix.shape[1] - 1\n",
    "\n",
    "# Create own matrices for vulenrable and not vulnerable entries\n",
    "vulnerable_matrix, vulnerable_rows = matrix_helper.get_vulnerable_components(feature_matrix, rows)\n",
    "not_vulnerable_matrix, not_vulnerable_rows = matrix_helper.get_not_vulnerable_components(feature_matrix, rows)\n",
    "\n",
    "\n",
    "# Split into training sets (2/3) and test sets (1/3)\n",
    "vulnerable_training, vulnerable_test = matrix_helper.split_training_test(vulnerable_matrix, (2.0/3), vulnerable_rows)\n",
    "not_vulnerable_training, not_vulnerable_test = matrix_helper.split_training_test(not_vulnerable_matrix, (2.0/3), not_vulnerable_rows)\n",
    "\n",
    "\n",
    "# Concatenate vulnerable/not-vulnerable\n",
    "training_matrix = np.concatenate((not_vulnerable_training[0], vulnerable_training[0]), axis=0)\n",
    "test_matrix = np.concatenate((not_vulnerable_test[0], vulnerable_test[0]), axis=0)\n",
    "test_rows = not_vulnerable_test[1] + vulnerable_test[1]\n",
    "\n",
    "\n",
    "# Split into training and target matrices\n",
    "training_data, training_target = matrix_helper.create_data_target(training_matrix)\n",
    "test_data, test_target = matrix_helper.create_data_target(test_matrix)\n",
    "\n",
    "precision_list = []\n",
    "recall_list = []\n",
    "time_list = []\n",
    "score_list = []\n",
    "cross_score_list = []\n",
    "c_range = [(i+1)/10.0 for i in range(20)]\n",
    "# Train the classification model and predict vulnerrabilities for test data\n",
    "for pen in c_range:\n",
    "    target_prediction, elapsed_time, target_score, cross_score = predict(training_data, training_target, test_data, test_target, pen)\n",
    "    \n",
    "    precision, recall, thresholds = precision_recall_curve(test_target, target_prediction)\n",
    "    precision_list.append(precision[1])\n",
    "    recall_list.append(recall[1])\n",
    "    time_list.append(elapsed_time)\n",
    "    score_list.append(target_score)\n",
    "    cross_score_list.append(cross_score)\n",
    "\n",
    "index_highest_cross_score = cross_score_list.index(max(cross_score_list))\n",
    "index_highest_score = score_list.index(max(score_list))\n",
    "for i in range(len(c_range)):\n",
    "    if (i == index_highest_score):\n",
    "        print('|{}|{:^11.3f}|{:^8.3f}| {} | {} *| {} |'.format(\n",
    "            c_range[i], precision_list[i], recall_list[i], time_list[i], score_list[i], cross_score_list[i]))\n",
    "    elif (i == index_highest_cross_score):\n",
    "        print('|{}|{:^11.3f}|{:^8.3f}| {} | {} | {} *|'.format(\n",
    "            c_range[i], precision_list[i], recall_list[i], time_list[i], score_list[i], cross_score_list[i]))\n",
    "    else:\n",
    "        print('|{}|{:^11.3f}|{:^8.3f}| {} | {} | {} |'.format(\n",
    "            c_range[i], precision_list[i], recall_list[i], time_list[i], score_list[i], cross_score_list[i]))\n",
    "\n",
    "    \n",
    "plt.plot(c_range, precision_list)\n",
    "plt.plot(c_range, recall_list)"
   ]
  },
  {
   "cell_type": "code",
   "execution_count": null,
   "metadata": {
    "collapsed": true
   },
   "outputs": [],
   "source": []
  }
 ],
 "metadata": {
  "kernelspec": {
   "display_name": "Python [default]",
   "language": "python",
   "name": "python2"
  },
  "language_info": {
   "codemirror_mode": {
    "name": "ipython",
    "version": 2
   },
   "file_extension": ".py",
   "mimetype": "text/x-python",
   "name": "python",
   "nbconvert_exporter": "python",
   "pygments_lexer": "ipython2",
   "version": "2.7.9"
  }
 },
 "nbformat": 4,
 "nbformat_minor": 2
}
