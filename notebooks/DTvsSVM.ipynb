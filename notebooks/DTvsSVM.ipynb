{
 "cells": [
  {
   "cell_type": "code",
   "execution_count": 19,
   "metadata": {
    "collapsed": false
   },
   "outputs": [
    {
     "name": "stdout",
     "output_type": "stream",
     "text": [
      "|0.1|   0.763   | 0.572  | 0.066895699501 |\n",
      "|0.2|   0.746   | 0.616  | 0.0697734634082 |\n",
      "|0.3|   0.720   | 0.626  | 0.0685393691063 |\n",
      "|0.4|   0.717   | 0.629  | 0.070984351635 |\n",
      "|0.5|   0.716   | 0.637  | 0.0697925488154 |\n",
      "|0.6|   0.715   | 0.644  | 0.0727947831154 |\n",
      "|0.7|   0.711   | 0.646  | 0.0760615468025 |\n",
      "|0.8|   0.706   | 0.656  | 0.0735679507256 |\n",
      "|0.9|   0.696   | 0.654  | 0.0729159156481 |\n",
      "|1.0|   0.688   | 0.654  | 0.0715878685315 |\n",
      "|1.1|   0.687   | 0.657  | 0.0715747316678 |\n",
      "|1.2|   0.678   | 0.656  | 0.0731337507566 |\n",
      "|1.3|   0.674   | 0.657  | 0.0725271026293 |\n",
      "|1.4|   0.671   | 0.659  | 0.0735782980919 |\n",
      "|1.5|   0.667   | 0.661  | 0.0750417510668 |\n",
      "|1.6|   0.666   | 0.662  | 0.0765332341194 |\n",
      "|1.7|   0.666   | 0.666  | 0.0762777964274 |\n",
      "|1.8|   0.661   | 0.666  | 0.0724255681038 |\n",
      "|1.9|   0.658   | 0.664  | 0.073288333416 |\n",
      "|2.0|   0.653   | 0.666  | 0.0832397023837 |\n"
     ]
    },
    {
     "data": {
      "text/plain": [
       "[<matplotlib.lines.Line2D at 0x11bca7a50>]"
      ]
     },
     "execution_count": 19,
     "metadata": {},
     "output_type": "execute_result"
    },
    {
     "data": {
      "image/png": "[encoded data removed]",
      "text/plain": [
       "<matplotlib.figure.Figure at 0x125ca8190>"
      ]
     },
     "metadata": {},
     "output_type": "display_data"
    }
   ],
   "source": [
    "%matplotlib inline\n",
    "import matplotlib.pyplot as plt\n",
    "import numpy as np\n",
    "import time\n",
    "from sklearn import svm\n",
    "from sklearn import tree\n",
    "\n",
    "from imports.matrix_helper import MatrixHelper\n",
    "from imports.prediction_helper import PredictionHelper\n",
    "from sklearn.metrics import precision_recall_curve\n",
    "\n",
    "matrix_helper = MatrixHelper()\n",
    "\n",
    "def predict(training_data, training_target, test_data, pen):\n",
    "    prediction_type = 'SVLinear'\n",
    "    start = time.time()\n",
    "\n",
    "    # Create the SVM or DT\n",
    "    if (prediction_type == 'svm'):\n",
    "        m = svm.SVC(kernel='linear', C=0.2)\n",
    "    elif (prediction_type == 'dt'):\n",
    "        m = tree.DecisionTreeClassifier()\n",
    "    else:\n",
    "        m = svm.LinearSVC(C=pen)\n",
    "\n",
    "    # Fit prediction_type to the model\n",
    "    m.fit(training_data, training_target)\n",
    "\n",
    "    # Predict remaining data\n",
    "    target_prediction = m.predict(test_data)\n",
    "\n",
    "    end = time.time()\n",
    "    elapsed = (end - start) / 60\n",
    "    \n",
    "    return target_prediction, elapsed\n",
    "    \n",
    "# Read pickle\n",
    "matrices = matrix_helper.load_from_parse('data/matrices/matrix_cla_incl_history.pickle')\n",
    "\n",
    "feature_matrix = matrices[0]\n",
    "# feature_matrix = feature_matrix[:1000, :]\n",
    "\n",
    "rows = matrices[1]\n",
    "columns = matrices[2]\n",
    "features_count = feature_matrix.shape[1] - 1\n",
    "\n",
    "# Create own matrices for vulenrable and not vulnerable entries\n",
    "vulnerable_matrix, vulnerable_rows = matrix_helper.get_vulnerable_components(feature_matrix, rows)\n",
    "not_vulnerable_matrix, not_vulnerable_rows = matrix_helper.get_not_vulnerable_components(feature_matrix, rows)\n",
    "\n",
    "\n",
    "# Split into training sets (2/3) and test sets (1/3)\n",
    "vulnerable_training, vulnerable_test = matrix_helper.split_training_test(vulnerable_matrix, (2.0/3), vulnerable_rows)\n",
    "not_vulnerable_training, not_vulnerable_test = matrix_helper.split_training_test(not_vulnerable_matrix, (2.0/3), not_vulnerable_rows)\n",
    "\n",
    "\n",
    "# Concatenate vulnerable/not-vulnerable\n",
    "training_matrix = np.concatenate((not_vulnerable_training[0], vulnerable_training[0]), axis=0)\n",
    "test_matrix = np.concatenate((not_vulnerable_test[0], vulnerable_test[0]), axis=0)\n",
    "test_rows = not_vulnerable_test[1] + vulnerable_test[1]\n",
    "\n",
    "\n",
    "# Split into training and target matrices\n",
    "training_data, training_target = matrix_helper.create_data_target(training_matrix)\n",
    "test_data, test_target = matrix_helper.create_data_target(test_matrix)\n",
    "\n",
    "precision_list = []\n",
    "recall_list = []\n",
    "c_range = [(i+1)/10.0 for i in range(20)]\n",
    "# Train the classification model and predict vulnerrabilities for test data\n",
    "for pen in c_range:\n",
    "    target_prediction, elapsed_time = predict(training_data, training_target, test_data, pen)\n",
    "    \n",
    "    precision, recall, thresholds = precision_recall_curve(test_target, target_prediction)\n",
    "    precision_list.append(precision[1])\n",
    "    recall_list.append(recall[1])\n",
    "    print('|{}|{:^11.3f}|{:^8.3f}| {} |'.format(pen, precision[1], recall[1], elapsed_time))\n",
    "\n",
    "    \n",
    "plt.plot(c_range, precision_list)\n",
    "plt.plot(c_range, recall_list)\n",
    "plt.plot(c_range, [x + y for x, y in zip(precision_list, recall_list)])"
   ]
  },
  {
   "cell_type": "markdown",
   "metadata": {
    "collapsed": true
   },
   "source": [
    "| Type            | Precision | Recall | Time |\n",
    "|-------------------------------------|-----------|--------|-----------------|\n",
    "|dt|   0.593   | 0.617  | 1.15047711531 |\n",
    "|svm|   0.775   | 0.602  | 9.84284751415 |\n",
    "|linsvm|   0.736   | 0.631  | 0.0606333851814 |"
   ]
  },
  {
   "cell_type": "code",
   "execution_count": null,
   "metadata": {
    "collapsed": true
   },
   "outputs": [],
   "source": []
  },
  {
   "cell_type": "raw",
   "metadata": {},
   "source": []
  }
 ],
 "metadata": {
  "kernelspec": {
   "display_name": "Python [default]",
   "language": "python",
   "name": "python2"
  },
  "language_info": {
   "codemirror_mode": {
    "name": "ipython",
    "version": 2
   },
   "file_extension": ".py",
   "mimetype": "text/x-python",
   "name": "python",
   "nbconvert_exporter": "python",
   "pygments_lexer": "ipython2",
   "version": "2.7.9"
  }
 },
 "nbformat": 4,
 "nbformat_minor": 2
}
