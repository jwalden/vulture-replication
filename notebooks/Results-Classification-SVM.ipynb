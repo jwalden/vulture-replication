{
 "cells": [
  {
   "cell_type": "markdown",
   "metadata": {},
   "source": [
    "### Precision/Recall Replication\n",
    "* Zweck: Replikation des Kapitel \"Classification\" aus dem Paper \"Predicting Vulnerable Software Components\"\n",
    "* Matrix: Aktueller Stand \"current\" des mozilla-central Repository\n",
    "* Features: includes\n",
    "* Modell: Support Vector Machine Classifier\n",
    "\n",
    "#### Setup\n",
    "* Training-Set/Test-Set: Stratified sampling auf einer Matrix (2/3 : 1/3)\n",
    "\n",
    "#### Results\n",
    "Das Skript macht auf n verschiedenen Datensets eine Vorhersage und berechnet Precision und Recall. Diese werden im Scatterplot dargestellt und der deren Durchschnitt im print.\n",
    "* Resultat Plot: Scatterplot Precision vs. Recall und Durchsch\n",
    "* Resultat Print: Durchschnitt Precision vs. Recall über n Datensets"
   ]
  },
  {
   "cell_type": "code",
   "execution_count": 2,
   "metadata": {
    "collapsed": false
   },
   "outputs": [
    {
     "name": "stdout",
     "output_type": "stream",
     "text": [
      "Average of 40 Experiments:\n",
      "Precision: 0.56\n",
      "Recall: 0.40\n"
     ]
    },
    {
     "data": {
      "image/png": "[encoded data removed]",
      "text/plain": [
       "<matplotlib.figure.Figure at 0x117ea9cd0>"
      ]
     },
     "metadata": {},
     "output_type": "display_data"
    }
   ],
   "source": [
    "%matplotlib inline\n",
    "import matplotlib.pyplot as plt\n",
    "import numpy as np\n",
    "\n",
    "from imports.matrix_helper import MatrixHelper\n",
    "from imports.prediction_helper import PredictionHelper\n",
    "from sklearn.metrics import precision_recall_curve\n",
    "\n",
    "matrix_helper = MatrixHelper()\n",
    "experiments_count = 40\n",
    "\n",
    "# Read pickle\n",
    "matrices = matrix_helper.load_from_parse('data/matrices/matrix_cla_incl_current.pickle')\n",
    "\n",
    "precision_list = []\n",
    "recall_list = []\n",
    "for i in range(experiments_count):\n",
    "    # Instantiate Prediction Helper Class and predict values for compare matrix with an SVM\n",
    "    prediction_helper = PredictionHelper()\n",
    "    prediction_helper.calculate_validation_compare_matrix(matrices, sampling_factor=(2.0/3), prediction_type='LinearSVC', crop_matrix=False)\n",
    "    compare_matrix = prediction_helper.get_compare_matrix()\n",
    "\n",
    "    # Compute Precision-Recall\n",
    "    precision, recall, thresholds = precision_recall_curve(np.array(compare_matrix[:, 2], dtype='f'), np.array(compare_matrix[:, 1], dtype='f'))\n",
    "\n",
    "    precision_list.append(precision[1])\n",
    "    recall_list.append(recall[1])\n",
    "\n",
    "\n",
    "# plot\n",
    "fig = plt.figure()\n",
    "plt.scatter(recall_list, precision_list, edgecolor='black', linewidth='1', facecolor='white')\n",
    "fig.suptitle('Precision and Recall')\n",
    "plt.xlabel('Recall')\n",
    "plt.ylabel('Precision')\n",
    "fig.savefig('outputs/includes-current-precision-recall.pdf')\n",
    "\n",
    "# print\n",
    "precision_average = sum(precision_list) / float(len(precision_list))\n",
    "recall_average = float(sum(recall_list)) / len(recall_list)\n",
    "print('Average of {} Experiments:'.format(experiments_count))\n",
    "print('Precision: {:.2f}'.format(precision_average))\n",
    "print('Recall: {:.2f}'.format(recall_average))"
   ]
  },
  {
   "cell_type": "code",
   "execution_count": null,
   "metadata": {
    "collapsed": true
   },
   "outputs": [],
   "source": []
  }
 ],
 "metadata": {
  "kernelspec": {
   "display_name": "Python [default]",
   "language": "python",
   "name": "python2"
  },
  "language_info": {
   "codemirror_mode": {
    "name": "ipython",
    "version": 2
   },
   "file_extension": ".py",
   "mimetype": "text/x-python",
   "name": "python",
   "nbconvert_exporter": "python",
   "pygments_lexer": "ipython2",
   "version": "2.7.13"
  }
 },
 "nbformat": 4,
 "nbformat_minor": 2
}
