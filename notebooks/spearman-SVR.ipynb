{
 "cells": [
  {
   "cell_type": "markdown",
   "metadata": {},
   "source": [
    "# Bestimmen des Spearman’s rank correlation coefficient "
   ]
  },
  {
   "cell_type": "code",
   "execution_count": 30,
   "metadata": {
    "collapsed": false,
    "scrolled": false
   },
   "outputs": [
    {
     "name": "stdout",
     "output_type": "stream",
     "text": [
      "Spearman correlation coefficient: 0.896077436954\n",
      "-----------------\n",
      " 1. nsDocument                Predicted: 65.0  Ranking: 1 \t Actual:  67  Ranking: 2\n",
      " 2. nsDocument                Predicted: 62.0  Ranking: 2 \t Actual:  62  Ranking: 4\n",
      " 3. nsDocument                Predicted: 60.0  Ranking: 3 \t Actual:  60  Ranking: 6\n",
      " 4. nsGlobalWindow            Predicted: 60.0  Ranking: 3 \t Actual:  63  Ranking: 3\n",
      " 5. nsGlobalWindow            Predicted: 59.0  Ranking: 5 \t Actual:  61  Ranking: 5\n",
      " 6. nsGlobalWindow            Predicted: 59.0  Ranking: 5 \t Actual:  60  Ranking: 6\n",
      " 7. nsGlobalWindow            Predicted: 56.0  Ranking: 7 \t Actual:  57  Ranking: 8\n",
      " 8. nsGlobalWindow            Predicted: 52.0  Ranking: 8 \t Actual:  54  Ranking: 9\n",
      " 9. nsGlobalWindow            Predicted: 51.0  Ranking: 9 \t Actual:  53  Ranking: 10\n",
      "10. nsGlobalWindow            Predicted: 48.0  Ranking: 10 \t Actual:  45  Ranking: 14\n",
      "11. nsDOMClassInfo            Predicted: 44.0  Ranking: 11 \t Actual:  51  Ranking: 12\n",
      "12. nsDocShell                Predicted: 42.0  Ranking: 12 \t Actual:  43  Ranking: 15\n",
      "13. nsContentUtils            Predicted: 42.0  Ranking: 12 \t Actual:  53  Ranking: 10\n",
      "14. nsContentUtils            Predicted: 40.0  Ranking: 14 \t Actual:  51  Ranking: 12\n",
      "15. nsDocShell                Predicted: 38.0  Ranking: 15 \t Actual:  36  Ranking: 22\n",
      "16. jsobj                     Predicted: 37.0  Ranking: 16 \t Actual:  42  Ranking: 17\n",
      "17. jsobj                     Predicted: 37.0  Ranking: 16 \t Actual:  43  Ranking: 15\n",
      "18. nsDOMClassInfo            Predicted: 37.0  Ranking: 16 \t Actual:  38  Ranking: 20\n",
      "19. jsapi                     Predicted: 36.0  Ranking: 19 \t Actual:  36  Ranking: 22\n",
      "20. nsCSSFrameConstructor     Predicted: 36.0  Ranking: 19 \t Actual:  37  Ranking: 21\n",
      "21. nsGlobalWindow            Predicted: 34.0  Ranking: 21 \t Actual:  42  Ranking: 17\n",
      "22. nsCSSFrameConstructor     Predicted: 34.0  Ranking: 21 \t Actual:  34  Ranking: 26\n",
      "23. nsGlobalWindow            Predicted: 34.0  Ranking: 21 \t Actual:  36  Ranking: 22\n",
      "24. jsapi                     Predicted: 33.0  Ranking: 24 \t Actual:  33  Ranking: 27\n",
      "25. nsDOMClassInfo            Predicted: 32.0  Ranking: 25 \t Actual:  33  Ranking: 27\n",
      "26. jsapi                     Predicted: 31.0  Ranking: 26 \t Actual:  29  Ranking: 33\n",
      "27. jsobj                     Predicted: 31.0  Ranking: 26 \t Actual:  36  Ranking: 22\n",
      "28. jsobj                     Predicted: 30.0  Ranking: 28 \t Actual:  32  Ranking: 29\n",
      "29. nsGlobalWindow            Predicted: 30.0  Ranking: 28 \t Actual:  29  Ranking: 33\n",
      "30. nsCSSFrameConstructor     Predicted: 29.0  Ranking: 30 \t Actual:  30  Ranking: 32\n",
      "31. nsGlobalWindow            Predicted: 29.0  Ranking: 30 \t Actual:  28  Ranking: 36\n",
      "32. nsCSSFrameConstructor     Predicted: 28.0  Ranking: 32 \t Actual:  29  Ranking: 33\n",
      "33. nsCSSFrameConstructor     Predicted: 28.0  Ranking: 32 \t Actual:  28  Ranking: 36\n",
      "34. nsDocShell                Predicted: 27.0  Ranking: 34 \t Actual:  31  Ranking: 30\n",
      "35. jsobj                     Predicted: 26.0  Ranking: 35 \t Actual:  31  Ranking: 30\n",
      "36. nsCSSFrameConstructor     Predicted: 26.0  Ranking: 35 \t Actual:  39  Ranking: 19\n",
      "37. nsGlobalWindow            Predicted: 26.0  Ranking: 35 \t Actual:  26  Ranking: 39\n",
      "38. nsCSSFrameConstructor     Predicted: 25.0  Ranking: 38 \t Actual:  23  Ranking: 42\n",
      "39. nsWindow                  Predicted: 24.0  Ranking: 39 \t Actual:  25  Ranking: 40\n",
      "40. nsDOMClassInfo            Predicted: 23.0  Ranking: 40 \t Actual:  28  Ranking: 36\n",
      "41. xpcprivate                Predicted: 22.0  Ranking: 41 \t Actual:  22  Ranking: 43\n",
      "42. nsDOMClassInfo            Predicted: 22.0  Ranking: 41 \t Actual:  22  Ranking: 43\n",
      "43. nsCSSFrameConstructor     Predicted: 21.0  Ranking: 43 \t Actual:  19  Ranking: 48\n",
      "44. jsgc                      Predicted: 21.0  Ranking: 43 \t Actual:  18  Ranking: 52\n",
      "45. nsObjectLoadingContent    Predicted: 21.0  Ranking: 43 \t Actual:  22  Ranking: 43\n",
      "46. nsCSSFrameConstructor     Predicted: 21.0  Ranking: 43 \t Actual:  16  Ranking: 54\n",
      "47. xpcprivate                Predicted: 21.0  Ranking: 43 \t Actual:  24  Ranking: 41\n",
      "48. nsDocShell                Predicted: 21.0  Ranking: 43 \t Actual:  20  Ranking: 47\n",
      "49. nsDocShell                Predicted: 20.0  Ranking: 49 \t Actual:  19  Ranking: 48\n",
      "50. nsWindow                  Predicted: 20.0  Ranking: 49 \t Actual:  21  Ranking: 46\n",
      "51. nsCSSFrameConstructor     Predicted: 20.0  Ranking: 49 \t Actual:   8  Ranking: 1\n",
      "52. nsCSSFrameConstructor     Predicted: 20.0  Ranking: 49 \t Actual:  10  Ranking: 59\n",
      "53. jsgc                      Predicted: 19.0  Ranking: 53 \t Actual:  16  Ranking: 54\n",
      "54. jscompartment             Predicted: 19.0  Ranking: 53 \t Actual:  19  Ranking: 48\n",
      "55. nsDocShell                Predicted: 19.0  Ranking: 53 \t Actual:  17  Ranking: 53\n",
      "56. xpcprivate                Predicted: 18.0  Ranking: 56 \t Actual:  11  Ranking: 58\n",
      "57. nsDOMClassInfo            Predicted: 18.0  Ranking: 56 \t Actual:  15  Ranking: 56\n",
      "58. xpcprivate                Predicted: 18.0  Ranking: 56 \t Actual:  12  Ranking: 57\n",
      "59. nsDOMClassInfo            Predicted: 18.0  Ranking: 56 \t Actual:  19  Ranking: 48\n"
     ]
    }
   ],
   "source": [
    "from imports.matrix_helper import MatrixHelper\n",
    "from imports.svr_helper import SVRHelper\n",
    "from scipy.stats import rankdata\n",
    "from scipy.stats import spearmanr\n",
    "\n",
    "matrix_helper = MatrixHelper()\n",
    "matrices = matrix_helper.load_from_parse('data/semiannual/matrix_regression_2017-03-09.pickle')\n",
    "\n",
    "# Instantiate SVR Helper Class and predict values for compare matrix\n",
    "svr_helper = SVRHelper()\n",
    "svr_helper.calculate_validation_compare_matrix(matrices)\n",
    "compare_matrix = svr_helper.get_compare_matrix_top()\n",
    "\n",
    "# Create ranking for Spearman's rank correlation coefficient \n",
    "predicted_ranking = len(compare_matrix[:, 1]) - rankdata(compare_matrix[:, 1], method='max') + 1\n",
    "actual_ranking = len(compare_matrix[:, 2]) - rankdata(compare_matrix[:, 2], method='max') + 1\n",
    "\n",
    "# Calculate Spearman's correlation coefficient\n",
    "coefficient = spearmanr(predicted_ranking, actual_ranking)\n",
    "print('Spearman correlation coefficient: {}'.format(coefficient[0]))\n",
    "print('-----------------')\n",
    "for i in range(len(compare_matrix[:, 0])):\n",
    "    component = compare_matrix[i,:]\n",
    "    print(\"{:>2}. {:25} Predicted: {:>3}  Ranking: {:>1} \\t Actual: {:>3}  Ranking: {:>1}\".format(\n",
    "        i+1, component[0], component[1], predicted_ranking[i], component[2], actual_ranking[i]))"
   ]
  },
  {
   "cell_type": "code",
   "execution_count": null,
   "metadata": {
    "collapsed": true
   },
   "outputs": [],
   "source": []
  }
 ],
 "metadata": {
  "kernelspec": {
   "display_name": "Python [conda root]",
   "language": "python",
   "name": "conda-root-py"
  },
  "language_info": {
   "codemirror_mode": {
    "name": "ipython",
    "version": 2
   },
   "file_extension": ".py",
   "mimetype": "text/x-python",
   "name": "python",
   "nbconvert_exporter": "python",
   "pygments_lexer": "ipython2",
   "version": "2.7.13"
  }
 },
 "nbformat": 4,
 "nbformat_minor": 2
}
