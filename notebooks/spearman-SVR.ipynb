{
 "cells": [
  {
   "cell_type": "markdown",
   "metadata": {},
   "source": [
    "# Bestimmen des Spearman’s rank correlation coefficient "
   ]
  },
  {
   "cell_type": "code",
   "execution_count": 36,
   "metadata": {
    "collapsed": false
   },
   "outputs": [
    {
     "name": "stdout",
     "output_type": "stream",
     "text": [
      "1 - 1 = 0\n",
      "2 - 2 = 0\n",
      "2 - 3 = -1\n",
      "4 - 4 = 0\n",
      "4 - 5 = -1\n",
      "6 - 6 = 0\n",
      "7 - 7 = 0\n",
      "8 - 8 = 0\n",
      "12 - 9 = 3\n",
      "13 - 9 = 4\n",
      "14 - 11 = 3\n",
      "16 - 12 = 4\n",
      "15 - 13 = 2\n",
      "19 - 14 = 5\n",
      "10 - 15 = -5\n",
      "19 - 15 = 4\n",
      "17 - 15 = 2\n",
      "11 - 15 = -4\n",
      "22 - 19 = 3\n",
      "26 - 20 = 6\n",
      "1.25\n"
     ]
    }
   ],
   "source": [
    "from imports.matrix_helper import MatrixHelper\n",
    "from imports.prediction_helper import PredictionHelper\n",
    "from scipy.stats import rankdata\n",
    "from scipy.stats import spearmanr\n",
    "import numpy as np\n",
    "\n",
    "matrix_helper = MatrixHelper()\n",
    "matrices = matrix_helper.load_from_parse('data/semiannual/matrix_regression_2017-03-09.pickle')\n",
    "\n",
    "# Instantiate Prediction Helper Class and predict values for compare matrix\n",
    "prediction_helper = PredictionHelper()\n",
    "prediction_helper.calculate_validation_compare_matrix(matrices, sampling_factor=(2.0/3), prediction_type='SVR', crop_matrix=False)\n",
    "compare_matrix = prediction_helper.get_compare_matrix_sorted()\n",
    "\n",
    "# Create ranking for Spearman's rank correlation coefficient \n",
    "predicted_ranking = len(compare_matrix[:, 1]) - rankdata(np.array(compare_matrix[:,1], dtype='f'), method='max') + 1\n",
    "actual_ranking = len(compare_matrix[:, 2]) - rankdata(np.array(compare_matrix[:,2], dtype='f'), method='max') + 1\n",
    "\n",
    "diff = np.subtract(actual_ranking, predicted_ranking)\n",
    "#print(predicted_ranking)\n",
    "#print(actual_ranking)\n",
    "#print(diff)\n",
    "\n",
    "counter = 0\n",
    "for i in range(20):\n",
    "    print('{} - {} = {}'.format(actual_ranking[i], predicted_ranking[i], diff[i]))\n",
    "    counter += diff[i]\n",
    "print(counter/20.0)\n",
    "\n",
    "# Calculate Spearman's correlation coefficient\n",
    "#coefficient = spearmanr(predicted_ranking, actual_ranking)\n",
    "#print('Spearman correlation coefficient: {}'.format(coefficient[0]))\n",
    "#print('-----------------')\n",
    "#for i in range(len(compare_matrix[:, 0])):\n",
    "#    component = compare_matrix[i,:]\n",
    "#    print(\"{:>2}. {:25} Predicted: {:>3}  Ranking: {:>1} \\t Actual: {:>3}  Ranking: {:>1}\".format(\n",
    "#        i+1, component[0], component[1], predicted_ranking[i], component[2], actual_ranking[i]))"
   ]
  },
  {
   "cell_type": "code",
   "execution_count": 16,
   "metadata": {
    "collapsed": false
   },
   "outputs": [
    {
     "name": "stdout",
     "output_type": "stream",
     "text": [
      "Spearman correlation coefficient: 0.862752588734\n",
      "-----------------\n",
      " 1. nsDocument                Predicted: 63.0  Ranking: 1 \t Actual:  65  Ranking: 2\n",
      " 2. nsDocument                Predicted: 62.0  Ranking: 2 \t Actual:  63  Ranking: 4\n",
      " 3. nsDocument                Predicted: 62.0  Ranking: 2 \t Actual:  64  Ranking: 3\n",
      " 4. nsGlobalWindow            Predicted: 59.0  Ranking: 4 \t Actual:  62  Ranking: 6\n",
      " 5. nsGlobalWindow            Predicted: 58.0  Ranking: 5 \t Actual:  63  Ranking: 4\n",
      " 6. nsDocument                Predicted: 58.0  Ranking: 5 \t Actual:  58  Ranking: 7\n",
      " 7. nsDocument                Predicted: 57.0  Ranking: 7 \t Actual:  57  Ranking: 8\n",
      " 8. nsGlobalWindow            Predicted: 56.0  Ranking: 8 \t Actual:  57  Ranking: 8\n",
      " 9. nsDocument                Predicted: 51.0  Ranking: 9 \t Actual:  54  Ranking: 10\n",
      "10. nsDocument                Predicted: 49.0  Ranking: 10 \t Actual:  53  Ranking: 11\n",
      "11. nsDocShell                Predicted: 46.0  Ranking: 11 \t Actual:  45  Ranking: 14\n",
      "12. nsContentUtils            Predicted: 41.0  Ranking: 12 \t Actual:  53  Ranking: 11\n",
      "13. nsDocShell                Predicted: 40.0  Ranking: 13 \t Actual:  41  Ranking: 15\n",
      "14. jsobj                     Predicted: 40.0  Ranking: 13 \t Actual:  37  Ranking: 19\n",
      "15. nsDOMClassInfo            Predicted: 39.0  Ranking: 15 \t Actual:  38  Ranking: 16\n",
      "16. nsDOMClassInfo            Predicted: 39.0  Ranking: 15 \t Actual:  37  Ranking: 19\n",
      "17. nsContentUtils            Predicted: 38.0  Ranking: 17 \t Actual:  52  Ranking: 13\n",
      "18. nsCSSFrameConstructor     Predicted: 35.0  Ranking: 18 \t Actual:  34  Ranking: 24\n",
      "19. jsapi                     Predicted: 35.0  Ranking: 18 \t Actual:  38  Ranking: 16\n",
      "20. nsGlobalWindow            Predicted: 34.0  Ranking: 20 \t Actual:  36  Ranking: 22\n",
      "21. nsGlobalWindow            Predicted: 34.0  Ranking: 20 \t Actual:  37  Ranking: 19\n",
      "22. nsDOMClassInfo            Predicted: 33.0  Ranking: 22 \t Actual:  35  Ranking: 23\n",
      "23. nsGlobalWindow            Predicted: 33.0  Ranking: 22 \t Actual:  33  Ranking: 25\n",
      "24. nsDOMClassInfo            Predicted: 32.0  Ranking: 24 \t Actual:  31  Ranking: 29\n",
      "25. nsDocShell                Predicted: 31.0  Ranking: 25 \t Actual:  32  Ranking: 27\n",
      "26. nsGlobalWindow            Predicted: 30.0  Ranking: 26 \t Actual:  29  Ranking: 35\n",
      "27. nsCSSFrameConstructor     Predicted: 29.0  Ranking: 27 \t Actual:  30  Ranking: 32\n",
      "28. nsCSSFrameConstructor     Predicted: 28.0  Ranking: 28 \t Actual:  29  Ranking: 35\n",
      "29. nsDocShell                Predicted: 28.0  Ranking: 28 \t Actual:  31  Ranking: 29\n",
      "30. nsGlobalWindow            Predicted: 27.0  Ranking: 30 \t Actual:  28  Ranking: 38\n",
      "31. nsCSSFrameConstructor     Predicted: 27.0  Ranking: 30 \t Actual:  27  Ranking: 39\n",
      "32. nsCSSFrameConstructor     Predicted: 26.0  Ranking: 32 \t Actual:  38  Ranking: 16\n",
      "33. nsGlobalWindow            Predicted: 26.0  Ranking: 32 \t Actual:  27  Ranking: 39\n",
      "34. nsCSSFrameConstructor     Predicted: 25.0  Ranking: 34 \t Actual:  23  Ranking: 43\n",
      "35. jsobj                     Predicted: 25.0  Ranking: 34 \t Actual:  33  Ranking: 25\n",
      "36. nsGlobalWindow            Predicted: 25.0  Ranking: 34 \t Actual:  25  Ranking: 42\n",
      "37. jsobj                     Predicted: 25.0  Ranking: 34 \t Actual:  26  Ranking: 41\n",
      "38. nsDOMClassInfo            Predicted: 24.0  Ranking: 38 \t Actual:  30  Ranking: 32\n",
      "39. nsDOMClassInfo            Predicted: 24.0  Ranking: 38 \t Actual:  29  Ranking: 35\n",
      "40. nsDocShell                Predicted: 24.0  Ranking: 38 \t Actual:  21  Ranking: 47\n",
      "41. nsDOMClassInfo            Predicted: 23.0  Ranking: 41 \t Actual:  23  Ranking: 43\n",
      "42. nsCSSFrameConstructor     Predicted: 22.0  Ranking: 42 \t Actual:  19  Ranking: 55\n",
      "43. nsDocShell                Predicted: 21.0  Ranking: 43 \t Actual:  20  Ranking: 50\n",
      "44. jsgc                      Predicted: 21.0  Ranking: 43 \t Actual:  32  Ranking: 27\n",
      "45. nsObjectLoadingContent    Predicted: 21.0  Ranking: 43 \t Actual:  23  Ranking: 43\n",
      "46. nsGlobalWindow            Predicted: 21.0  Ranking: 43 \t Actual:  22  Ranking: 46\n",
      "47. nsWindow                  Predicted: 20.0  Ranking: 47 \t Actual:  21  Ranking: 47\n",
      "48. jsgc                      Predicted: 20.0  Ranking: 47 \t Actual:  31  Ranking: 29\n",
      "49. nsDOMClassInfo            Predicted: 20.0  Ranking: 47 \t Actual:  21  Ranking: 47\n",
      "50. nsCSSFrameConstructor     Predicted: 20.0  Ranking: 47 \t Actual:   8  Ranking: 1\n",
      "51. nsCSSFrameConstructor     Predicted: 20.0  Ranking: 47 \t Actual:   3  Ranking: 34\n",
      "52. nsGlobalWindow            Predicted: 19.0  Ranking: 52 \t Actual:  15  Ranking: 59\n",
      "53. jsapi                     Predicted: 19.0  Ranking: 52 \t Actual:  20  Ranking: 50\n",
      "54. nsGlobalWindow            Predicted: 19.0  Ranking: 52 \t Actual:  20  Ranking: 50\n",
      "55. xpcprivate                Predicted: 19.0  Ranking: 52 \t Actual:  20  Ranking: 50\n",
      "56. nsGlobalWindow            Predicted: 19.0  Ranking: 52 \t Actual:  16  Ranking: 58\n",
      "57. jscompartment             Predicted: 19.0  Ranking: 52 \t Actual:  19  Ranking: 55\n",
      "58. nsDOMClassInfo            Predicted: 19.0  Ranking: 52 \t Actual:  20  Ranking: 50\n",
      "59. jsgc                      Predicted: 18.0  Ranking: 59 \t Actual:  18  Ranking: 57\n"
     ]
    }
   ],
   "source": [
    "from imports.matrix_helper import MatrixHelper\n",
    "from imports.prediction_helper import PredictionHelper\n",
    "from scipy.stats import rankdata\n",
    "from scipy.stats import spearmanr\n",
    "\n",
    "matrix_helper = MatrixHelper()\n",
    "matrices = matrix_helper.load_from_parse('data/semiannual/matrix_regression_2017-03-09.pickle')\n",
    "\n",
    "# Instantiate Prediction Helper Class and predict values for compare matrix\n",
    "prediction_helper = PredictionHelper()\n",
    "prediction_helper.calculate_validation_compare_matrix(matrices, sampling_factor=(2.0/3), prediction_type='SVR', crop_matrix=False)\n",
    "compare_matrix = prediction_helper.get_compare_matrix_top()\n",
    "\n",
    "# Create ranking for Spearman's rank correlation coefficient \n",
    "predicted_ranking = len(compare_matrix[:, 1]) - rankdata(compare_matrix[:, 1], method='max') + 1\n",
    "actual_ranking = len(compare_matrix[:, 2]) - rankdata(compare_matrix[:, 2], method='max') + 1\n",
    "\n",
    "# Calculate Spearman's correlation coefficient\n",
    "coefficient = spearmanr(predicted_ranking, actual_ranking)\n",
    "print('Spearman correlation coefficient: {}'.format(coefficient[0]))\n",
    "print('-----------------')\n",
    "for i in range(len(compare_matrix[:, 0])):\n",
    "    component = compare_matrix[i,:]\n",
    "    print(\"{:>2}. {:25} Predicted: {:>3}  Ranking: {:>1} \\t Actual: {:>3}  Ranking: {:>1}\".format(\n",
    "        i+1, component[0], component[1], predicted_ranking[i], component[2], actual_ranking[i]))"
   ]
  },
  {
   "cell_type": "code",
   "execution_count": null,
   "metadata": {
    "collapsed": true
   },
   "outputs": [],
   "source": []
  }
 ],
 "metadata": {
  "kernelspec": {
   "display_name": "Python [conda root]",
   "language": "python",
   "name": "conda-root-py"
  },
  "language_info": {
   "codemirror_mode": {
    "name": "ipython",
    "version": 2
   },
   "file_extension": ".py",
   "mimetype": "text/x-python",
   "name": "python",
   "nbconvert_exporter": "python",
   "pygments_lexer": "ipython2",
   "version": "2.7.13"
  }
 },
 "nbformat": 4,
 "nbformat_minor": 2
}
