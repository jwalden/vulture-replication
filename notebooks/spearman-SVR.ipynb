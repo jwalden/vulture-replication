{
 "cells": [
  {
   "cell_type": "markdown",
   "metadata": {},
   "source": [
    "# Bestimmen des Spearman’s rank correlation coefficient "
   ]
  },
  {
   "cell_type": "code",
   "execution_count": 1,
   "metadata": {
    "collapsed": false
   },
   "outputs": [
    {
     "name": "stdout",
     "output_type": "stream",
     "text": [
      "Spearman correlation coefficient: 0.741829307521\n",
      "-----------------\n",
      " 1. nsDocument                Predicted: 64.0  Ranking: 1 \t Actual:  65  Ranking: 2\n",
      " 2. nsDocument                Predicted: 63.0  Ranking: 2 \t Actual:  63  Ranking: 3\n",
      " 3. nsGlobalWindow            Predicted: 59.0  Ranking: 3 \t Actual:  60  Ranking: 6\n",
      " 4. nsGlobalWindow            Predicted: 59.0  Ranking: 3 \t Actual:  62  Ranking: 5\n",
      " 5. nsGlobalWindow            Predicted: 59.0  Ranking: 3 \t Actual:  63  Ranking: 3\n",
      " 6. nsDocument                Predicted: 58.0  Ranking: 6 \t Actual:  57  Ranking: 7\n",
      " 7. nsGlobalWindow            Predicted: 57.0  Ranking: 7 \t Actual:  57  Ranking: 7\n",
      " 8. nsDocument                Predicted: 51.0  Ranking: 8 \t Actual:  53  Ranking: 9\n",
      " 9. nsGlobalWindow            Predicted: 49.0  Ranking: 9 \t Actual:  53  Ranking: 9\n",
      "10. nsDOMClassInfo            Predicted: 45.0  Ranking: 10 \t Actual:  51  Ranking: 12\n",
      "11. nsDocShell                Predicted: 44.0  Ranking: 11 \t Actual:  46  Ranking: 13\n",
      "12. nsDocShell                Predicted: 43.0  Ranking: 12 \t Actual:  45  Ranking: 14\n",
      "13. nsDocShell                Predicted: 41.0  Ranking: 13 \t Actual:  44  Ranking: 15\n",
      "14. nsDocShell                Predicted: 40.0  Ranking: 14 \t Actual:  43  Ranking: 16\n",
      "15. jsobj                     Predicted: 40.0  Ranking: 14 \t Actual:  37  Ranking: 22\n",
      "16. jsobj                     Predicted: 38.0  Ranking: 16 \t Actual:  39  Ranking: 18\n",
      "17. nsDOMClassInfo            Predicted: 35.0  Ranking: 17 \t Actual:  34  Ranking: 29\n",
      "18. jsapi                     Predicted: 35.0  Ranking: 17 \t Actual:  35  Ranking: 28\n",
      "19. jsobj                     Predicted: 33.0  Ranking: 19 \t Actual:  36  Ranking: 25\n",
      "20. nsGlobalWindow            Predicted: 33.0  Ranking: 19 \t Actual:  42  Ranking: 17\n",
      "21. nsGlobalWindow            Predicted: 33.0  Ranking: 19 \t Actual:  37  Ranking: 22\n",
      "22. nsGlobalWindow            Predicted: 33.0  Ranking: 19 \t Actual:  36  Ranking: 25\n",
      "23. nsCSSFrameConstructor     Predicted: 31.0  Ranking: 23 \t Actual:  37  Ranking: 22\n",
      "24. nsCSSFrameConstructor     Predicted: 30.0  Ranking: 24 \t Actual:  34  Ranking: 29\n",
      "25. nsDocShell                Predicted: 30.0  Ranking: 24 \t Actual:  32  Ranking: 31\n",
      "26. jsapi                     Predicted: 30.0  Ranking: 24 \t Actual:  29  Ranking: 35\n",
      "27. nsCSSFrameConstructor     Predicted: 27.0  Ranking: 27 \t Actual:  30  Ranking: 33\n",
      "28. nsCSSFrameConstructor     Predicted: 26.0  Ranking: 28 \t Actual:  29  Ranking: 35\n",
      "29. nsGlobalWindow            Predicted: 25.0  Ranking: 29 \t Actual:  28  Ranking: 38\n",
      "30. nsDocShell                Predicted: 25.0  Ranking: 29 \t Actual:  27  Ranking: 40\n",
      "31. nsDOMClassInfo            Predicted: 25.0  Ranking: 29 \t Actual:  53  Ranking: 9\n",
      "32. nsCSSFrameConstructor     Predicted: 24.0  Ranking: 32 \t Actual:  27  Ranking: 40\n",
      "33. nsWindow                  Predicted: 24.0  Ranking: 32 \t Actual:  24  Ranking: 48\n",
      "34. nsDOMClassInfo            Predicted: 24.0  Ranking: 32 \t Actual:  30  Ranking: 33\n",
      "35. nsCSSFrameConstructor     Predicted: 23.0  Ranking: 35 \t Actual:  25  Ranking: 44\n",
      "36. nsWindow                  Predicted: 23.0  Ranking: 35 \t Actual:  23  Ranking: 51\n",
      "37. nsGlobalWindow            Predicted: 23.0  Ranking: 35 \t Actual:  27  Ranking: 40\n",
      "38. nsGlobalWindow            Predicted: 22.0  Ranking: 38 \t Actual:  26  Ranking: 43\n",
      "39. nsGlobalWindow            Predicted: 22.0  Ranking: 38 \t Actual:  25  Ranking: 44\n",
      "40. nsDOMClassInfo            Predicted: 22.0  Ranking: 38 \t Actual:  29  Ranking: 35\n",
      "41. jsgc                      Predicted: 21.0  Ranking: 41 \t Actual:  36  Ranking: 25\n",
      "42. jscompartment             Predicted: 21.0  Ranking: 41 \t Actual:  25  Ranking: 44\n",
      "43. jsgc                      Predicted: 20.0  Ranking: 43 \t Actual:  38  Ranking: 20\n",
      "44. nsCSSFrameConstructor     Predicted: 20.0  Ranking: 43 \t Actual:  22  Ranking: 53\n",
      "45. nsGlobalWindow            Predicted: 20.0  Ranking: 43 \t Actual:  22  Ranking: 53\n",
      "46. nsDOMClassInfo            Predicted: 20.0  Ranking: 43 \t Actual:  28  Ranking: 38\n",
      "47. jsgc                      Predicted: 19.0  Ranking: 47 \t Actual:  24  Ranking: 48\n",
      "48. jsgc                      Predicted: 19.0  Ranking: 47 \t Actual:  25  Ranking: 44\n",
      "49. nsCSSFrameConstructor     Predicted: 19.0  Ranking: 47 \t Actual:  16  Ranking: 58\n",
      "50. nsCSSFrameConstructor     Predicted: 19.0  Ranking: 47 \t Actual:  39  Ranking: 18\n",
      "51. nsGlobalWindow            Predicted: 19.0  Ranking: 47 \t Actual:  23  Ranking: 51\n",
      "52. nsDOMClassInfo            Predicted: 19.0  Ranking: 47 \t Actual:  22  Ranking: 53\n",
      "53. nsCSSFrameConstructor     Predicted: 19.0  Ranking: 47 \t Actual:  38  Ranking: 20\n",
      "54. nsJSEnvironment           Predicted: 19.0  Ranking: 47 \t Actual:  32  Ranking: 31\n",
      "55. jsscript                  Predicted: 18.0  Ranking: 55 \t Actual:  24  Ranking: 48\n",
      "56. nsCSSFrameConstructor     Predicted: 18.0  Ranking: 55 \t Actual:  12  Ranking: 59\n",
      "57. nsWindow                  Predicted: 17.0  Ranking: 57 \t Actual:  20  Ranking: 57\n",
      "58. nsWindow                  Predicted: 17.0  Ranking: 57 \t Actual:  21  Ranking: 56\n",
      "59. nsCSSFrameConstructor     Predicted: 17.0  Ranking: 57 \t Actual:   8  Ranking: 1\n"
     ]
    }
   ],
   "source": [
    "from imports.matrix_helper import MatrixHelper\n",
    "from imports.prediction_helper import PredictionHelper\n",
    "from scipy.stats import rankdata\n",
    "from scipy.stats import spearmanr\n",
    "\n",
    "matrix_helper = MatrixHelper()\n",
    "matrices = matrix_helper.load_from_parse('data/semiannual/matrix_regression_2017-03-09.pickle')\n",
    "\n",
    "# Instantiate Prediction Helper Class and predict values for compare matrix\n",
    "prediction_helper = PredictionHelper()\n",
    "prediction_helper.calculate_validation_compare_matrix(matrices, sampling_factor=(2.0/3), prediction_type='SVR', crop_matrix=False)\n",
    "compare_matrix = prediction_helper.get_compare_matrix_top()\n",
    "\n",
    "# Create ranking for Spearman's rank correlation coefficient \n",
    "predicted_ranking = len(compare_matrix[:, 1]) - rankdata(compare_matrix[:, 1], method='max') + 1\n",
    "actual_ranking = len(compare_matrix[:, 2]) - rankdata(compare_matrix[:, 2], method='max') + 1\n",
    "\n",
    "# Calculate Spearman's correlation coefficient\n",
    "coefficient = spearmanr(predicted_ranking, actual_ranking)\n",
    "print('Spearman correlation coefficient: {}'.format(coefficient[0]))\n",
    "print('-----------------')\n",
    "for i in range(len(compare_matrix[:, 0])):\n",
    "    component = compare_matrix[i,:]\n",
    "    print(\"{:>2}. {:25} Predicted: {:>3}  Ranking: {:>1} \\t Actual: {:>3}  Ranking: {:>1}\".format(\n",
    "        i+1, component[0], component[1], predicted_ranking[i], component[2], actual_ranking[i]))"
   ]
  },
  {
   "cell_type": "code",
   "execution_count": null,
   "metadata": {
    "collapsed": true
   },
   "outputs": [],
   "source": []
  }
 ],
 "metadata": {
  "kernelspec": {
   "display_name": "Python [conda root]",
   "language": "python",
   "name": "conda-root-py"
  },
  "language_info": {
   "codemirror_mode": {
    "name": "ipython",
    "version": 2
   },
   "file_extension": ".py",
   "mimetype": "text/x-python",
   "name": "python",
   "nbconvert_exporter": "python",
   "pygments_lexer": "ipython2",
   "version": "2.7.13"
  }
 },
 "nbformat": 4,
 "nbformat_minor": 2
}
