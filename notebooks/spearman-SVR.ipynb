{
 "cells": [
  {
   "cell_type": "markdown",
   "metadata": {},
   "source": [
    "# Bestimmen des Spearman’s rank correlation coefficient "
   ]
  },
  {
   "cell_type": "code",
   "execution_count": 1,
   "metadata": {
    "collapsed": false
   },
   "outputs": [
    {
     "name": "stdout",
     "output_type": "stream",
     "text": [
      "Spearman correlation coefficient: 0.913251707315\n",
      "-----------------\n",
      " 1. nsDocument                Predicted: 62.0  Ranking: 1 \t Actual:  62  Ranking: 2\n",
      " 2. nsDocument                Predicted: 61.0  Ranking: 2 \t Actual:  60  Ranking: 4\n",
      " 3. nsGlobalWindow            Predicted: 60.0  Ranking: 3 \t Actual:  61  Ranking: 3\n",
      " 4. nsGlobalWindow            Predicted: 59.0  Ranking: 4 \t Actual:  63  Ranking: 1\n",
      " 5. nsDocument                Predicted: 59.0  Ranking: 4 \t Actual:  58  Ranking: 5\n",
      " 6. nsDocument                Predicted: 59.0  Ranking: 4 \t Actual:  57  Ranking: 6\n",
      " 7. nsGlobalWindow            Predicted: 57.0  Ranking: 7 \t Actual:  55  Ranking: 7\n",
      " 8. nsGlobalWindow            Predicted: 55.0  Ranking: 8 \t Actual:  54  Ranking: 8\n",
      " 9. nsDocShell                Predicted: 46.0  Ranking: 9 \t Actual:  47  Ranking: 12\n",
      "10. nsDocShell                Predicted: 43.0  Ranking: 10 \t Actual:  44  Ranking: 14\n",
      "11. nsContentUtils            Predicted: 42.0  Ranking: 11 \t Actual:  54  Ranking: 8\n",
      "12. nsDocShell                Predicted: 42.0  Ranking: 11 \t Actual:  43  Ranking: 15\n",
      "13. nsDOMClassInfo            Predicted: 40.0  Ranking: 13 \t Actual:  39  Ranking: 17\n",
      "14. nsContentUtils            Predicted: 39.0  Ranking: 14 \t Actual:  52  Ranking: 11\n",
      "15. nsDOMClassInfo            Predicted: 38.0  Ranking: 15 \t Actual:  38  Ranking: 19\n",
      "16. nsDocShell                Predicted: 37.0  Ranking: 16 \t Actual:  36  Ranking: 22\n",
      "17. jsobj                     Predicted: 36.0  Ranking: 17 \t Actual:  43  Ranking: 15\n",
      "18. jsapi                     Predicted: 35.0  Ranking: 18 \t Actual:  37  Ranking: 21\n",
      "19. jsobj                     Predicted: 35.0  Ranking: 18 \t Actual:  39  Ranking: 17\n",
      "20. jsobj                     Predicted: 35.0  Ranking: 18 \t Actual:  38  Ranking: 19\n",
      "21. nsGlobalWindow            Predicted: 34.0  Ranking: 21 \t Actual:  36  Ranking: 22\n",
      "22. jsapi                     Predicted: 34.0  Ranking: 21 \t Actual:  36  Ranking: 22\n",
      "23. jsobj                     Predicted: 33.0  Ranking: 23 \t Actual:  45  Ranking: 13\n",
      "24. jsapi                     Predicted: 33.0  Ranking: 23 \t Actual:  35  Ranking: 26\n",
      "25. nsDOMClassInfo            Predicted: 32.0  Ranking: 25 \t Actual:  33  Ranking: 28\n",
      "26. nsDocShell                Predicted: 31.0  Ranking: 26 \t Actual:  32  Ranking: 29\n",
      "27. jsapi                     Predicted: 31.0  Ranking: 26 \t Actual:  29  Ranking: 36\n",
      "28. jsobj                     Predicted: 30.0  Ranking: 28 \t Actual:  32  Ranking: 29\n",
      "29. nsCSSFrameConstructor     Predicted: 29.0  Ranking: 29 \t Actual:  31  Ranking: 32\n",
      "30. jsapi                     Predicted: 29.0  Ranking: 29 \t Actual:  28  Ranking: 39\n",
      "31. nsCSSFrameConstructor     Predicted: 28.0  Ranking: 31 \t Actual:  29  Ranking: 36\n",
      "32. nsGlobalWindow            Predicted: 28.0  Ranking: 31 \t Actual:  28  Ranking: 39\n",
      "33. nsDocShell                Predicted: 27.0  Ranking: 33 \t Actual:  31  Ranking: 32\n",
      "34. nsDOMClassInfo            Predicted: 27.0  Ranking: 33 \t Actual:  53  Ranking: 10\n",
      "35. jsobj                     Predicted: 27.0  Ranking: 33 \t Actual:  27  Ranking: 41\n",
      "36. jsobj                     Predicted: 26.0  Ranking: 36 \t Actual:  31  Ranking: 32\n",
      "37. jsobj                     Predicted: 26.0  Ranking: 36 \t Actual:  34  Ranking: 27\n",
      "38. nsCSSFrameConstructor     Predicted: 25.0  Ranking: 38 \t Actual:  23  Ranking: 45\n",
      "39. nsWindow                  Predicted: 24.0  Ranking: 39 \t Actual:  25  Ranking: 42\n",
      "40. nsDocShell                Predicted: 23.0  Ranking: 40 \t Actual:  21  Ranking: 48\n",
      "41. nsDOMClassInfo            Predicted: 23.0  Ranking: 40 \t Actual:  29  Ranking: 36\n",
      "42. nsDOMClassInfo            Predicted: 23.0  Ranking: 40 \t Actual:  30  Ranking: 35\n",
      "43. nsGlobalWindow            Predicted: 21.0  Ranking: 43 \t Actual:  23  Ranking: 45\n",
      "44. jscompartment             Predicted: 21.0  Ranking: 43 \t Actual:  25  Ranking: 42\n",
      "45. nsCSSFrameConstructor     Predicted: 21.0  Ranking: 43 \t Actual:  19  Ranking: 52\n",
      "46. nsObjectLoadingContent    Predicted: 21.0  Ranking: 43 \t Actual:  22  Ranking: 47\n",
      "47. nsCSSFrameConstructor     Predicted: 21.0  Ranking: 43 \t Actual:  16  Ranking: 55\n",
      "48. jsgc                      Predicted: 20.0  Ranking: 48 \t Actual:  32  Ranking: 29\n",
      "49. jsgc                      Predicted: 20.0  Ranking: 48 \t Actual:  36  Ranking: 22\n",
      "50. nsWindow                  Predicted: 20.0  Ranking: 48 \t Actual:  21  Ranking: 48\n",
      "51. nsDocShell                Predicted: 19.0  Ranking: 51 \t Actual:  19  Ranking: 52\n",
      "52. nsDOMClassInfo            Predicted: 19.0  Ranking: 51 \t Actual:  15  Ranking: 58\n",
      "53. xpcprivate                Predicted: 19.0  Ranking: 51 \t Actual:  24  Ranking: 44\n",
      "54. jscompartment             Predicted: 19.0  Ranking: 51 \t Actual:  19  Ranking: 52\n",
      "55. nsGlobalWindow            Predicted: 18.0  Ranking: 55 \t Actual:  16  Ranking: 55\n",
      "56. SelfHosting               Predicted: 18.0  Ranking: 55 \t Actual:   2  Ranking: 51\n",
      "57. nsDOMClassInfo            Predicted: 18.0  Ranking: 55 \t Actual:  16  Ranking: 55\n",
      "58. nsGlobalWindow            Predicted: 18.0  Ranking: 55 \t Actual:  15  Ranking: 58\n",
      "59. nsGlobalWindow            Predicted: 18.0  Ranking: 55 \t Actual:  20  Ranking: 50\n"
     ]
    }
   ],
   "source": [
    "from imports.matrix_helper import MatrixHelper\n",
    "from imports.classification_helper import ClassificationHelper\n",
    "from scipy.stats import rankdata\n",
    "from scipy.stats import spearmanr\n",
    "\n",
    "matrix_helper = MatrixHelper()\n",
    "matrices = matrix_helper.load_from_parse('data/semiannual/matrix_regression_2017-03-09.pickle')\n",
    "\n",
    "# Instantiate SVR Helper Class and predict values for compare matrix\n",
    "classification_helper = ClassificationHelper()\n",
    "classification_helper.calculate_validation_compare_matrix(matrices, sampling_factor=(2.0/3), prediction_type='SVR', crop_matrix=False)\n",
    "compare_matrix = classification_helper.get_compare_matrix_top()\n",
    "\n",
    "# Create ranking for Spearman's rank correlation coefficient \n",
    "predicted_ranking = len(compare_matrix[:, 1]) - rankdata(compare_matrix[:, 1], method='max') + 1\n",
    "actual_ranking = len(compare_matrix[:, 2]) - rankdata(compare_matrix[:, 2], method='max') + 1\n",
    "\n",
    "# Calculate Spearman's correlation coefficient\n",
    "coefficient = spearmanr(predicted_ranking, actual_ranking)\n",
    "print('Spearman correlation coefficient: {}'.format(coefficient[0]))\n",
    "print('-----------------')\n",
    "for i in range(len(compare_matrix[:, 0])):\n",
    "    component = compare_matrix[i,:]\n",
    "    print(\"{:>2}. {:25} Predicted: {:>3}  Ranking: {:>1} \\t Actual: {:>3}  Ranking: {:>1}\".format(\n",
    "        i+1, component[0], component[1], predicted_ranking[i], component[2], actual_ranking[i]))"
   ]
  },
  {
   "cell_type": "code",
   "execution_count": null,
   "metadata": {
    "collapsed": true
   },
   "outputs": [],
   "source": []
  }
 ],
 "metadata": {
  "kernelspec": {
   "display_name": "Python [conda root]",
   "language": "python",
   "name": "conda-root-py"
  },
  "language_info": {
   "codemirror_mode": {
    "name": "ipython",
    "version": 2
   },
   "file_extension": ".py",
   "mimetype": "text/x-python",
   "name": "python",
   "nbconvert_exporter": "python",
   "pygments_lexer": "ipython2",
   "version": "2.7.13"
  }
 },
 "nbformat": 4,
 "nbformat_minor": 2
}
