{
 "cells": [
  {
   "cell_type": "markdown",
   "metadata": {
    "collapsed": true,
    "deletable": true,
    "editable": true
   },
   "source": [
    "# Test: Bestimmung Precision / Recall mit einem DT\n",
    "Wir haben bereits diverse Matrizen mit einer SVM getestet und Precision und Recall bestimmt. In diesem Notebook bestimmen wir Precision und Recall bei der Klassifikation mit einem Decision Tree und der Klassifikaitonsmatrix.\n",
    "\n",
    "#### Test mit Klassifikationsmatrix\n",
    "* #1: Precision 0.865206402696, Recall 0.849462365591\n",
    "* #2: Precision 0.85737840066, Recall 0.860215053763\n"
   ]
  },
  {
   "cell_type": "code",
   "execution_count": 2,
   "metadata": {
    "collapsed": false,
    "scrolled": false
   },
   "outputs": [
    {
     "name": "stdout",
     "output_type": "stream",
     "text": [
      "Verwundbare Komponenten im Testset:       18.6%\n",
      "Verwundbare Komponenten in Vorhersage:       19.0%\n",
      "------------------------------\n",
      "Precision 0.699757869249, Recall 0.71652892562\n",
      "time:        1.4min\n"
     ]
    }
   ],
   "source": [
    "import time\n",
    "import matplotlib.pyplot as plt\n",
    "import numpy as np\n",
    "\n",
    "from imports.matrix_helper import MatrixHelper\n",
    "from sklearn import tree\n",
    "from sklearn.metrics import precision_recall_curve\n",
    "\n",
    "matrix_helper = MatrixHelper()\n",
    "\n",
    "# Read pickle\n",
    "feature_matrix = matrix_helper.load_from_parse('data/feature_matrix_sparse_classification.pickle')[0]\n",
    "\n",
    "# Create own matrices for vulenrable and not vulnerable components\n",
    "vulnerable, not_vulnerable = matrix_helper.split_vulnerable_notvulnerable(feature_matrix)\n",
    "\n",
    "# Split into training sets (2/3) and test sets (1/3)\n",
    "not_vulnerable_training, not_vulnerable_test = matrix_helper.split_training_test(not_vulnerable, 2.0/3)\n",
    "vulnerable_training, vulnerable_test = matrix_helper.split_training_test(vulnerable, 2.0/3)\n",
    "\n",
    "# Concatenate vulnerable/not-vulnerable and split into training and target matrices\n",
    "training_data, training_target = matrix_helper.create_data_target(not_vulnerable_training, vulnerable_training)\n",
    "test_data, test_target = matrix_helper.create_data_target(not_vulnerable_test, vulnerable_test)\n",
    "\n",
    "start = time.time()\n",
    "\n",
    "# create the DT classifier\n",
    "clf = tree.DecisionTreeClassifier()\n",
    "\n",
    " # Fit classifier to the model\n",
    "clf.fit(training_data, training_target)\n",
    "\n",
    "# Predict remaining data\n",
    "target_prediction = clf.predict(test_data)\n",
    "\n",
    "# Compute Precision-Recall\n",
    "precision, recall, thresholds = precision_recall_curve(test_target, target_prediction)\n",
    "\n",
    "end = time.time()\n",
    "elapsed = (end - start) / 60\n",
    "\n",
    "# Print\n",
    "print(\"Verwundbare Komponenten im Testset: {0:10.1f}%\".format(matrix_helper.get_vulnerable_percentage(test_target)))\n",
    "print(\"Verwundbare Komponenten in Vorhersage: {0:10.1f}%\".format(matrix_helper.get_vulnerable_percentage(target_prediction)))\n",
    "print('------------------------------')\n",
    "print('Precision {}, Recall {}'.format(precision[1], recall[1]))\n",
    "print('time: {0:10.1f}min'.format(elapsed))"
   ]
  },
  {
   "cell_type": "code",
   "execution_count": null,
   "metadata": {
    "collapsed": true
   },
   "outputs": [],
   "source": []
  }
 ],
 "metadata": {
  "kernelspec": {
   "display_name": "Python [default]",
   "language": "python",
   "name": "python2"
  },
  "language_info": {
   "codemirror_mode": {
    "name": "ipython",
    "version": 2
   },
   "file_extension": ".py",
   "mimetype": "text/x-python",
   "name": "python",
   "nbconvert_exporter": "python",
   "pygments_lexer": "ipython2",
   "version": "2.7.13"
  }
 },
 "nbformat": 4,
 "nbformat_minor": 2
}
