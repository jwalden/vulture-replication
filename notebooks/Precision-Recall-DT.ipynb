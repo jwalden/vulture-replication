{
 "cells": [
  {
   "cell_type": "markdown",
   "metadata": {
    "collapsed": true,
    "deletable": true,
    "editable": true
   },
   "source": [
    "# Test: Bestimmung Precision / Recall mit einem DT\n",
    "Wir haben bereits diverse Matrizen mit einer SVM getestet und Precision und Recall bestimmt. In diesem Notebook bestimmen wir Precision und Recall bei der Klassifikation mit einem Decision Tree und der Klassifikaitonsmatrix."
   ]
  },
  {
   "cell_type": "code",
   "execution_count": 1,
   "metadata": {
    "collapsed": false
   },
   "outputs": [
    {
     "name": "stdout",
     "output_type": "stream",
     "text": [
      "|calls_current                 |   0.527   | 0.387  |             9.8%|                7.2%|MOZ_ASSERT|( 12.8min)\n",
      "|calls_history                 |   0.697   | 0.703  |            14.0%|               14.1%|toObject|( 10.1min)\n"
     ]
    }
   ],
   "source": [
    "import time\n",
    "import matplotlib.pyplot as plt\n",
    "import numpy as np\n",
    "\n",
    "from imports.matrix_helper import MatrixHelper\n",
    "from imports.prediction_helper import PredictionHelper\n",
    "from sklearn.metrics import precision_recall_curve\n",
    "\n",
    "matrix_helper = MatrixHelper()\n",
    "\n",
    "for filename in ['calls_current', 'calls_history']:\n",
    "    # Read pickle\n",
    "    matrices = matrix_helper.load_from_parse('data/matrices/matrix_cla_' + filename + '.pickle')\n",
    "\n",
    "    # Instantiate Prediction Helper Class and predict values for compare matrix with a DT\n",
    "    prediction_helper = PredictionHelper()\n",
    "    prediction_helper.calculate_validation_compare_matrix(matrices, sampling_factor=(2.0/3), prediction_type='DT', crop_matrix=False)\n",
    "    compare_matrix = prediction_helper.get_compare_matrix()\n",
    "\n",
    "    # Compute Precision-Recall\n",
    "    precision, recall, thresholds = precision_recall_curve(np.array(compare_matrix[:, 2], dtype='f'), np.array(compare_matrix[:, 1], dtype='f'))\n",
    "\n",
    "    # Print\n",
    "    vulnerable_testset = matrix_helper.get_vulnerable_percentage(np.array(compare_matrix[:, 2], dtype='f'))\n",
    "    vulnerable_prediction = matrix_helper.get_vulnerable_percentage(np.array(compare_matrix[:, 1], dtype='f'))\n",
    "    print('|{:30}|{:^11.3f}|{:^8.3f}|{:16.1f}%|{:19.1f}%|{}|({:5.1f}min)'.format(\n",
    "        filename, precision[1], recall[1], vulnerable_testset, vulnerable_prediction, \n",
    "        prediction_helper.most_important_feature, prediction_helper.time)\n",
    "         )"
   ]
  },
  {
   "cell_type": "markdown",
   "metadata": {
    "collapsed": true
   },
   "source": [
    "## Ergebnisse\n",
    "#### Test mit Klassifikationsmatrix\n",
    "* #1: Precision 0.865206402696, Recall 0.849462365591\n",
    "* #2: Precision 0.85737840066, Recall 0.860215053763\n",
    "\n",
    "## Ergebnisse mit div Features\n",
    "| Matrix (Classification)      | Precision | Recall | Vul. in Testset | Vul. in Prediction | Most important feature |\n",
    "|------------------------------|-----------|--------|-----------------|--------------------|------------------------|\n",
    "|incl_current                  |   0.467   | 0.348  |             9.8%|                7.3%|nsContentUtils.h|\n",
    "|incl_history                  |   0.670   | 0.692  |            17.8%|               18.4%|jsapi.h|\n",
    "|cond_current                  |   0.599   | 0.163  |             9.8%|                2.7%|DEBUG|\n",
    "|cond_history                  |   0.756   | 0.679  |            17.4%|               15.6%|DEBUG|\n",
    "|names_current                 |   0.543   | 0.125  |             9.8%|                2.3%|mozilla::dom|\n",
    "|names_history                 |   0.691   | 0.489  |            13.5%|                9.5%|js|\n",
    "|defs_current                  |   0.569   | 0.052  |             9.8%|                0.9%|FT_COMPONENT|\n",
    "|defs_history                  |   0.505   | 0.365  |             5.0%|                3.6%|FORCE_PR_LOG|\n",
    "|calls_current                 |   0.527   | 0.387  |             9.8%|                7.2%|MOZ_ASSERT|\n",
    "|calls_history                 |   0.697   | 0.703  |            14.0%|               14.1%|toObject|"
   ]
  },
  {
   "cell_type": "code",
   "execution_count": null,
   "metadata": {
    "collapsed": true
   },
   "outputs": [],
   "source": []
  }
 ],
 "metadata": {
  "kernelspec": {
   "display_name": "Python [default]",
   "language": "python",
   "name": "python2"
  },
  "language_info": {
   "codemirror_mode": {
    "name": "ipython",
    "version": 2
   },
   "file_extension": ".py",
   "mimetype": "text/x-python",
   "name": "python",
   "nbconvert_exporter": "python",
   "pygments_lexer": "ipython2",
   "version": "2.7.9"
  }
 },
 "nbformat": 4,
 "nbformat_minor": 2
}
