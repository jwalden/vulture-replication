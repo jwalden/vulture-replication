{
 "cells": [
  {
   "cell_type": "markdown",
   "metadata": {
    "collapsed": true,
    "deletable": true,
    "editable": true
   },
   "source": [
    "# Test: Bestimmung Precision / Recall mit einem DT\n",
    "Wir haben bereits diverse Matrizen mit einer SVM getestet und Precision und Recall bestimmt. In diesem Notebook bestimmen wir Precision und Recall bei der Klassifikation mit einem Decision Tree und der Klassifikaitonsmatrix.\n",
    "\n",
    "#### Test mit Klassifikationsmatrix\n",
    "* #1: Precision 0.865206402696, Recall 0.849462365591\n",
    "* #2: Precision 0.85737840066, Recall 0.860215053763"
   ]
  },
  {
   "cell_type": "code",
   "execution_count": null,
   "metadata": {
    "collapsed": false
   },
   "outputs": [],
   "source": [
    "import time\n",
    "import matplotlib.pyplot as plt\n",
    "import numpy as np\n",
    "\n",
    "from imports.matrix_helper import MatrixHelper\n",
    "from imports.prediction_helper import PredictionHelper\n",
    "from sklearn.metrics import precision_recall_curve\n",
    "\n",
    "matrix_helper = MatrixHelper()\n",
    "\n",
    "# Read pickle\n",
    "matrices = matrix_helper.load_from_parse('data/matrices/matrix_cla_cond_current.pickle')\n",
    "\n",
    "# Instantiate Prediction Helper Class and predict values for compare matrix with a DT\n",
    "prediction_helper = PredictionHelper()\n",
    "prediction_helper.calculate_validation_compare_matrix(matrices, sampling_factor=(2.0/3), prediction_type='DT', crop_matrix=False)\n",
    "compare_matrix = prediction_helper.get_compare_matrix()\n",
    "\n",
    "# Compute Precision-Recall\n",
    "precision, recall, thresholds = precision_recall_curve(np.array(compare_matrix[:, 2], dtype='f'), np.array(compare_matrix[:, 1], dtype='f'))\n",
    "\n",
    "# Print\n",
    "print(\"Verwundbare Komponenten im Testset: {0:10.1f}%\".format(matrix_helper.get_vulnerable_percentage(np.array(compare_matrix[:, 2], dtype='f'))))\n",
    "print(\"Verwundbare Komponenten in Vorhersage: {0:10.1f}%\".format(matrix_helper.get_vulnerable_percentage(np.array(compare_matrix[:, 1], dtype='f'))))\n",
    "print('------------------------------')\n",
    "print('Precision {}, Recall {}'.format(precision[1], recall[1]))\n",
    "print('time: {0:10.1f}min'.format(prediction_helper.time))"
   ]
  }
 ],
 "metadata": {
  "kernelspec": {
   "display_name": "Python [default]",
   "language": "python",
   "name": "python2"
  },
  "language_info": {
   "codemirror_mode": {
    "name": "ipython",
    "version": 2
   },
   "file_extension": ".py",
   "mimetype": "text/x-python",
   "name": "python",
   "nbconvert_exporter": "python",
   "pygments_lexer": "ipython2",
   "version": "2.7.13"
  }
 },
 "nbformat": 4,
 "nbformat_minor": 2
}
