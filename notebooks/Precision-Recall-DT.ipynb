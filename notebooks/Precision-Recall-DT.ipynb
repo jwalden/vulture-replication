{
 "cells": [
  {
   "cell_type": "markdown",
   "metadata": {
    "collapsed": true,
    "deletable": true,
    "editable": true
   },
   "source": [
    "# Test: Bestimmung Precision / Recall mit einem DT\n",
    "Wir haben bereits diverse Matrizen mit einer SVM getestet und Precision und Recall bestimmt. In diesem Notebook bestimmen wir Precision und Recall bei der Klassifikation mit einem Decision Tree und der Klassifikaitonsmatrix.\n",
    "\n",
    "#### Test mit Klassifikationsmatrix\n",
    "* #1: Precision 0.865206402696, Recall 0.849462365591\n",
    "* #2: Precision 0.85737840066, Recall 0.860215053763\n"
   ]
  },
  {
   "cell_type": "code",
   "execution_count": 1,
   "metadata": {
    "collapsed": false
   },
   "outputs": [
    {
     "name": "stdout",
     "output_type": "stream",
     "text": [
      "Precision 0.699839486356, Recall 0.720661157025\n",
      "Verwundbare Komponenten im Testset:       18.6%\n",
      "Verwundbare Komponenten in Vorhersage:       19.1%\n",
      "------------------------------\n",
      "Precision 0.699839486356, Recall 0.720661157025\n",
      "time:        1.5min\n",
      "time:        1.5min\n"
     ]
    }
   ],
   "source": [
    "import time\n",
    "import matplotlib.pyplot as plt\n",
    "import numpy as np\n",
    "\n",
    "from imports.matrix_helper import MatrixHelper\n",
    "from imports.classification_helper import ClassificationHelper\n",
    "from sklearn.metrics import precision_recall_curve\n",
    "\n",
    "matrix_helper = MatrixHelper()\n",
    "\n",
    "# Read pickle\n",
    "matrices = matrix_helper.load_from_parse('data/semiannual/matrix_classification_2017-03-09.pickle')\n",
    "\n",
    "# Instantiate Classification Helper Class and predict values for compare matrix\n",
    "classification_helper = ClassificationHelper()\n",
    "classification_helper.calculate_validation_compare_matrix(matrices, sampling_factor=(2.0/3), classifier='DT', crop_matrix=False)\n",
    "compare_matrix = classification_helper.get_compare_matrix()\n",
    "\n",
    "# Compute Precision-Recall\n",
    "precision, recall, thresholds = precision_recall_curve(np.array(compare_matrix[:, 2], dtype='f'), np.array(compare_matrix[:, 1], dtype='f'))\n",
    "print('Precision {}, Recall {}'.format(precision[1], recall[1]))\n",
    "\n",
    "# Print\n",
    "print(\"Verwundbare Komponenten im Testset: {0:10.1f}%\".format(matrix_helper.get_vulnerable_percentage(np.array(compare_matrix[:, 2], dtype='f'))))\n",
    "print(\"Verwundbare Komponenten in Vorhersage: {0:10.1f}%\".format(matrix_helper.get_vulnerable_percentage(np.array(compare_matrix[:, 1], dtype='f'))))\n",
    "print('------------------------------')\n",
    "print('Precision {}, Recall {}'.format(precision[1], recall[1]))\n",
    "print('time: {0:10.1f}min'.format(classification_helper.time))"
   ]
  },
  {
   "cell_type": "code",
   "execution_count": null,
   "metadata": {
    "collapsed": true
   },
   "outputs": [],
   "source": []
  }
 ],
 "metadata": {
  "kernelspec": {
   "display_name": "Python [default]",
   "language": "python",
   "name": "python2"
  },
  "language_info": {
   "codemirror_mode": {
    "name": "ipython",
    "version": 2
   },
   "file_extension": ".py",
   "mimetype": "text/x-python",
   "name": "python",
   "nbconvert_exporter": "python",
   "pygments_lexer": "ipython2",
   "version": "2.7.13"
  }
 },
 "nbformat": 4,
 "nbformat_minor": 2
}
