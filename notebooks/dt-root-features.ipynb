{
 "cells": [
  {
   "cell_type": "markdown",
   "metadata": {
    "deletable": true,
    "editable": true
   },
   "source": [
    "### Determine the most important feature with a Decision Tree (Section 6.5)\n",
    "* Zweck: Die Vorteile des einfachen Aufbaus eines Decision Trees aufzeigen. Auslesen der Wurzel Decision um das aussagekräftigste Feature zu bestimmen.\n",
    "* Matrix: Klassifikationsmatrix auf aktuellem Stand \"current\", sowie mit Feature History des mozilla-central Repository\n",
    "* Features: Includes, Function Calls, Definitions, Names, Conditions\n",
    "* Modell: Decision Tree Classifier\n",
    "\n",
    "#### Setup\n",
    "* Training-Set/Test-Set: Stratified sampling auf einer Matrix (2/3 : 1/3)\n",
    "\n",
    "#### Results\n",
    "Tabellarische Auflistung des aussagekräftigsten Features für verschiedene Arten von Features bei \"current\" und Feature History. Zusätzliche für jede Feature Art die Precision und Recall."
   ]
  },
  {
   "cell_type": "code",
   "execution_count": 7,
   "metadata": {
    "collapsed": false,
    "deletable": true,
    "editable": true
   },
   "outputs": [
    {
     "name": "stdout",
     "output_type": "stream",
     "text": [
      " * Includes (current) - done 1/10\n",
      " * Includes (history) - done 2/10\n",
      " * Conditions (current) - done 3/10\n",
      " * Conditions (history) - done 4/10\n",
      " * Definitions (current) - done 5/10\n",
      " * Definitions (history) - done 6/10\n",
      " * Names (current) - done 7/10\n",
      " * Names (history) - done 8/10\n",
      " * Function Calls (current) - done 9/10\n",
      " * Function Calls (history) - done 10/10\n",
      "+--------------------------+-----------+--------+------------------------+------------------+\n",
      "| Features                 | Precision | Recall | Most important feature | time for fitting |\n",
      "+--------------------------+-----------+--------+------------------------+------------------+\n",
      "| Includes (current)       |   0.456   | 0.367  | nsContentUtils.h       |     1.81min      |\n",
      "| Includes (history)       |   0.569   | 0.554  | jscntxt.h              |     2.36min      |\n",
      "| Conditions (current)     |   0.600   | 0.156  | DEBUG                  |     9.31min      |\n",
      "| Conditions (history)     |   0.733   | 0.324  | DEBUG                  |     9.33min      |\n",
      "| Definitions (current)    |   0.576   | 0.068  | FT_COMPONENT           |     42.13min     |\n",
      "| Definitions (history)    |   0.627   | 0.254  | MSG_DEF                |     44.35min     |\n",
      "| Names (current)          |   0.517   | 0.133  | mozilla::dom           |     0.01min      |\n",
      "| Names (history)          |   0.574   | 0.134  | js                     |     0.01min      |\n",
      "| Function Calls (current) |   0.540   | 0.409  | MOZ_ASSERT             |     11.35min     |\n",
      "| Function Calls (history) |   0.657   | 0.632  | get                    |     10.59min     |\n",
      "+--------------------------+-----------+--------+------------------------+------------------+\n"
     ]
    }
   ],
   "source": [
    "import time\n",
    "import matplotlib.pyplot as plt\n",
    "import numpy as np\n",
    "from prettytable import PrettyTable\n",
    "\n",
    "from imports.matrix_helper import MatrixHelper\n",
    "from imports.prediction_helper import PredictionHelper\n",
    "from sklearn.metrics import precision_recall_curve\n",
    "\n",
    "matrix_helper = MatrixHelper()\n",
    "\n",
    "features = [('incl', 'Includes'), ('cond', 'Conditions'), ('defs', 'Definitions'), ('names', 'Names'), ('calls', 'Function Calls')]\n",
    "table = PrettyTable(['Features', 'Precision', 'Recall', 'Most important feature', 'time for fitting'])\n",
    "table.align[\"Features\"] = \"l\"\n",
    "table.align[\"Most important feature\"] = \"l\"\n",
    "counter = 1\n",
    "\n",
    "for feature in features:\n",
    "    for h_type in ['current', 'history']:\n",
    "        # Read pickle\n",
    "        matrices = matrix_helper.load_from_parse('data/matrices/matrix_cla_{}_{}.pickle'.format(feature[0], h_type))\n",
    "\n",
    "        # Instantiate Prediction Helper Class and predict values for compare matrix with a DT\n",
    "        prediction_helper = PredictionHelper()\n",
    "        prediction_helper.calculate_validation_compare_matrix(matrices, sampling_factor=(2.0/3), model_type='DT')\n",
    "        compare_matrix = prediction_helper.get_compare_matrix()\n",
    "\n",
    "        # Compute Precision-Recall\n",
    "        precision, recall, thresholds = precision_recall_curve(np.array(compare_matrix[:, 2], dtype='f'), np.array(compare_matrix[:, 1], dtype='f'))\n",
    "\n",
    "        feature_name = \"{} ({})\".format(feature[1], h_type)\n",
    "        precision = \"{:.3f}\".format(precision[1])\n",
    "        recall = \"{:.3f}\".format(recall[1])\n",
    "        time = \"{:.2f}min\".format((prediction_helper.time_fitting / 60.0))\n",
    "        \n",
    "        table.add_row([feature_name, precision, recall, prediction_helper.most_important_feature, time])\n",
    "        print(' * {} - done {}/{}'.format(feature_name, counter, 2 * len(features)))\n",
    "        counter += 1\n",
    "print(table)"
   ]
  },
  {
   "cell_type": "code",
   "execution_count": null,
   "metadata": {
    "collapsed": true,
    "deletable": true,
    "editable": true
   },
   "outputs": [],
   "source": []
  }
 ],
 "metadata": {
  "kernelspec": {
   "display_name": "Python 2",
   "language": "python",
   "name": "python2"
  },
  "language_info": {
   "codemirror_mode": {
    "name": "ipython",
    "version": 2
   },
   "file_extension": ".py",
   "mimetype": "text/x-python",
   "name": "python",
   "nbconvert_exporter": "python",
   "pygments_lexer": "ipython2",
   "version": "2.7.10"
  }
 },
 "nbformat": 4,
 "nbformat_minor": 2
}
