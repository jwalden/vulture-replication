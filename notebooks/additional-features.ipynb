{
 "cells": [
  {
   "cell_type": "markdown",
   "metadata": {
    "deletable": true,
    "editable": true
   },
   "source": [
    "### Classification with additional features (Section 6.3)\n",
    "* Zweck: Validierung von Klassifikation mit anderen Features als Includes und Function Calls.\n",
    "* Matrix: Klassifikationsmatrix auf aktuellem Stand \"current\", sowie mit Feature History des mozilla-central Repository\n",
    "* Features: Includes, Function Calls, Definitions, Names, Conditions\n",
    "* Modell: Support Vector Machine Classifier\n",
    "\n",
    "#### Setup\n",
    "* Training-Set/Test-Set: Stratified sampling auf einer Matrix (2/3 : 1/3)\n",
    "\n",
    "#### Results\n",
    "Tabellarischer Vergleich der durchschnittlichen Precision und Recall Werte für verschiedene Features bei n=5 Experimenten. Weiter werden die Anzahl extrahierter Features und die durchschnittliche Laufzeit für das Trainieren des Modells aufgelistet."
   ]
  },
  {
   "cell_type": "code",
   "execution_count": 1,
   "metadata": {
    "collapsed": false,
    "deletable": true,
    "editable": true,
    "scrolled": false
   },
   "outputs": [
    {
     "name": "stdout",
     "output_type": "stream",
     "text": [
      "* Includes (current)  :  5/ 5\n",
      "* Includes (history)  :  5/ 5\n",
      "* Conditions (current):  5/ 5\n",
      "* Conditions (history):  5/ 5\n",
      "* Definitions (current):  5/ 5\n",
      "* Definitions (history):  5/ 5\n",
      "* Names (current)     :  5/ 5\n",
      "* Names (history)     :  5/ 5\n",
      "* Function Calls (current):  5/ 5\n",
      "* Function Calls (history):  5/ 5\n",
      "+--------------------------+---------------+-----------+--------+--------------+-----------+---------+\n",
      "| Features                 | Feature count | Precision | Recall | Precision sd | Recall sd |   Time  |\n",
      "+--------------------------+---------------+-----------+--------+--------------+-----------+---------+\n",
      "| Includes (current)       |     15362     |   0.688   | 0.328  |    0.022     |   0.018   | 0.04min |\n",
      "| Includes (history)       |     16383     |   0.768   | 0.609  |    0.024     |   0.018   | 0.05min |\n",
      "| Conditions (current)     |     19417     |   0.724   | 0.135  |    0.021     |   0.009   | 0.06min |\n",
      "| Conditions (history)     |     19926     |   0.862   | 0.430  |    0.020     |   0.021   | 0.06min |\n",
      "| Definitions (current)    |     77527     |   0.741   | 0.072  |    0.036     |   0.004   | 0.54min |\n",
      "| Definitions (history)    |     79832     |   0.628   | 0.276  |    0.018     |   0.026   | 0.56min |\n",
      "| Names (current)          |      744      |   0.624   | 0.070  |    0.042     |   0.007   | 0.00min |\n",
      "| Names (history)          |      772      |   0.767   | 0.170  |    0.096     |   0.023   | 0.00min |\n",
      "| Function Calls (current) |     220191    |   0.744   | 0.387  |    0.020     |   0.012   | 1.90min |\n",
      "| Function Calls (history) |     237280    |   0.766   | 0.687  |    0.010     |   0.016   | 2.25min |\n",
      "+--------------------------+---------------+-----------+--------+--------------+-----------+---------+\n"
     ]
    }
   ],
   "source": [
    "import matplotlib.pyplot as plt\n",
    "import numpy as np\n",
    "from prettytable import PrettyTable\n",
    "\n",
    "from imports.matrix_helper import MatrixHelper\n",
    "from imports.prediction_helper import PredictionHelper\n",
    "from sklearn.metrics import precision_recall_curve\n",
    "\n",
    "matrix_helper = MatrixHelper()\n",
    "experiments_per_feature = 5\n",
    "\n",
    "features = [('incl', 'Includes'), ('cond', 'Conditions'), ('defs', 'Definitions'), ('names', 'Names'), ('calls', 'Function Calls')]\n",
    "table = PrettyTable(['Features', 'Feature count', 'Precision', 'Recall', 'Precision sd', 'Recall sd', 'Time'])\n",
    "table.align[\"Features\"] = \"l\"\n",
    "\n",
    "for feature in features:\n",
    "    for h_type in ['current', 'history']:\n",
    "        # Read pickle\n",
    "        matrices = matrix_helper.load_from_parse('data/matrices/matrix_cla_{}_{}.pickle'.format(feature[0], h_type))\n",
    "        \n",
    "        feature_name = \"{} ({})\".format(feature[1], h_type)\n",
    "        precision_list = []\n",
    "        recall_list = []\n",
    "        time_list = []\n",
    "        \n",
    "        for i in range(experiments_per_feature):\n",
    "            print '* {:20}: {:2}/{:2}\\r'.format(feature_name, i+1, experiments_per_feature),\n",
    "            # Instantiate Prediction Helper Class and predict values for compare matrix with an SVM\n",
    "            prediction_helper = PredictionHelper()\n",
    "            prediction_helper.calculate_validation_compare_matrix(matrices, sampling_factor=(2.0/3), model_type='LinearSVC')\n",
    "            compare_matrix = prediction_helper.get_compare_matrix()\n",
    "\n",
    "            # Compute Precision-Recall\n",
    "            precision, recall, thresholds = precision_recall_curve(np.array(compare_matrix[:, 2], dtype='f'), np.array(compare_matrix[:, 1], dtype='f'))\n",
    "            precision_list.append(precision[1])\n",
    "            recall_list.append(recall[1])\n",
    "            time_list.append(prediction_helper.time_fitting)\n",
    "        print\n",
    "        \n",
    "        divisor = float(experiments_per_feature)\n",
    "        precision = \"{:.3f}\".format(sum(precision_list)/divisor)\n",
    "        recall = \"{:.3f}\".format(sum(recall_list)/divisor)\n",
    "        precision_sd = '{:.3f}'.format(np.std(precision_list))\n",
    "        recall_sd = '{:.3f}'.format(np.std(recall_list))\n",
    "        time = \"{:.2f}min\".format((sum(time_list)/divisor) / 60.0)\n",
    "        \n",
    "        table.add_row([feature_name, len(matrices[2]), precision, recall, precision_sd, recall_sd, time])\n",
    "\n",
    "print(table)"
   ]
  },
  {
   "cell_type": "code",
   "execution_count": null,
   "metadata": {
    "collapsed": true,
    "deletable": true,
    "editable": true
   },
   "outputs": [],
   "source": []
  }
 ],
 "metadata": {
  "kernelspec": {
   "display_name": "Python 2",
   "language": "python",
   "name": "python2"
  },
  "language_info": {
   "codemirror_mode": {
    "name": "ipython",
    "version": 2
   },
   "file_extension": ".py",
   "mimetype": "text/x-python",
   "name": "python",
   "nbconvert_exporter": "python",
   "pygments_lexer": "ipython2",
   "version": "2.7.10"
  }
 },
 "nbformat": 4,
 "nbformat_minor": 2
}
