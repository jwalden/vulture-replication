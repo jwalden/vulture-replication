{
 "cells": [
  {
   "cell_type": "markdown",
   "metadata": {
    "collapsed": true,
    "deletable": true,
    "editable": true
   },
   "source": [
    "# Test: Bestimmung Precision / Recall mit SVM\n",
    "Um die Klassifikation, und damit auch von dem Aufbau unserer Matrix, zu testen, bestimmen wir Precision und Recall mit einer SVM.\n",
    "\n",
    "* Precision: Wieviele der zugeordneten Samples sind tatsächlich relevant? (true pos.) / (true pos. + false pos.)\n",
    "* Recall: Wieviele der tatsächlich relevanten Samples wurden gefunden / zugeordnet? (true pos.) / (true pos. + false neg.)\n",
    " * Tiefe Precision / hoher Recall: Es werden viele Samples zugeordnet, von denen jedoch viele falsch sind\n",
    " * Hohe Precision / tiefer Recall: Es werden nur wenige Samples zugeordnet, von denen jedoch die meisten stimmen.\n",
    "<img src=\"img/Precisionrecall.png\" alt=\"Drawing\" style=\"width: 200px\"/>\n",
    "\n",
    "## Optimierung\n",
    "Mit diesem Test versuchen wir die Konfiguration der SVM möglichst gut auf unsere Datenstruktur auszurichten.\n",
    "### Kernel\n",
    "Der Kernel definiert, mit welcher Art Funktion die Datenpunkte im 2D-Raum voneinander getrennt werden. Standardmässig wird dazu eine lineare Funktion (linear kernel) verwendet. Wenn die Punkte im training set nicht durch eine Gerade trennbar sind, versucht man sie in einer höheren Dimension voneinander zu trennen. Die erreicht man durch andere kernel-Funktionen (z.B. Polynomial oder RBF).\n",
    "Bei vielen Features, wie es bei unseren Daten der Fall ist, bringt eine höhere Dimension keine Vorteile, ist aber sehr teuer. Entsprechend verwenden wir einen linearen Kernel.\n",
    "\n",
    "#### Parameter\n",
    "Der lineare Kernel verlangt ausschliesslich einen Penalty Parameter C. Beim einem hohen C versucht der Classifier die Ebene so zu legen, dass möglichst wenige Datenpunkte aus dem training set falsch klassifiziert sind. Dafür nimmt er ein kleineres Margin zwischen Ebene und Punkte in Kauf. Bei einem tiefen Wert für C sucht der Classifier nach einem möglichst hohen margin, nimmt aber falsche Klassifizierungen im trianing set in Kauf.\n"
   ]
  },
  {
   "cell_type": "markdown",
   "metadata": {},
   "source": [
    "# Das folgende Skript ist für einen average test mit einer einzelnen Matrix"
   ]
  },
  {
   "cell_type": "code",
   "execution_count": 5,
   "metadata": {
    "collapsed": false
   },
   "outputs": [
    {
     "name": "stdout",
     "output_type": "stream",
     "text": [
      "|   0.767   | 0.651  |  0.1min|\n",
      "|   0.761   | 0.621  |  0.1min|\n",
      "|   0.756   | 0.609  |  0.1min|\n",
      "|   0.740   | 0.621  |  0.1min|\n",
      "|   0.774   | 0.614  |  0.1min|\n",
      "|   0.756   | 0.639  |  0.1min|\n",
      "|   0.746   | 0.631  |  0.1min|\n",
      "|   0.732   | 0.596  |  0.1min|\n",
      "|   0.737   | 0.662  |  0.1min|\n",
      "|   0.740   | 0.629  |  0.1min|\n",
      "Average precision: 0.750859168215\n",
      "Average recall: 0.627121464226\n"
     ]
    }
   ],
   "source": [
    "import matplotlib.pyplot as plt\n",
    "import numpy as np\n",
    "\n",
    "from imports.matrix_helper import MatrixHelper\n",
    "from imports.prediction_helper import PredictionHelper\n",
    "from sklearn.metrics import precision_recall_curve\n",
    "\n",
    "matrix_helper = MatrixHelper()\n",
    "\n",
    "# Read pickle\n",
    "matrices = matrix_helper.load_from_parse('data/matrices/matrix_cla_incl_history.pickle')\n",
    "\n",
    "precision_list = []\n",
    "recall_list = []\n",
    "for i in range(10):\n",
    "    # Instantiate Prediction Helper Class and predict values for compare matrix with an SVM\n",
    "    prediction_helper = PredictionHelper()\n",
    "    prediction_helper.calculate_validation_compare_matrix(matrices, sampling_factor=(2.0/3), prediction_type='LinearSVC', crop_matrix=False)\n",
    "    compare_matrix = prediction_helper.get_compare_matrix()\n",
    "\n",
    "    # Compute Precision-Recall\n",
    "    precision, recall, thresholds = precision_recall_curve(np.array(compare_matrix[:, 2], dtype='f'), np.array(compare_matrix[:, 1], dtype='f'))\n",
    "\n",
    "    precision_list.append(precision[1])\n",
    "    recall_list.append(recall[1])\n",
    "    # Print\n",
    "    print('|{:^11.3f}|{:^8.3f}|{:5.1f}min|'.format(precision[1], recall[1], prediction_helper.time))\n",
    "\n",
    "precision_average = sum(precision_list) / float(len(precision_list))\n",
    "recall_average = float(sum(recall_list)) / len(recall_list)\n",
    "print('Average precision: {}'.format(precision_average))\n",
    "print('Average recall: {}'.format(recall_average))"
   ]
  },
  {
   "cell_type": "markdown",
   "metadata": {},
   "source": [
    "# Das folgende Skript ist für das Testen verschiedener features"
   ]
  },
  {
   "cell_type": "code",
   "execution_count": 3,
   "metadata": {
    "collapsed": false
   },
   "outputs": [
    {
     "name": "stdout",
     "output_type": "stream",
     "text": [
      "|incl_current                         |   0.669   | 0.376  |             9.8%|                5.5%|(  0.1min)\n"
     ]
    }
   ],
   "source": [
    "import matplotlib.pyplot as plt\n",
    "import numpy as np\n",
    "\n",
    "from imports.matrix_helper import MatrixHelper\n",
    "from imports.prediction_helper import PredictionHelper\n",
    "from sklearn.metrics import precision_recall_curve\n",
    "\n",
    "matrix_helper = MatrixHelper()\n",
    "\n",
    "for filename in ['incl_current']:\n",
    "    # Read pickle\n",
    "    matrices = matrix_helper.load_from_parse('data/matrices/matrix_cla_' + filename + '.pickle')\n",
    "\n",
    "    # Instantiate Prediction Helper Class and predict values for compare matrix with an SVM\n",
    "    prediction_helper = PredictionHelper()\n",
    "    prediction_helper.calculate_validation_compare_matrix(matrices, sampling_factor=(2.0/3), prediction_type='LinearSVC', crop_matrix=False)\n",
    "    compare_matrix = prediction_helper.get_compare_matrix()\n",
    "\n",
    "    # Compute Precision-Recall\n",
    "    precision, recall, thresholds = precision_recall_curve(np.array(compare_matrix[:, 2], dtype='f'), np.array(compare_matrix[:, 1], dtype='f'))\n",
    "\n",
    "    # Print\n",
    "    vulnerable_testset = matrix_helper.get_vulnerable_percentage(np.array(compare_matrix[:, 2], dtype='f'))\n",
    "    vulnerable_prediction = matrix_helper.get_vulnerable_percentage(np.array(compare_matrix[:, 1], dtype='f'))\n",
    "    print('|{:37}|{:^11.3f}|{:^8.3f}|{:16.1f}%|{:19.1f}%|({:5.1f}min)'.format(filename, precision[1], recall[1], vulnerable_testset, vulnerable_prediction, prediction_helper.time))"
   ]
  },
  {
   "cell_type": "markdown",
   "metadata": {
    "collapsed": true
   },
   "source": [
    "## Ergebnisse for includes hisotry matrix\n",
    "\n",
    "## Ergebnisse mit div Features\n",
    "| Matrix (Classification)             | Precision | Recall | Vul. in Testset | Vul. in Prediction |\n",
    "|-------------------------------------|-----------|--------|-----------------|--------------------|\n",
    "| Includes (current)                  | 0.786     | 0.342  | 9.8%            | 4.3%               |\n",
    "| Includes (history, with duplicates) | 0.8       | 0.661  | 17.8%           | 14,7%              |\n",
    "| Includes (history)                  | 0.783     | 0.631  | 9.6%            | 7.7%               |\n",
    "| Conditions (current)                | 0.794     | 0.097  | 9.8%            | 1.2%               |\n",
    "| Conditions (history, with duplicates)| 0.88      | 0.517  | 17.4%           | 10.2%              |\n",
    "| Conditions (history)                | 0.892     | 0.397  | 5.9%            | 2.6%               |\n",
    "| Names (current)                     | 0.75      | 0.038  | 9.8%            | 0.5%               |\n",
    "| Names (history, with duplicates)    | 0.671     | 0.483  | 13.5%           | 9.7%               |\n",
    "| Names (history)                     | 0.556     | 0.126  | 2.1%            | 0.5%               |\n",
    "| Defs (current)                      |   0.679   | 0.068  |             9.8%|                1.0%|\n",
    "| Defs (history)                      |   0.594   | 0.264  |             5.0%|                2.2%|\n",
    "\n",
    "## Ergebnisse mit div Features und LinearSVC\n",
    "| Matrix (Classification)             | Precision | Recall | Vul. in Testset | Vul. in Prediction |\n",
    "|-------------------------------------|-----------|--------|-----------------|--------------------|\n",
    "|incl_current                         |   0.605   | 0.387  |             9.8%|                6.3%|(  0.1min)\n",
    "|incl_history                         |   0.724   | 0.614  |             9.6%|                8.1%|(  0.1min)\n",
    "|cond_current                         |   0.786   | 0.165  |             9.8%|                2.1%|(  0.1min)\n",
    "|cond_history                         |   0.832   | 0.501  |             5.9%|                3.6%|(  0.1min)\n",
    "|names_current                        |   0.662   | 0.095  |             9.8%|                1.4%|(  0.0min)\n",
    "|names_history                        |   0.733   | 0.185  |             2.1%|                0.5%|(  0.0min)\n",
    "|defs_current                         |   0.792   | 0.075  |             9.8%|                0.9%|(  0.5min)\n",
    "|defs_history                         |   0.620   | 0.381  |             5.0%|                3.1%|(  0.5min)\n",
    "|calls_current                        |   0.734   | 0.401  |             9.8%|                5.4%|(  1.8min)\n",
    "|calls_history                        |   0.774   | 0.704  |            14.0%|               12.7%|(  4.6min)"
   ]
  },
  {
   "cell_type": "code",
   "execution_count": null,
   "metadata": {
    "collapsed": true
   },
   "outputs": [],
   "source": []
  }
 ],
 "metadata": {
  "kernelspec": {
   "display_name": "Python [default]",
   "language": "python",
   "name": "python2"
  },
  "language_info": {
   "codemirror_mode": {
    "name": "ipython",
    "version": 2
   },
   "file_extension": ".py",
   "mimetype": "text/x-python",
   "name": "python",
   "nbconvert_exporter": "python",
   "pygments_lexer": "ipython2",
   "version": "2.7.9"
  }
 },
 "nbformat": 4,
 "nbformat_minor": 2
}
