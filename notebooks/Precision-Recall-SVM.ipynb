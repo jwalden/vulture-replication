{
 "cells": [
  {
   "cell_type": "markdown",
   "metadata": {
    "collapsed": true,
    "deletable": true,
    "editable": true
   },
   "source": [
    "# Test: Bestimmung Precision / Recall mit SVM\n",
    "Um die Klassifikation, und damit auch von dem Aufbau unserer Matrix, zu testen, bestimmen wir Precision und Recall mit einer SVM.\n",
    "\n",
    "* Precision: Wieviele der zugeordneten Samples sind tatsächlich relevant? (true pos.) / (true pos. + false pos.)\n",
    "* Recall: Wieviele der tatsächlich relevanten Samples wurden gefunden / zugeordnet? (true pos.) / (true pos. + false neg.)\n",
    " * Tiefe Precision / hoher Recall: Es werden viele Samples zugeordnet, von denen jedoch viele falsch sind\n",
    " * Hohe Precision / tiefer Recall: Es werden nur wenige Samples zugeordnet, von denen jedoch die meisten stimmen.\n",
    "<img src=\"img/Precisionrecall.png\" alt=\"Drawing\" style=\"width: 200px\"/>\n",
    "\n",
    "## Optimierung\n",
    "Mit diesem Test versuchen wir die Konfiguration der SVM möglichst gut auf unsere Datenstruktur auszurichten.\n",
    "### Kernel\n",
    "Der Kernel definiert, mit welcher Art Funktion die Datenpunkte im 2D-Raum voneinander getrennt werden. Standardmässig wird dazu eine lineare Funktion (linear kernel) verwendet. Wenn die Punkte im training set nicht durch eine Gerade trennbar sind, versucht man sie in einer höheren Dimension voneinander zu trennen. Die erreicht man durch andere kernel-Funktionen (z.B. Polynomial oder RBF).\n",
    "Bei vielen Features, wie es bei unseren Daten der Fall ist, bringt eine höhere Dimension keine Vorteile, ist aber sehr teuer. Entsprechend verwenden wir einen linearen Kernel.\n",
    "\n",
    "#### Parameter\n",
    "Der lineare Kernel verlangt ausschliesslich einen Penalty Parameter C. Beim einem hohen C versucht der Classifier die Ebene so zu legen, dass möglichst wenige Datenpunkte aus dem training set falsch klassifiziert sind. Dafür nimmt er ein kleineres Margin zwischen Ebene und Punkte in Kauf. Bei einem tiefen Wert für C sucht der Classifier nach einem möglichst hohen margin, nimmt aber falsche Klassifizierungen im trianing set in Kauf.\n"
   ]
  },
  {
   "cell_type": "code",
   "execution_count": null,
   "metadata": {
    "collapsed": false
   },
   "outputs": [
    {
     "name": "stdout",
     "output_type": "stream",
     "text": [
      "|defs_current                         |   0.679   | 0.068  |             9.8%|                1.0%|(108.9min)\n",
      "|defs_history                         |   0.594   | 0.264  |             5.0%|                2.2%|( 49.8min)\n"
     ]
    }
   ],
   "source": [
    "import matplotlib.pyplot as plt\n",
    "import numpy as np\n",
    "\n",
    "from imports.matrix_helper import MatrixHelper\n",
    "from imports.prediction_helper import PredictionHelper\n",
    "from sklearn.metrics import precision_recall_curve\n",
    "\n",
    "matrix_helper = MatrixHelper()\n",
    "\n",
    "for filename in ['defs_current', 'defs_history', 'calls_current', 'calls_hisotry']:\n",
    "    # Read pickle\n",
    "    matrices = matrix_helper.load_from_parse('data/matrices/matrix_cla_' + filename + '.pickle')\n",
    "\n",
    "    # Instantiate Prediction Helper Class and predict values for compare matrix with an SVM\n",
    "    prediction_helper = PredictionHelper()\n",
    "    prediction_helper.calculate_validation_compare_matrix(matrices, sampling_factor=(2.0/3), prediction_type='SVM', crop_matrix=False)\n",
    "    compare_matrix = prediction_helper.get_compare_matrix()\n",
    "\n",
    "    # Compute Precision-Recall\n",
    "    precision, recall, thresholds = precision_recall_curve(np.array(compare_matrix[:, 2], dtype='f'), np.array(compare_matrix[:, 1], dtype='f'))\n",
    "\n",
    "    # Print\n",
    "    vulnerable_testset = matrix_helper.get_vulnerable_percentage(np.array(compare_matrix[:, 2], dtype='f'))\n",
    "    vulnerable_prediction = matrix_helper.get_vulnerable_percentage(np.array(compare_matrix[:, 1], dtype='f'))\n",
    "    print('|{:37}|{:^11.3f}|{:^8.3f}|{:16.1f}%|{:19.1f}%|({:5.1f}min)'.format(filename, precision[1], recall[1], vulnerable_testset, vulnerable_prediction, prediction_helper.time))"
   ]
  },
  {
   "cell_type": "markdown",
   "metadata": {
    "collapsed": true
   },
   "source": [
    "## Ergebnisse\n",
    "### Bestimmung Parameter C\n",
    "Evaluation mit 2000 samples im test set:\n",
    "* C=0.1: Precision 0.777777777778, Recall 0.21875\n",
    "* C=0.2: Precision 0.785714285714, Recall 0.34375\n",
    "* C=0.3: Precision 0.769230769231, Recall 0.3125\n",
    "* C=0.4: Precision 0.714285714286, Recall 0.3125\n",
    "* C=0.5: Precision 0.666666666667, Recall 0.3125\n",
    "* C=0.6: Precision 0.555555555556, Recall 0.3125\n",
    "* C=0.7: Precision 0.555555555556, Recall 0.3125\n",
    "* C=0.8: Precision 0.578947368421, Recall 0.34375\n",
    "* C=0.9: Precision 0.578947368421, Recall 0.34375\n",
    "* C=1: Precision 0.578947368421, Recall 0.34375\n",
    "\n",
    "### Test mit Parameter C\n",
    "#### Test mit Klassifikationsmatrix nach dem Bugfix\n",
    "* #1: Precision 0.814313346228, Recall 0.695867768595\n",
    "* #2: Precision 0.796541200407, Recall 0.647107438017\n",
    "* #3: Precision 0.804263565891, Recall 0.685950413223\n",
    "* #4: Precision 0.819875776398, Recall 0.654545454545\n",
    "* #5: Precision 0.802040816327, Recall 0.64958677686\n",
    "* #6: Precision 0.828838174274, Recall 0.660330578512\n",
    "* #7: Precision 0.807453416149, Recall 0.644628099174\n",
    "* #8: Precision 0.805954825462, Recall 0.648760330579\n",
    "* #9: Precision 0.800401203611, Recall 0.659504132231\n",
    "* #10: Precision 0.812437311936, Recall 0.669421487603\n",
    "* #11: Precision 0.789579158317, Recall 0.651239669421\n",
    "* #12: Precision 0.810568295115, Recall 0.671900826446\n",
    "* #13: Precision 0.80971659919, Recall 0.661157024793\n",
    "* #14: Precision 0.821538461538, Recall 0.661983471074\n",
    "* #15: Precision 0.805555555556, Recall 0.671074380165\n",
    "* \n",
    "* Precision mean: 0.808605180427\n",
    "* Recall mean: 0.662203856749\n",
    "\n",
    "## Ergebnisse mit div Features\n",
    "| Matrix (Classification)             | Precision | Recall | Vul. in Testset | Vul. in Prediction |\n",
    "|-------------------------------------|-----------|--------|-----------------|--------------------|\n",
    "| Includes (current)                  | 0.786     | 0.342  | 9.8%            | 4.3%               |\n",
    "| Includes (history, with duplicates) | 0.8       | 0.661  | 17.8%           | 14,7%              |\n",
    "| Includes (history)                  | 0.783     | 0.631  | 9.6%            | 7.7%               |\n",
    "| Conditions (current)                | 0.794     | 0.097  | 9.8%            | 1.2%               |\n",
    "| Conditions (history, with duplicates)| 0.88      | 0.517  | 17.4%           | 10.2%              |\n",
    "| Conditions (history)                | 0.892     | 0.397  | 5.9%            | 2.6%               |\n",
    "| Names (current)                     | 0.75      | 0.038  | 9.8%            | 0.5%               |\n",
    "| Names (history, with duplicates)    | 0.671     | 0.483  | 13.5%           | 9.7%               |\n",
    "| Names (history)                     | 0.556     | 0.126  | 2.1%            | 0.5%               |\n",
    "| Defs (current)                      |   0.679   | 0.068  |             9.8%|                1.0%|\n",
    "| Defs (history)                      |   0.594   | 0.264  |             5.0%|                2.2%|\n"
   ]
  },
  {
   "cell_type": "code",
   "execution_count": null,
   "metadata": {
    "collapsed": true
   },
   "outputs": [],
   "source": []
  }
 ],
 "metadata": {
  "kernelspec": {
   "display_name": "Python [default]",
   "language": "python",
   "name": "python2"
  },
  "language_info": {
   "codemirror_mode": {
    "name": "ipython",
    "version": 2
   },
   "file_extension": ".py",
   "mimetype": "text/x-python",
   "name": "python",
   "nbconvert_exporter": "python",
   "pygments_lexer": "ipython2",
   "version": "2.7.9"
  }
 },
 "nbformat": 4,
 "nbformat_minor": 2
}
