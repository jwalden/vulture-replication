{
 "cells": [
  {
   "cell_type": "code",
   "execution_count": 2,
   "metadata": {},
   "outputs": [
    {
     "ename": "TypeError",
     "evalue": "calculate_validation_compare_matrix() got an unexpected keyword argument 'model_type'",
     "output_type": "error",
     "traceback": [
      "\u001b[0;31m---------------------------------------------------------------------------\u001b[0m",
      "\u001b[0;31mTypeError\u001b[0m                                 Traceback (most recent call last)",
      "\u001b[0;32m<ipython-input-2-b31657910a5b>\u001b[0m in \u001b[0;36m<module>\u001b[0;34m()\u001b[0m\n\u001b[1;32m     20\u001b[0m         \u001b[0;31m# Instantiate Prediction Helper Class and predict values for compare matrix with a DT\u001b[0m\u001b[0;34m\u001b[0m\u001b[0;34m\u001b[0m\u001b[0m\n\u001b[1;32m     21\u001b[0m         \u001b[0mprediction_helper\u001b[0m \u001b[0;34m=\u001b[0m \u001b[0mPredictionHelper\u001b[0m\u001b[0;34m(\u001b[0m\u001b[0;34m)\u001b[0m\u001b[0;34m\u001b[0m\u001b[0m\n\u001b[0;32m---> 22\u001b[0;31m         \u001b[0mprediction_helper\u001b[0m\u001b[0;34m.\u001b[0m\u001b[0mcalculate_validation_compare_matrix\u001b[0m\u001b[0;34m(\u001b[0m\u001b[0mmatrices\u001b[0m\u001b[0;34m,\u001b[0m \u001b[0msampling_factor\u001b[0m\u001b[0;34m=\u001b[0m\u001b[0;34m(\u001b[0m\u001b[0;36m2.0\u001b[0m\u001b[0;34m/\u001b[0m\u001b[0;36m3\u001b[0m\u001b[0;34m)\u001b[0m\u001b[0;34m,\u001b[0m \u001b[0mmodel_type\u001b[0m\u001b[0;34m=\u001b[0m\u001b[0;34m'DT'\u001b[0m\u001b[0;34m,\u001b[0m \u001b[0mcrop_matrix\u001b[0m\u001b[0;34m=\u001b[0m\u001b[0;36m1000\u001b[0m\u001b[0;34m)\u001b[0m\u001b[0;34m\u001b[0m\u001b[0m\n\u001b[0m\u001b[1;32m     23\u001b[0m         \u001b[0mcompare_matrix\u001b[0m \u001b[0;34m=\u001b[0m \u001b[0mprediction_helper\u001b[0m\u001b[0;34m.\u001b[0m\u001b[0mget_compare_matrix\u001b[0m\u001b[0;34m(\u001b[0m\u001b[0;34m)\u001b[0m\u001b[0;34m\u001b[0m\u001b[0m\n\u001b[1;32m     24\u001b[0m \u001b[0;34m\u001b[0m\u001b[0m\n",
      "\u001b[0;31mTypeError\u001b[0m: calculate_validation_compare_matrix() got an unexpected keyword argument 'model_type'"
     ]
    }
   ],
   "source": [
    "import time\n",
    "import matplotlib.pyplot as plt\n",
    "import numpy as np\n",
    "from prettytable import PrettyTable\n",
    "\n",
    "from imports.matrix_helper import MatrixHelper\n",
    "from imports.prediction_helper import PredictionHelper\n",
    "from sklearn.metrics import precision_recall_curve\n",
    "\n",
    "matrix_helper = MatrixHelper()\n",
    "\n",
    "features = [('incl', 'Includes'), ('cond', 'Conditions'), ('defs', 'Definitions'), ('names', 'Names'), ('calls', 'Function Calls')]\n",
    "table = PrettyTable(['Features', 'Feature count', 'Precision', 'Recall', 'Time for fitting'])\n",
    "\n",
    "for feature in features:\n",
    "    for h_type in ['current', 'history']:\n",
    "        # Read pickle\n",
    "        matrices = matrix_helper.load_from_parse('data/matrices/matrix_cla_' + feature[0] + '_' + h_type + '.pickle')\n",
    "\n",
    "        # Instantiate Prediction Helper Class and predict values for compare matrix with a DT\n",
    "        prediction_helper = PredictionHelper()\n",
    "        prediction_helper.calculate_validation_compare_matrix(matrices, sampling_factor=(2.0/3), model_type='DT', crop_matrix=1000)\n",
    "        compare_matrix = prediction_helper.get_compare_matrix()\n",
    "\n",
    "        # Compute Precision-Recall\n",
    "        precision, recall, thresholds = precision_recall_curve(np.array(compare_matrix[:, 2], dtype='f'), np.array(compare_matrix[:, 1], dtype='f'))\n",
    "\n",
    "        # Print\n",
    "        vulnerable_testset = matrix_helper.get_vulnerable_percentage(np.array(compare_matrix[:, 2], dtype='f'))\n",
    "        vulnerable_prediction = matrix_helper.get_vulnerable_percentage(np.array(compare_matrix[:, 1], dtype='f'))\n",
    "        print('|{:30}|{:^11.3f}|{:^8.3f}|{:16.1f}%|{:19.1f}%|{}|({:5.1f}min)'.format(\n",
    "            filename, precision[1], recall[1], vulnerable_testset, vulnerable_prediction, \n",
    "            prediction_helper.most_important_feature, prediction_helper.time)\n",
    "             )"
   ]
  },
  {
   "cell_type": "code",
   "execution_count": null,
   "metadata": {
    "collapsed": true
   },
   "outputs": [],
   "source": []
  }
 ],
 "metadata": {
  "kernelspec": {
   "display_name": "Python 2",
   "language": "python",
   "name": "python2"
  },
  "language_info": {
   "codemirror_mode": {
    "name": "ipython",
    "version": 2
   },
   "file_extension": ".py",
   "mimetype": "text/x-python",
   "name": "python",
   "nbconvert_exporter": "python",
   "pygments_lexer": "ipython2",
   "version": "2.7.10"
  }
 },
 "nbformat": 4,
 "nbformat_minor": 2
}
