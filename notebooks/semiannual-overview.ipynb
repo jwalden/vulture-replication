{
 "cells": [
  {
   "cell_type": "code",
   "execution_count": 1,
   "metadata": {
    "collapsed": false,
    "scrolled": false
   },
   "outputs": [
    {
     "name": "stdout",
     "output_type": "stream",
     "text": [
      "incl_2007-03-22: Samples:   5564 vulnerbale:      0 vulnerable percentage:   0.00%\n",
      "incl_2007-06-21: Samples:   5492 vulnerbale:     63 vulnerable percentage:   1.15%\n",
      "incl_2007-09-23: Samples:   5367 vulnerbale:    107 vulnerable percentage:   1.99%\n",
      "incl_2007-12-18: Samples:   5395 vulnerbale:    160 vulnerable percentage:   2.97%\n",
      "incl_2008-03-18: Samples:   5356 vulnerbale:    189 vulnerable percentage:   3.53%\n",
      "incl_2008-06-08: Samples:   6621 vulnerbale:    200 vulnerable percentage:   3.02%\n",
      "incl_2008-09-21: Samples:   6753 vulnerbale:    228 vulnerable percentage:   3.38%\n",
      "incl_2008-12-16: Samples:   6932 vulnerbale:    270 vulnerable percentage:   3.89%\n"
     ]
    },
    {
     "ename": "KeyboardInterrupt",
     "evalue": "",
     "output_type": "error",
     "traceback": [
      "\u001b[0;31m---------------------------------------------------------------------------\u001b[0m",
      "\u001b[0;31mKeyboardInterrupt\u001b[0m                         Traceback (most recent call last)",
      "\u001b[0;32m<ipython-input-1-d44686859f56>\u001b[0m in \u001b[0;36m<module>\u001b[0;34m()\u001b[0m\n\u001b[1;32m     42\u001b[0m         \u001b[0;32melse\u001b[0m\u001b[0;34m:\u001b[0m\u001b[0;34m\u001b[0m\u001b[0m\n\u001b[1;32m     43\u001b[0m             \u001b[0mdates\u001b[0m\u001b[0;34m.\u001b[0m\u001b[0mappend\u001b[0m\u001b[0;34m(\u001b[0m\u001b[0;34m''\u001b[0m\u001b[0;34m)\u001b[0m\u001b[0;34m\u001b[0m\u001b[0m\n\u001b[0;32m---> 44\u001b[0;31m         \u001b[0mprintInfo\u001b[0m\u001b[0;34m(\u001b[0m\u001b[0mfile\u001b[0m\u001b[0;34m)\u001b[0m\u001b[0;34m\u001b[0m\u001b[0m\n\u001b[0m\u001b[1;32m     45\u001b[0m \u001b[0;34m\u001b[0m\u001b[0m\n\u001b[1;32m     46\u001b[0m \u001b[0;34m\u001b[0m\u001b[0m\n",
      "\u001b[0;32m<ipython-input-1-d44686859f56>\u001b[0m in \u001b[0;36mprintInfo\u001b[0;34m(file)\u001b[0m\n\u001b[1;32m     13\u001b[0m \u001b[0;34m\u001b[0m\u001b[0m\n\u001b[1;32m     14\u001b[0m \u001b[0;32mdef\u001b[0m \u001b[0mprintInfo\u001b[0m\u001b[0;34m(\u001b[0m\u001b[0mfile\u001b[0m\u001b[0;34m)\u001b[0m\u001b[0;34m:\u001b[0m\u001b[0;34m\u001b[0m\u001b[0m\n\u001b[0;32m---> 15\u001b[0;31m     \u001b[0mmatrix\u001b[0m \u001b[0;34m=\u001b[0m \u001b[0mget_matrices\u001b[0m\u001b[0;34m(\u001b[0m\u001b[0;34m'data/semiannual_matrices/'\u001b[0m \u001b[0;34m+\u001b[0m \u001b[0mfile\u001b[0m\u001b[0;34m)\u001b[0m\u001b[0;34m\u001b[0m\u001b[0m\n\u001b[0m\u001b[1;32m     16\u001b[0m     \u001b[0mdate\u001b[0m \u001b[0;34m=\u001b[0m \u001b[0mfile\u001b[0m\u001b[0;34m.\u001b[0m\u001b[0msplit\u001b[0m\u001b[0;34m(\u001b[0m\u001b[0;34m'_'\u001b[0m\u001b[0;34m,\u001b[0m \u001b[0;36m2\u001b[0m\u001b[0;34m)\u001b[0m\u001b[0;34m[\u001b[0m\u001b[0;36m2\u001b[0m\u001b[0;34m]\u001b[0m\u001b[0;34m.\u001b[0m\u001b[0msplit\u001b[0m\u001b[0;34m(\u001b[0m\u001b[0;34m'.'\u001b[0m\u001b[0;34m,\u001b[0m \u001b[0;36m1\u001b[0m\u001b[0;34m)\u001b[0m\u001b[0;34m[\u001b[0m\u001b[0;36m0\u001b[0m\u001b[0;34m]\u001b[0m\u001b[0;34m\u001b[0m\u001b[0m\n\u001b[1;32m     17\u001b[0m \u001b[0;34m\u001b[0m\u001b[0m\n",
      "\u001b[0;32m/Users/aurelio/Documents/Programmieren/BA/vulture-replication/notebooks/imports/sparse_reader.pyc\u001b[0m in \u001b[0;36mget_matrices\u001b[0;34m(path)\u001b[0m\n",
      "\u001b[0;31mKeyboardInterrupt\u001b[0m: "
     ]
    }
   ],
   "source": [
    "%matplotlib inline\n",
    "import matplotlib.patches as mpatches\n",
    "import matplotlib.pyplot as plt\n",
    "import numpy as np\n",
    "from sklearn.svm import LinearSVR\n",
    "import matplotlib.pyplot as plt\n",
    "from imports.sparse_reader import get_matrices\n",
    "import os\n",
    "\n",
    "dates = []\n",
    "samples_count_list = []\n",
    "vulnerabilities_count_list = []\n",
    "\n",
    "def printInfo(file):\n",
    "    matrix = get_matrices('data/semiannual_matrices/' + file)\n",
    "    date = file.split('_', 2)[2].split('.', 1)[0]\n",
    "\n",
    "    feature_matrix = matrix[0]\n",
    "    rows = matrix[1]\n",
    "    \n",
    "    # count number of samples and features in the feature matrix\n",
    "    samples_count = feature_matrix.shape[0]\n",
    "    samples_count_list.append(samples_count)\n",
    "    \n",
    "    vulnerable_indices = np.where(feature_matrix[:,-1] > 0)\n",
    "    vulnerable_indices_count = len(vulnerable_indices[0])\n",
    "    vulnerabilities_count_list.append(vulnerable_indices_count)\n",
    "    \n",
    "    not_vulnerable_indices = np.where(feature_matrix[:,-1] < 1)\n",
    "    not_vulnerable_indices_count = len(not_vulnerable_indices[0])\n",
    "    \n",
    "    percentage = (float(vulnerable_indices_count) / samples_count) * 100\n",
    "    \n",
    "    print('{}: Samples: {:6d} vulnerbale: {:6d} vulnerable percentage: {:6.2f}%'\n",
    "          .format(date, samples_count, vulnerable_indices_count, percentage))\n",
    "\n",
    "for file in os.listdir(\"data/semiannual_matrices\"):\n",
    "    if file != '.DS_Store' and file.split('_', 4)[1] == 'reg' and file.split('_', 4)[2] == 'incl':\n",
    "        current_year = file.split('_', 4)[3].split('.', 1)[0].split('-', 2)[0]\n",
    "        if current_year not in dates:\n",
    "            dates.append(current_year)\n",
    "        else:\n",
    "            dates.append('')\n",
    "        printInfo(file)     \n",
    "\n",
    "        \n",
    "# plot\n",
    "fig, ax1 = plt.subplots()\n",
    "ax2 = ax1.twinx()\n",
    "\n",
    "plt.xticks(range(len(dates)), dates)\n",
    "ax1.plot(range(len(dates)), samples_count_list, 'g-')\n",
    "ax2.plot(range(len(dates)), vulnerabilities_count_list, 'b-')\n",
    "\n",
    "\n",
    "green_patch = mpatches.Patch(color='g', label='Samples total')\n",
    "blue_patch = mpatches.Patch(color='b', label='Vulnerable samples')\n",
    "plt.legend(handles=[green_patch, blue_patch])\n",
    "\n",
    "ax1.set_xlabel('Date')\n",
    "ax1.set_ylabel('Samples')\n",
    "ax2.set_ylabel('Vulnerable samples')\n",
    "\n",
    "plt.show()\n",
    "fig.savefig('outputs/samples_vs_vulnerabilities.pdf')\n",
    "plt.close(fig)\n",
    "\n"
   ]
  },
  {
   "cell_type": "code",
   "execution_count": null,
   "metadata": {
    "collapsed": true
   },
   "outputs": [],
   "source": []
  }
 ],
 "metadata": {
  "kernelspec": {
   "display_name": "Python [default]",
   "language": "python",
   "name": "python2"
  },
  "language_info": {
   "codemirror_mode": {
    "name": "ipython",
    "version": 2
   },
   "file_extension": ".py",
   "mimetype": "text/x-python",
   "name": "python",
   "nbconvert_exporter": "python",
   "pygments_lexer": "ipython2",
   "version": "2.7.13"
  }
 },
 "nbformat": 4,
 "nbformat_minor": 2
}
