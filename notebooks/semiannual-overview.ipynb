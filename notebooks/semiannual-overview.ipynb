{
 "cells": [
  {
   "cell_type": "code",
   "execution_count": 10,
   "metadata": {
    "collapsed": false,
    "scrolled": false
   },
   "outputs": [
    {
     "name": "stdout",
     "output_type": "stream",
     "text": [
      "2007-03-22: Samples:   5551 vulnerbale:      0 vulnerable percentage:   0.00%\n",
      "2007-06-21: Samples:   5471 vulnerbale:     66 vulnerable percentage:   1.21%\n",
      "2007-09-23: Samples:   5346 vulnerbale:    114 vulnerable percentage:   2.13%\n",
      "2007-12-18: Samples:   5378 vulnerbale:    171 vulnerable percentage:   3.18%\n",
      "2008-03-18: Samples:   5341 vulnerbale:    203 vulnerable percentage:   3.80%\n",
      "2008-06-08: Samples:   6607 vulnerbale:    218 vulnerable percentage:   3.30%\n",
      "2008-09-21: Samples:   6740 vulnerbale:    252 vulnerable percentage:   3.74%\n",
      "2008-12-16: Samples:   6920 vulnerbale:    297 vulnerable percentage:   4.29%\n",
      "2009-03-21: Samples:   6982 vulnerbale:    361 vulnerable percentage:   5.17%\n",
      "2009-06-18: Samples:   6230 vulnerbale:    429 vulnerable percentage:   6.89%\n",
      "2009-09-20: Samples:   6592 vulnerbale:    534 vulnerable percentage:   8.10%\n",
      "2009-12-19: Samples:   6947 vulnerbale:    579 vulnerable percentage:   8.33%\n",
      "2010-03-21: Samples:   7149 vulnerbale:    620 vulnerable percentage:   8.67%\n",
      "2010-06-19: Samples:   7198 vulnerbale:    669 vulnerable percentage:   9.29%\n",
      "2010-09-17: Samples:   7658 vulnerbale:    699 vulnerable percentage:   9.13%\n",
      "2010-12-16: Samples:   7723 vulnerbale:    777 vulnerable percentage:  10.06%\n",
      "2011-03-17: Samples:   7930 vulnerbale:    795 vulnerable percentage:  10.03%\n",
      "2011-06-16: Samples:   7862 vulnerbale:    869 vulnerable percentage:  11.05%\n",
      "2011-09-15: Samples:   7919 vulnerbale:    976 vulnerable percentage:  12.32%\n",
      "2011-12-15: Samples:  12478 vulnerbale:    872 vulnerable percentage:   6.99%\n",
      "2012-03-15: Samples:   8820 vulnerbale:   1235 vulnerable percentage:  14.00%\n",
      "2012-06-13: Samples:  10944 vulnerbale:   1358 vulnerable percentage:  12.41%\n",
      "2012-09-10: Samples:  11459 vulnerbale:   1419 vulnerable percentage:  12.38%\n",
      "2012-12-13: Samples:  11532 vulnerbale:   1552 vulnerable percentage:  13.46%\n",
      "2013-03-14: Samples:  12441 vulnerbale:   1674 vulnerable percentage:  13.46%\n",
      "2013-06-13: Samples:  12545 vulnerbale:   1735 vulnerable percentage:  13.83%\n",
      "2013-09-15: Samples:  14196 vulnerbale:   1785 vulnerable percentage:  12.57%\n",
      "2013-12-08: Samples:  13791 vulnerbale:   1919 vulnerable percentage:  13.91%\n",
      "2014-03-17: Samples:  14508 vulnerbale:   1870 vulnerable percentage:  12.89%\n",
      "2014-06-12: Samples:  14885 vulnerbale:   1747 vulnerable percentage:  11.74%\n",
      "2014-12-14: Samples:  14409 vulnerbale:   1975 vulnerable percentage:  13.71%\n",
      "2015-03-01: Samples:  16259 vulnerbale:   2007 vulnerable percentage:  12.34%\n",
      "2015-05-30: Samples:  15408 vulnerbale:   2101 vulnerable percentage:  13.64%\n",
      "2015-09-07: Samples:  15484 vulnerbale:   2207 vulnerable percentage:  14.25%\n",
      "2016-03-13: Samples:  16623 vulnerbale:   2416 vulnerable percentage:  14.53%\n",
      "2016-05-29: Samples:  17098 vulnerbale:   2482 vulnerable percentage:  14.52%\n",
      "2016-09-12: Samples:  17564 vulnerbale:   2620 vulnerable percentage:  14.92%\n",
      "2016-12-08: Samples:  17149 vulnerbale:   2687 vulnerable percentage:  15.67%\n",
      "2017-03-09: Samples:  17699 vulnerbale:   2822 vulnerable percentage:  15.94%\n"
     ]
    }
   ],
   "source": [
    "import numpy as np\n",
    "from sklearn.svm import LinearSVR\n",
    "import matplotlib.pyplot as plt\n",
    "from imports.sparse_reader import get_matrices\n",
    "import os\n",
    "\n",
    "def printInfo(file):\n",
    "    matrix = get_matrices('data/semiannual/' + file)\n",
    "    date = file.split('_', 2)[2].split('.', 1)[0]\n",
    "\n",
    "    feature_matrix = matrix[0]\n",
    "    rows = matrix[1]\n",
    "    \n",
    "    # count number of samples and features in the feature matrix\n",
    "    samples_count = feature_matrix.shape[0]\n",
    "    \n",
    "    vulnerable_indices = np.where(feature_matrix[:,-1] > 0)\n",
    "    vulnerable_indices_count = len(vulnerable_indices[0])\n",
    "    \n",
    "    not_vulnerable_indices = np.where(feature_matrix[:,-1] < 1)\n",
    "    not_vulnerable_indices_count = len(not_vulnerable_indices[0])\n",
    "    \n",
    "    percentage = (float(vulnerable_indices_count) / samples_count) * 100\n",
    "    \n",
    "    print('{}: Samples: {:6d} vulnerbale: {:6d} vulnerable percentage: {:6.2f}%'\n",
    "          .format(date, samples_count, vulnerable_indices_count, percentage))\n",
    "\n",
    "for file in os.listdir(\"data/semiannual\"):\n",
    "    if file != '.DS_Store' and file.split('_', 2)[1] == 'regression':\n",
    "        printInfo(file)\n",
    "\n"
   ]
  },
  {
   "cell_type": "code",
   "execution_count": null,
   "metadata": {
    "collapsed": true
   },
   "outputs": [],
   "source": []
  }
 ],
 "metadata": {
  "kernelspec": {
   "display_name": "Python [default]",
   "language": "python",
   "name": "python2"
  },
  "language_info": {
   "codemirror_mode": {
    "name": "ipython",
    "version": 2
   },
   "file_extension": ".py",
   "mimetype": "text/x-python",
   "name": "python",
   "nbconvert_exporter": "python",
   "pygments_lexer": "ipython2",
   "version": "2.7.13"
  }
 },
 "nbformat": 4,
 "nbformat_minor": 2
}
