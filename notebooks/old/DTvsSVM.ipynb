{
 "cells": [
  {
   "cell_type": "markdown",
   "metadata": {},
   "source": [
    "# Folgendes Skript zeigt die Laufzeitunterschiede zwischen DTs und SVMs"
   ]
  },
  {
   "cell_type": "code",
   "execution_count": null,
   "metadata": {},
   "outputs": [],
   "source": [
    "%matplotlib inline\n",
    "import matplotlib.pyplot as plt\n",
    "import numpy as np\n",
    "import time\n",
    "from sklearn import svm\n",
    "from sklearn import tree\n",
    "\n",
    "from imports.matrix_helper import MatrixHelper\n",
    "from imports.prediction_helper import PredictionHelper\n",
    "from sklearn.metrics import precision_recall_curve\n",
    "\n",
    "matrix_helper = MatrixHelper()\n",
    "\n",
    "def predict(training_data, training_target, test_data, model_type):\n",
    "\n",
    "    start = time.time()\n",
    "\n",
    "    # Create the SVM or DT\n",
    "    if (model_type == 'svm'):\n",
    "        m = svm.SVC(kernel='linear', C=0.2)\n",
    "    elif (model_type == 'dt'):\n",
    "        m = tree.DecisionTreeClassifier()\n",
    "    else:\n",
    "        m = svm.LinearSVC(C=pen)\n",
    "\n",
    "    # Fit model_type to the model\n",
    "    m.fit(training_data, training_target)\n",
    "\n",
    "    # Predict remaining data\n",
    "    target_prediction = m.predict(test_data) \n",
    "\n",
    "    end = time.time()\n",
    "    elapsed = (end - start) / 60\n",
    "    \n",
    "    return target_prediction, elapsed, target_score\n",
    "    \n",
    "# Read pickle\n",
    "matrices = matrix_helper.load_from_parse('data/matrices/matrix_cla_incl_history.pickle')\n",
    "\n",
    "feature_matrix = matrices[0]\n",
    "# feature_matrix = feature_matrix[:1000, :]\n",
    "\n",
    "rows = matrices[1]\n",
    "columns = matrices[2]\n",
    "features_count = feature_matrix.shape[1] - 1\n",
    "\n",
    "# Create own matrices for vulenrable and not vulnerable entries\n",
    "vulnerable_matrix, vulnerable_rows = matrix_helper.get_vulnerable_components(feature_matrix, rows)\n",
    "not_vulnerable_matrix, not_vulnerable_rows = matrix_helper.get_not_vulnerable_components(feature_matrix, rows)\n",
    "\n",
    "\n",
    "# Split into training sets (2/3) and test sets (1/3)\n",
    "vulnerable_training, vulnerable_test = matrix_helper.split_training_test(vulnerable_matrix, (2.0/3), vulnerable_rows)\n",
    "not_vulnerable_training, not_vulnerable_test = matrix_helper.split_training_test(not_vulnerable_matrix, (2.0/3), not_vulnerable_rows)\n",
    "\n",
    "\n",
    "# Concatenate vulnerable/not-vulnerable\n",
    "training_matrix = np.concatenate((not_vulnerable_training[0], vulnerable_training[0]), axis=0)\n",
    "test_matrix = np.concatenate((not_vulnerable_test[0], vulnerable_test[0]), axis=0)\n",
    "test_rows = not_vulnerable_test[1] + vulnerable_test[1]\n",
    "\n",
    "\n",
    "# Split into training and target matrices\n",
    "training_data, training_target = matrix_helper.create_data_target(training_matrix)\n",
    "test_data, test_target = matrix_helper.create_data_target(test_matrix)\n",
    "\n",
    "\n",
    "# Train the classification model and predict vulnerrabilities for test data\n",
    "for clf in ['dt', 'SVLinear']:\n",
    "    target_prediction, elapsed_time = predict(training_data, training_target, test_data, clf)\n",
    "    \n",
    "    precision, recall, thresholds = precision_recall_curve(test_target, target_prediction)\n",
    "\n",
    "    print('|{}|{:^11.3f}|{:^8.3f}| {} |'.format(clf, precision[1], recall[1], elapsed_time))\n",
    "\n",
    "    "
   ]
  },
  {
   "cell_type": "markdown",
   "metadata": {
    "collapsed": true
   },
   "source": [
    "| Type            | Precision | Recall | Time |\n",
    "|-------------------------------------|-----------|--------|-----------------|\n",
    "|dt|   0.593   | 0.617  | 1.15047711531 |\n",
    "|svm|   0.775   | 0.602  | 9.84284751415 |\n",
    "|linsvm|   0.736   | 0.631  | 0.0606333851814 |"
   ]
  },
  {
   "cell_type": "code",
   "execution_count": null,
   "metadata": {
    "collapsed": true
   },
   "outputs": [],
   "source": []
  }
 ],
 "metadata": {
  "kernelspec": {
   "display_name": "Python 2",
   "language": "python",
   "name": "python2"
  },
  "language_info": {
   "codemirror_mode": {
    "name": "ipython",
    "version": 2
   },
   "file_extension": ".py",
   "mimetype": "text/x-python",
   "name": "python",
   "nbconvert_exporter": "python",
   "pygments_lexer": "ipython2",
   "version": "2.7.10"
  }
 },
 "nbformat": 4,
 "nbformat_minor": 2
}
