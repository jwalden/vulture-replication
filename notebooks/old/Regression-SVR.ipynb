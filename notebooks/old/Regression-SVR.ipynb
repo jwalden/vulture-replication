{
 "cells": [
  {
   "cell_type": "markdown",
   "metadata": {},
   "source": [
    "# Bestimmung Top10 durch Regression mit SVR\n",
    "Wir lernen ein SVR-Modell mit einer feature matrix an, welche auf dem aktuellen Stand des Repo oder einer älteren Revision basiert. Anschliessend erstellen wir eine feature matrix mit allen samples, die zu diesem Zeitpunkt keine bekannten Schwachstellen aufweisen und wenden das angelernte SVR-Modell darauf an.\n",
    "Aus dem berechneten target extrahieren wir die 10 Komponenten mit den meisten vorhergesagten Verwundbarkeiten."
   ]
  },
  {
   "cell_type": "code",
   "execution_count": 3,
   "metadata": {
    "collapsed": false
   },
   "outputs": [
    {
     "name": "stdout",
     "output_type": "stream",
     "text": [
      " 1. Interpreter               Predicted: 9.0 \t Actual in new Revision:   6\n",
      " 2. Runtime                   Predicted: 8.0 \t Actual in new Revision:  11\n",
      " 3. OldDebugAPI               Predicted: 7.0 \t Actual in new Revision: Deleted\n",
      " 4. Sandbox                   Predicted: 6.0 \t Actual in new Revision:   1\n",
      " 5. jsd_xpc                   Predicted: 4.0 \t Actual in new Revision: Deleted\n",
      " 6. Element                   Predicted: 4.0 \t Actual in new Revision:   4\n",
      " 7. nsImageFrame              Predicted: 4.0 \t Actual in new Revision:   0\n",
      " 8. RootMarking               Predicted: 4.0 \t Actual in new Revision:   1\n",
      " 9. MemoryMetrics             Predicted: 4.0 \t Actual in new Revision:   0\n",
      "10. nsEventListenerService    Predicted: 4.0 \t Actual in new Revision: Deleted\n"
     ]
    }
   ],
   "source": [
    "from imports.matrix_helper import MatrixHelper\n",
    "from imports.prediction_helper import PredictionHelper\n",
    "\n",
    "# Variables\n",
    "list_deleted_components = True\n",
    "results_count = 10\n",
    "\n",
    "# get feature matrices and row names (component names)\n",
    "matrix_helper = MatrixHelper()\n",
    "matrices = matrix_helper.load_from_parse('data/feature_matrix_sparse_rev150000.pickle')\n",
    "validation_matrices = matrix_helper.load_from_parse('data/feature_matrix_sparse_v3.pickle')\n",
    "\n",
    "# instantiate Prediction Helper Class and predict values for compare matrix with regression\n",
    "prediction_helper = PredictionHelper()\n",
    "prediction_helper.calculate_semiannual_compare_matrix(matrices, validation_matrices)\n",
    "compare_matrix_sorted = prediction_helper.get_compare_matrix_sorted(list_deleted_components)\n",
    "\n",
    "for i in range(0, results_count):\n",
    "    component = compare_matrix_sorted[i,:]\n",
    "    print(\"{:>2}. {:25} Predicted: {:>3} \\t Actual in new Revision: {:>3}\".format(i+1, component[0], round(float(component[1])), component[2]))"
   ]
  },
  {
   "cell_type": "code",
   "execution_count": null,
   "metadata": {
    "collapsed": true
   },
   "outputs": [],
   "source": []
  }
 ],
 "metadata": {
  "kernelspec": {
   "display_name": "Python [conda root]",
   "language": "python",
   "name": "conda-root-py"
  },
  "language_info": {
   "codemirror_mode": {
    "name": "ipython",
    "version": 2
   },
   "file_extension": ".py",
   "mimetype": "text/x-python",
   "name": "python",
   "nbconvert_exporter": "python",
   "pygments_lexer": "ipython2",
   "version": "2.7.13"
  }
 },
 "nbformat": 4,
 "nbformat_minor": 2
}
