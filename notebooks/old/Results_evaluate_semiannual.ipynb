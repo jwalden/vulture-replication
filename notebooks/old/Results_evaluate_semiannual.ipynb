{
 "cells": [
  {
   "cell_type": "markdown",
   "metadata": {
    "deletable": true,
    "editable": true
   },
   "source": [
    "### Evaluierung der Resultate mit den Semiannual Matrizen (Section 6.4.1)\n",
    "Dieses Skript berechnet die WSK, dass bei 30 zufälligen gewählten Komponenten in Matrix 1, midnestens 5 in Matrix 2 eine Verwundbarkeit aufweisen."
   ]
  },
  {
   "cell_type": "code",
   "execution_count": 1,
   "metadata": {
    "collapsed": false,
    "deletable": true,
    "editable": true,
    "scrolled": false
   },
   "outputs": [
    {
     "name": "stdout",
     "output_type": "stream",
     "text": [
      "Probability that at least 5 of the 30 samples are vulnerable: 0.00259\n"
     ]
    }
   ],
   "source": [
    "import math\n",
    "total = 13100\n",
    "vulnerable = 426\n",
    "neutral = total - vulnerable\n",
    "\n",
    "def calc_prob(n, k):\n",
    "    bin_coeff = math.factorial(n) / (math.factorial((n-k)) * math.factorial(k))\n",
    "    quotient = 1\n",
    "    for i in range(n):\n",
    "        new_quotient = 1\n",
    "        if i < k:  \n",
    "            new_quotient = ((vulnerable - i) / float(total - i))\n",
    "        else:\n",
    "            new_quotient = ((neutral - (i - k)) / float(total - i))\n",
    "        quotient *= new_quotient\n",
    "    return (quotient * bin_coeff)\n",
    "\n",
    "prob_min_5 = 0\n",
    "for j in range(5, 31):\n",
    "    prob_min_5 += calc_prob(30, j)\n",
    "print('Probability that at least 5 of the 30 samples are vulnerable: {:.5f}'.format(prob_min_5))"
   ]
  },
  {
   "cell_type": "code",
   "execution_count": null,
   "metadata": {
    "collapsed": true,
    "deletable": true,
    "editable": true
   },
   "outputs": [],
   "source": []
  }
 ],
 "metadata": {
  "kernelspec": {
   "display_name": "Python 2",
   "language": "python",
   "name": "python2"
  },
  "language_info": {
   "codemirror_mode": {
    "name": "ipython",
    "version": 2
   },
   "file_extension": ".py",
   "mimetype": "text/x-python",
   "name": "python",
   "nbconvert_exporter": "python",
   "pygments_lexer": "ipython2",
   "version": "2.7.10"
  }
 },
 "nbformat": 4,
 "nbformat_minor": 2
}
