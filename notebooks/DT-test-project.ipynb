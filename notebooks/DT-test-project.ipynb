{
 "cells": [
  {
   "cell_type": "markdown",
   "metadata": {},
   "source": [
    "# Test Klassifikation mit Decision Tree\n",
    "Nachfolgend klassifizieren wir die statistischen Daten über die Qualität von Rotwein mit einem Decision Tree. Wir wollen den uUnterschied bzw. die Vor- und Nachteile des DEcision Tree Verfahren gegenünber einer SVM evaluieren.\n",
    "\n",
    "## Testdaten\n",
    "Als Testdaten verwenden wir ein Set aus dem UCI Machine Learning Repository. Es handelt sich dabei um statistische Daten über die Qualität von Rotwein mit 4898 samples: https://archive.ics.uci.edu/ml/datasets/Wine+Quality. \n",
    "Die Testdaten haben 11 Features: \n",
    "* fixed acidity\n",
    "* volatile acidity\n",
    "* citric acid\n",
    "* residual sugar\n",
    "* chlorides\n",
    "* free sulfur dioxide\n",
    "* total sulfur dioxide\n",
    "* density\n",
    "* pH\n",
    "* sulphates\n",
    "* alcohol\n",
    "\n",
    "Die Klassifikation entspricht der letzten Spalte:\n",
    "* quality [0..10]\n",
    "\n",
    "### Aufbereitung\n",
    "Bei der Aufbereitung laden wir zuerst die Daten in eine Numpy-Matrix. Als Target-Vector nutzen wir die letzte Spalte und als Test-Set die letzten zwei Zeilen der Rohdaten."
   ]
  },
  {
   "cell_type": "code",
   "execution_count": 8,
   "metadata": {
    "collapsed": false
   },
   "outputs": [
    {
     "name": "stdout",
     "output_type": "stream",
     "text": [
      "test entries: [ 5.  6.]\n",
      "predictions: [ 7.  6.]\n"
     ]
    }
   ],
   "source": [
    "from sklearn import tree\n",
    "from numpy import genfromtxt\n",
    "\n",
    "\n",
    "data = genfromtxt('data/winequality-red.csv', delimiter=';')\n",
    "target = data[:, 11]\n",
    "data = data[:, range(11)]\n",
    "\n",
    "clf = tree.DecisionTreeClassifier()\n",
    "clf = clf.fit(data[:-2], target[:-2])\n",
    "\n",
    "predictions = clf.predict(data[-2:])\n",
    "\n",
    "print(\"test entries: {}\".format(target[-2:]))\n",
    "print(\"predictions: {}\".format(predictions))"
   ]
  },
  {
   "cell_type": "code",
   "execution_count": 40,
   "metadata": {
    "collapsed": false
   },
   "outputs": [
    {
     "name": "stdout",
     "output_type": "stream",
     "text": [
      "test entries:  [ 7.  6.]\n",
      "------------------------\n",
      "predictions 0: [ 4.  6.]\n",
      "predictions 1: [ 7.  6.]\n",
      "predictions 2: [ 5.  6.]\n",
      "predictions 3: [ 7.  7.]\n",
      "predictions 4: [ 4.  6.]\n",
      "predictions 5: [ 7.  7.]\n",
      "predictions 6: [ 7.  7.]\n",
      "predictions 7: [ 4.  6.]\n",
      "predictions 8: [ 7.  7.]\n",
      "predictions 9: [ 7.  7.]\n",
      "predictions 10: [ 7.  6.]\n",
      "predictions 11: [ 7.  6.]\n",
      "predictions 12: [ 5.  6.]\n",
      "predictions 13: [ 7.  6.]\n",
      "predictions 14: [ 7.  6.]\n",
      "predictions 15: [ 4.  6.]\n",
      "predictions 16: [ 7.  6.]\n",
      "predictions 17: [ 7.  6.]\n",
      "predictions 18: [ 7.  6.]\n",
      "predictions 19: [ 4.  7.]\n",
      "------------------------\n",
      "Errors: 12/20\n",
      "Time per prediction: 0.0358ms\n"
     ]
    }
   ],
   "source": [
    "from sklearn import tree\n",
    "from numpy import genfromtxt\n",
    "import time\n",
    "\n",
    "data = genfromtxt('data/winequality-white.csv', delimiter=';')\n",
    "target = data[:, 11]\n",
    "data = data[:, range(11)]\n",
    "\n",
    "# create the DT classifier\n",
    "clf = tree.DecisionTreeClassifier()\n",
    "\n",
    "iterations = 20\n",
    "\n",
    "print(\"test entries:  {}\".format(target[-2:]))\n",
    "print(\"------------------------\")\n",
    "\n",
    "errors = 0\n",
    "\n",
    "t = time.time()\n",
    "\n",
    "for i in range(0, iterations):\n",
    "    # Fit classifier to the model\n",
    "    clf = clf.fit(data[:-2], target[:-2])\n",
    "    # Predict the digit for the remaining data\n",
    "    predictions = clf.predict(data[-2:])\n",
    "    if (predictions[0] != target[-2:][0] or predictions[1] != target[-2:][1]):\n",
    "        errors += 1\n",
    "    print(\"predictions {}: {}\".format(i, predictions))\n",
    "    \n",
    "elapsed = time.time() - t\n",
    "\n",
    "print(\"------------------------\")\n",
    "print(\"Errors: {}/{}\".format(errors, iterations))\n",
    "print(\"Time per prediction: {}ms\".format(round(elapsed / iterations, 4)))"
   ]
  },
  {
   "cell_type": "code",
   "execution_count": null,
   "metadata": {
    "collapsed": true
   },
   "outputs": [],
   "source": []
  }
 ],
 "metadata": {
  "kernelspec": {
   "display_name": "Python [default]",
   "language": "python",
   "name": "python2"
  },
  "language_info": {
   "codemirror_mode": {
    "name": "ipython",
    "version": 2
   },
   "file_extension": ".py",
   "mimetype": "text/x-python",
   "name": "python",
   "nbconvert_exporter": "python",
   "pygments_lexer": "ipython2",
   "version": "2.7.13"
  }
 },
 "nbformat": 4,
 "nbformat_minor": 2
}
