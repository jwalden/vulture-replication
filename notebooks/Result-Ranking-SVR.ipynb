{
 "cells": [
  {
   "cell_type": "markdown",
   "metadata": {},
   "source": [
    "### Ranking Replication\n",
    "* Zweck: Replikation des Kapitel \"Ranking\" aus dem Paper \"Predicting Vulnerable Software Components\"\n",
    "* Matrix: Aktueller Stand \"current\" des mozilla-central Repository\n",
    "* Features: includes\n",
    "* Modell: Support Vector Regressionsmodell\n",
    "\n",
    "#### Setup\n",
    "* Training-Set/Test-Set: Stratified sampling auf einer Matrix (2/3 : 1/3)\n",
    "\n",
    "#### Results\n",
    "Angenommen man konzentriert seine Ressourcen auf die Optimierung der 1% verwundbarsten Komponenten. Bei der Auswahl verlässt man sich auf die Vorhersage des Regressionsmodells. Dieses Skript berechnet den Faktor zwischen der Anzahl Verwundbarkeiten die in diesem Fall behoben werden und der Anzahl Verwundbarkeiten die bei der Konzentration auf 1% maximal behoben werden können.\n",
    "* Resultat: Faktor zwischen behobenen und maximal behebbaren Verwundbarkeiten."
   ]
  },
  {
   "cell_type": "code",
   "execution_count": 43,
   "metadata": {
    "collapsed": false,
    "scrolled": false
   },
   "outputs": [
    {
     "name": "stdout",
     "output_type": "stream",
     "text": [
      "Factor between the number of fixed components due to the prediction and the maximum number of fixed components:\n",
      "Factor: 0.794069192751\n"
     ]
    }
   ],
   "source": [
    "from imports.matrix_helper import MatrixHelper\n",
    "from imports.prediction_helper import PredictionHelper\n",
    "from scipy.stats import rankdata\n",
    "from scipy.stats import spearmanr\n",
    "import numpy as np\n",
    "\n",
    "matrix_helper = MatrixHelper()\n",
    "matrices = matrix_helper.load_from_parse('data/matrices/matrix_reg_incl_current.pickle')\n",
    "\n",
    "# Instantiate Prediction Helper Class and predict values for compare matrix\n",
    "prediction_helper = PredictionHelper()\n",
    "prediction_helper.calculate_validation_compare_matrix(matrices, sampling_factor=(2.0/3), prediction_type='SVR')\n",
    "\n",
    "# get the compare matrix twice:\n",
    "# Once sorted according to the PREDICTED number of vulnerabilities\n",
    "# Once sorted according to the ACTUAL number of vulnerabilities\n",
    "compare_matrix_sorted_predicted = prediction_helper.get_compare_matrix_sorted()\n",
    "compare_matrix_sorted_actual = prediction_helper.get_compare_matrix_sorted(reference_column=2)\n",
    "\n",
    "# Crop first 1% of both matrices\n",
    "relevant_samples_count = int(round(0.01 * len(compare_matrix_sorted_predicted)))\n",
    "compare_matrix_sorted_predicted = compare_matrix_sorted_predicted[range(relevant_samples_count)]\n",
    "compare_matrix_sorted_actual = compare_matrix_sorted_actual[range(relevant_samples_count)]\n",
    "\n",
    "# Sum up the actual number of vulnerabilities in both matrices\n",
    "fixed_predicted = sum(np.array(compare_matrix_sorted_predicted[:, 2], dtype='f'))\n",
    "fixed_actual = sum(np.array(compare_matrix_sorted_actual[:, 2], dtype='f'))\n",
    "\n",
    "# Calculate the prediction factor\n",
    "print('Factor between the number of fixed components due to the prediction and the maximum number of fixed components:') \n",
    "print('Factor: {}'.format(fixed_predicted / fixed_actual))"
   ]
  },
  {
   "cell_type": "code",
   "execution_count": null,
   "metadata": {
    "collapsed": true
   },
   "outputs": [],
   "source": []
  }
 ],
 "metadata": {
  "kernelspec": {
   "display_name": "Python [default]",
   "language": "python",
   "name": "python2"
  },
  "language_info": {
   "codemirror_mode": {
    "name": "ipython",
    "version": 2
   },
   "file_extension": ".py",
   "mimetype": "text/x-python",
   "name": "python",
   "nbconvert_exporter": "python",
   "pygments_lexer": "ipython2",
   "version": "2.7.13"
  }
 },
 "nbformat": 4,
 "nbformat_minor": 2
}
