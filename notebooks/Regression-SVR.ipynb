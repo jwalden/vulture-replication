{
 "cells": [
  {
   "cell_type": "markdown",
   "metadata": {},
   "source": [
    "# Bestimmung Top10 durch Regression mit SVR\n"
   ]
  },
  {
   "cell_type": "code",
   "execution_count": 44,
   "metadata": {
    "collapsed": false
   },
   "outputs": [
    {
     "name": "stdout",
     "output_type": "stream",
     "text": [
      "1. nsCSSFrameConstructor\n",
      "2. EnvironmentObject\n",
      "3. XMLHttpRequestMainThread\n",
      "4. Proxy\n",
      "5. NativeObject\n",
      "6. RootMarking\n",
      "7. jsexn\n",
      "8. nsBlockFrame\n",
      "9. XPCJSContext\n",
      "10. testIntTypesABI\n"
     ]
    }
   ],
   "source": [
    "import numpy as np\n",
    "from sklearn.svm import LinearSVR\n",
    "import matplotlib.pyplot as plt\n",
    "from imports.sparse_reader import get_matrices\n",
    "\n",
    "# get feature matrix and row names (component names)\n",
    "matrices = get_matrices('data/feature_matrix_sparse.pickle')\n",
    "feature_matrix = matrices[0]\n",
    "rows = matrices[1]\n",
    "\n",
    "# count number of samples and features in the feature matrix\n",
    "samples_count = feature_matrix.shape[0]\n",
    "features_count = feature_matrix.shape[1] - 1\n",
    "\n",
    "# Create 2 matrices: One with the NOT vulnerable samples/components and one with their names\n",
    "not_vulnerable_indices = np.where(feature_matrix[:,-1] == 0)\n",
    "not_vulnerable_matrix = (feature_matrix[not_vulnerable_indices,:])[0]\n",
    "not_vulnerable_rows = [rows[i] for i in (not_vulnerable_indices[0])]\n",
    "\n",
    "#feature_matrix = feature_matrix[:1000, :]\n",
    "\n",
    "# Split feature matrix into data and target\n",
    "training_data = feature_matrix[:, range(features_count)]\n",
    "training_target = feature_matrix[:, features_count]\n",
    "\n",
    "# Create support vector regression\n",
    "svr_lin = LinearSVR(C=0.2)\n",
    "\n",
    "# Fit model\n",
    "svr_lin.fit(training_data, training_target)\n",
    "\n",
    "# Predict target for all components without any known vulnerabilities\n",
    "target = svr_lin.predict(not_vulnerable_matrix[:, range(features_count)])\n",
    "\n",
    "# Get indices of 10 highest elements in target and read the component names from the row-array\n",
    "indices_highest_target = target.argsort()[-10:]\n",
    "components = [not_vulnerable_rows[i] for i in (indices_highest_target)]\n",
    "\n",
    "for i in range(10):\n",
    "    print(\"{}. {}\".format(i+1, components[9 - i]))\n",
    "\n"
   ]
  },
  {
   "cell_type": "code",
   "execution_count": null,
   "metadata": {
    "collapsed": true
   },
   "outputs": [],
   "source": []
  }
 ],
 "metadata": {
  "kernelspec": {
   "display_name": "Python [conda root]",
   "language": "python",
   "name": "conda-root-py"
  },
  "language_info": {
   "codemirror_mode": {
    "name": "ipython",
    "version": 2
   },
   "file_extension": ".py",
   "mimetype": "text/x-python",
   "name": "python",
   "nbconvert_exporter": "python",
   "pygments_lexer": "ipython2",
   "version": "2.7.13"
  }
 },
 "nbformat": 4,
 "nbformat_minor": 2
}
