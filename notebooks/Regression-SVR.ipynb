{
 "cells": [
  {
   "cell_type": "markdown",
   "metadata": {},
   "source": [
    "# Bestimmung Top10 durch Regression mit SVR\n",
    "Wir lernen ein SVR-Modell mit einer feature matrix an, welche auf dem aktuellen Stand des Repo oder einer älteren Revision basiert. Anschliessend erstellen wir eine feature matrix mit allen samples, die zu diesem Zeitpunkt keine bekannten Schwachstellen aufweisen und wenden das angelernte SVR-Modell darauf an. \n",
    "Aus dem berechneten target extrahieren wir die 10 Komponenten mit den meisten vorhergesagten Verwundbarkeiten."
   ]
  },
  {
   "cell_type": "code",
   "execution_count": 10,
   "metadata": {
    "collapsed": false,
    "scrolled": false
   },
   "outputs": [
    {
     "name": "stdout",
     "output_type": "stream",
     "text": [
      " 1. Interpreter               Predicted: 9.0 \t Actual in new Revision:   6\n",
      " 2. Runtime                   Predicted: 8.0 \t Actual in new Revision:  11\n",
      " 3. OldDebugAPI               Predicted: 7.0 \t Actual in new Revision: Deleted\n",
      " 4. Sandbox                   Predicted: 6.0 \t Actual in new Revision:   1\n",
      " 5. nsEventListenerService    Predicted: 4.0 \t Actual in new Revision: Deleted\n",
      " 6. nsImageFrame              Predicted: 4.0 \t Actual in new Revision:   0\n",
      " 7. RootMarking               Predicted: 4.0 \t Actual in new Revision:   1\n",
      " 8. nsJSConfigTriggers        Predicted: 4.0 \t Actual in new Revision:   0\n",
      " 9. jsd_xpc                   Predicted: 4.0 \t Actual in new Revision: Deleted\n",
      "10. Element                   Predicted: 4.0 \t Actual in new Revision:   4\n"
     ]
    }
   ],
   "source": [
    "import numpy as np\n",
    "from sklearn.svm import LinearSVR\n",
    "import matplotlib.pyplot as plt\n",
    "from sklearn.metrics import mean_squared_error\n",
    "from imports.matrix_helper import MatrixHelper\n",
    "import collections\n",
    "\n",
    "matrix_helper = MatrixHelper()\n",
    "\n",
    "# Variables\n",
    "list_deleted_components = True\n",
    "results_count = 10\n",
    "\n",
    "# get feature matrices and row names (component names)\n",
    "matrices = matrix_helper.load_from_parse('data/feature_matrix_sparse_rev150000.pickle')\n",
    "validation_matrices = matrix_helper.load_from_parse('data/feature_matrix_sparse_v3.pickle')\n",
    "\n",
    "feature_matrix = matrices[0]\n",
    "validation_feature_matrix = validation_matrices[0]\n",
    "rows = matrices[1]\n",
    "validation_rows = validation_matrices[1]\n",
    "\n",
    "# count number of samples and features in the feature matrix\n",
    "samples_count = feature_matrix.shape[0]\n",
    "features_count = feature_matrix.shape[1] - 1\n",
    "\n",
    "# Create Array (vulnerable_rows) with the names of all vulnerable components\n",
    "vulnerable_indices = np.where(feature_matrix[:,-1] > 0)\n",
    "vulnerable_rows = [rows[i] for i in (vulnerable_indices[0])]\n",
    "\n",
    "# Create 2 matrices: One with the NOT vulnerable samples/components and one with their names\n",
    "not_vulnerable_rows = []\n",
    "not_vulnerable_matrix = []\n",
    "\n",
    "for i in range(len(rows)):\n",
    "    if rows[i] not in vulnerable_rows:   \n",
    "        not_vulnerable_rows.append(rows[i])\n",
    "        not_vulnerable_matrix.append(feature_matrix[i,:])\n",
    "        \n",
    "not_vulnerable_matrix = np.asarray(not_vulnerable_matrix)\n",
    "\n",
    "# Split feature matrix into data and target\n",
    "training_data = feature_matrix[:, range(features_count)]\n",
    "training_target = feature_matrix[:, features_count]\n",
    "\n",
    "# Create support vector regression\n",
    "svr = LinearSVR(C=0.2)\n",
    "\n",
    "# Fit model\n",
    "svr.fit(training_data, training_target)\n",
    "\n",
    "# Predict target for all components without any known vulnerabilities\n",
    "target_prediction = svr.predict(not_vulnerable_matrix[:, range(features_count)])\n",
    "\n",
    "# Create matrix with component names, predicted vulnerabilities and actual number of vulnerabilities in validation revision\n",
    "compare_matrix = []\n",
    "for i in range(len(not_vulnerable_rows)):\n",
    "    if not_vulnerable_rows[i] in validation_rows:\n",
    "        validation_index = validation_rows.index(not_vulnerable_rows[i])\n",
    "        compare_matrix.append([not_vulnerable_rows[i], target_prediction[i], validation_feature_matrix[validation_index, -1]])\n",
    "    elif list_deleted_components:\n",
    "        compare_matrix.append([not_vulnerable_rows[i], target_prediction[i], 'Deleted'])\n",
    "\n",
    "compare_matrix = np.array(compare_matrix)\n",
    "sorted_indeces = np.array(compare_matrix[:,1], dtype='f').argsort()[::-1]\n",
    "compare_matrix_sorted = compare_matrix[sorted_indeces]\n",
    "\n",
    "for i in range(0, results_count):\n",
    "    component = compare_matrix_sorted[i,:]\n",
    "    print(\"{:>2}. {:25} Predicted: {:>3} \\t Actual in new Revision: {:>3}\".format(i+1, component[0], round(float(component[1])), component[2]))\n"
   ]
  },
  {
   "cell_type": "code",
   "execution_count": null,
   "metadata": {
    "collapsed": true
   },
   "outputs": [],
   "source": []
  }
 ],
 "metadata": {
  "kernelspec": {
   "display_name": "Python [conda root]",
   "language": "python",
   "name": "conda-root-py"
  },
  "language_info": {
   "codemirror_mode": {
    "name": "ipython",
    "version": 2
   },
   "file_extension": ".py",
   "mimetype": "text/x-python",
   "name": "python",
   "nbconvert_exporter": "python",
   "pygments_lexer": "ipython2",
   "version": "2.7.13"
  }
 },
 "nbformat": 4,
 "nbformat_minor": 2
}
