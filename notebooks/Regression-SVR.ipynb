{
 "cells": [
  {
   "cell_type": "markdown",
   "metadata": {},
   "source": [
    "# Bestimmung Top10 durch Regression mit SVR\n",
    "Wir lernen ein SVR-Modell mit einer feature matrix an, welche auf dem aktuellen Stand des Repo oder einer älteren Revision basiert. Anschliessend erstellen wir eine feature matrix mit allen samples, die zu diesem Zeitpunkt keine bekannten Schwachstellen aufweisen und wenden das angelernte SVR-Modell darauf an. Aus dem berechneten target extrahieren wir die 10 Komponenten mit den meisten vorhergesagten Verwundbarkeiten."
   ]
  },
  {
   "cell_type": "code",
   "execution_count": 5,
   "metadata": {
    "collapsed": false,
    "scrolled": false
   },
   "outputs": [
    {
     "name": "stdout",
     "output_type": "stream",
     "text": [
      " 1. Interpreter               Currently:  0 \t Predicted: 9.0 \t in new Revision:   6\n",
      " 2. Runtime                   Currently:  0 \t Predicted: 8.0 \t in new Revision:  11\n",
      " 3. OldDebugAPI               Currently:  0 \t Predicted: 7.0 \t in new Revision: Removed\n",
      " 4. Sandbox                   Currently:  0 \t Predicted: 6.0 \t in new Revision:   1\n",
      " 5. nsEventListenerService    Currently:  0 \t Predicted: 4.0 \t in new Revision: Removed\n",
      " 6. nsImageFrame              Currently:  0 \t Predicted: 4.0 \t in new Revision:   0\n",
      " 7. RootMarking               Currently:  0 \t Predicted: 4.0 \t in new Revision:   1\n",
      " 8. nsJSConfigTriggers        Currently:  0 \t Predicted: 4.0 \t in new Revision:   0\n",
      " 9. jsd_xpc                   Currently:  0 \t Predicted: 4.0 \t in new Revision: Removed\n",
      "10. Element                   Currently:  0 \t Predicted: 4.0 \t in new Revision:   4\n"
     ]
    }
   ],
   "source": [
    "import numpy as np\n",
    "from sklearn.svm import LinearSVR\n",
    "import matplotlib.pyplot as plt\n",
    "from imports.sparse_reader import get_matrices\n",
    "\n",
    "result_count = 10\n",
    "\n",
    "# get feature matrix and row names (component names)\n",
    "matrices = get_matrices('data/feature_matrix_sparse_rev150000.pickle')\n",
    "#matrices = get_matrices('data/feature_matrix_sparse_v3.pickle')\n",
    "feature_matrix = matrices[0]\n",
    "rows = matrices[1]\n",
    "\n",
    "# count number of samples and features in the feature matrix\n",
    "samples_count = feature_matrix.shape[0]\n",
    "features_count = feature_matrix.shape[1] - 1\n",
    "\n",
    "# Create Array (vulnerable_rows) with the names of all vulnerable components\n",
    "vulnerable_indices = np.where(feature_matrix[:,-1] > 0)\n",
    "vulnerable_rows = [rows[i] for i in (vulnerable_indices[0])]\n",
    "\n",
    "# Create 2 matrices: One with the NOT vulnerable samples/components and one with their names\n",
    "not_vulnerable_rows = []\n",
    "not_vulnerable_matrix = []\n",
    "\n",
    "for i in range(len(rows)):\n",
    "    if rows[i] not in vulnerable_rows:   \n",
    "        not_vulnerable_rows.append(rows[i])\n",
    "        not_vulnerable_matrix.append(feature_matrix[i,:])\n",
    "        \n",
    "not_vulnerable_matrix = np.asarray(not_vulnerable_matrix)\n",
    "\n",
    "\n",
    "# Split feature matrix into data and target\n",
    "training_data = feature_matrix[:, range(features_count)]\n",
    "training_target = feature_matrix[:, features_count]\n",
    "\n",
    "# Create support vector regression\n",
    "svr = LinearSVR(C=0.2)\n",
    "\n",
    "# Fit model\n",
    "svr.fit(training_data, training_target)\n",
    "\n",
    "# Predict target for all components without any known vulnerabilities\n",
    "target = svr.predict(not_vulnerable_matrix[:, range(features_count)])\n",
    "\n",
    "# Get indices of 10 highest elements in target and read the component names from the row-array\n",
    "indices_highest_target = target.argsort()[(-1 * result_count):]\n",
    "components = [not_vulnerable_rows[i] for i in (indices_highest_target)]\n",
    "\n",
    "# Flag and parameters for comparison\n",
    "compare = True\n",
    "if compare:\n",
    "    comp_matrices = get_matrices('data/feature_matrix_sparse_v3.pickle')\n",
    "    comp_feature_matrix = comp_matrices[0]\n",
    "    comp_rows = comp_matrices[1]\n",
    "\n",
    "# Print Result\n",
    "for i in range(result_count):\n",
    "    component = components[(result_count - 1) - i]\n",
    "    component_index = rows.index(component)\n",
    "    current_vulnerable_count = feature_matrix[component_index, -1]\n",
    "    component_index_filtered = not_vulnerable_rows.index(component)\n",
    "    predicted_vulnerable_count = target[component_index_filtered]\n",
    "    \n",
    "    if not compare:\n",
    "        print(\"{:>2}. {:25} Currently: {:>2}, Predicted: {:>3}\".format(i+1, component, current_vulnerable_count, round(predicted_vulnerable_count)))\n",
    "    else:\n",
    "        comparison_result = 'Removed'\n",
    "        if component in comp_rows: \n",
    "            comparison_result = comp_feature_matrix[comp_rows.index(component), -1]\n",
    "        print(\"{:>2}. {:25} Currently: {:>2} \\t Predicted: {:>3} \\t in new Revision: {:>3}\".format(i+1, component, current_vulnerable_count, round(predicted_vulnerable_count), comparison_result))\n",
    "\n"
   ]
  },
  {
   "cell_type": "code",
   "execution_count": null,
   "metadata": {
    "collapsed": true
   },
   "outputs": [],
   "source": []
  }
 ],
 "metadata": {
  "kernelspec": {
   "display_name": "Python [conda root]",
   "language": "python",
   "name": "conda-root-py"
  },
  "language_info": {
   "codemirror_mode": {
    "name": "ipython",
    "version": 2
   },
   "file_extension": ".py",
   "mimetype": "text/x-python",
   "name": "python",
   "nbconvert_exporter": "python",
   "pygments_lexer": "ipython2",
   "version": "2.7.13"
  }
 },
 "nbformat": 4,
 "nbformat_minor": 2
}
