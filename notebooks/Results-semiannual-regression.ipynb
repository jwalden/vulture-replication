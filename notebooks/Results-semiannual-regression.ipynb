{
 "cells": [
  {
   "cell_type": "code",
   "execution_count": 11,
   "metadata": {
    "collapsed": false
   },
   "outputs": [
    {
     "name": "stdout",
     "output_type": "stream",
     "text": [
      "* 2007-06-21 (5471) vs 2010-06-19 (7198) Koeffizient: 0.0414201183432\n",
      "* 2007-09-23 (5346) vs 2010-09-17 (7658) Koeffizient: 0.0277777777778\n",
      "* 2007-12-18 (5378) vs 2010-12-16 (7723) Koeffizient: 0.0327868852459\n",
      "* 2008-03-18 (5341) vs 2011-03-17 (7930) Koeffizient: 0.031746031746\n",
      "* 2008-06-08 (6607) vs 2011-06-16 (7862) Koeffizient: 0.0382165605096\n",
      "* 2008-09-21 (6740) vs 2011-09-15 (7919) Koeffizient: 0.031914893617\n",
      "* 2008-12-16 (6920) vs 2011-12-15 (12478) Koeffizient: 0.043795620438\n",
      "* 2009-03-21 (6982) vs 2012-03-15 (8820) Koeffizient: 0.0\n",
      "* 2009-06-18 (6230) vs 2012-06-13 (10944) Koeffizient: 0.0238095238095\n",
      "* 2009-09-20 (6592) vs 2012-09-10 (11459) Koeffizient: 0.12865497076\n",
      "* 2009-12-19 (6947) vs 2012-12-13 (11532) Koeffizient: 0.14880952381\n",
      "* 2010-03-21 (7149) vs 2013-03-14 (12441) Koeffizient: 0.0104712041885\n",
      "* 2010-06-19 (7198) vs 2013-06-13 (12545) Koeffizient: 0.0126582278481\n",
      "* 2010-09-17 (7658) vs 2013-09-15 (14196) Koeffizient: 0.0266666666667\n",
      "* 2010-12-16 (7723) vs 2013-12-08 (13791) Koeffizient: 0.0174825174825\n",
      "* 2011-03-17 (7930) vs 2014-03-17 (14508) Koeffizient: 0.0111111111111\n",
      "* 2011-06-16 (7862) vs 2014-06-12 (14885) Koeffizient: 0.0152091254753\n",
      "* 2011-09-15 (7919) vs 2014-12-14 (14409) Koeffizient: 0.0165562913907\n",
      "* 2011-12-15 (12478) vs 2015-03-01 (16259) Koeffizient: 0.0081466395112\n",
      "* 2012-03-15 (8820) vs 2015-05-30 (15408) Koeffizient: 0.023178807947\n",
      "* 2012-06-13 (10944) vs 2015-09-07 (15484) Koeffizient: 0.0056338028169\n",
      "* 2012-09-10 (11459) vs 2016-03-13 (16623) Koeffizient: 0.0102827763496\n",
      "* 2012-12-13 (11532) vs 2016-05-29 (17098) Koeffizient: 0.00607902735562\n",
      "* 2013-03-14 (12441) vs 2016-09-12 (17564) Koeffizient: 0.0156739811912\n",
      "* 2013-06-13 (12545) vs 2016-12-08 (17149) Koeffizient: 0.0188679245283\n",
      "* 2013-09-15 (14196) vs 2017-03-09 (17699) Koeffizient: 0.0100250626566\n"
     ]
    }
   ],
   "source": [
    "import numpy as np\n",
    "import matplotlib.pyplot as plt\n",
    "import os\n",
    "\n",
    "from sklearn.metrics import mean_squared_error\n",
    "from sklearn.metrics import precision_recall_curve\n",
    "from scipy.stats import rankdata\n",
    "from scipy.stats import spearmanr\n",
    "\n",
    "from imports.matrix_helper import MatrixHelper\n",
    "from imports.prediction_helper import PredictionHelper\n",
    "\n",
    "matrix_helper = MatrixHelper()\n",
    "\n",
    "def validate(matrices, validation_matrices):\n",
    "    # instantiate SVR Helper Class and predict values for compare matrix\n",
    "    prediction_helper = PredictionHelper()\n",
    "    prediction_helper.calculate_semiannual_compare_matrix(matrices, validation_matrices)\n",
    "\n",
    "    # get the compare matrix twice:\n",
    "    # Once sorted according to the PREDICTED number of vulnerabilities\n",
    "    # Once sorted according to the ACTUAL number of vulnerabilities\n",
    "    compare_matrix_sorted_predicted = prediction_helper.get_compare_matrix_sorted()\n",
    "    compare_matrix_sorted_actual = prediction_helper.get_compare_matrix_sorted(reference_column=2)\n",
    "\n",
    "    # Crop first 1% of both matrices\n",
    "    relevant_samples_count = int(round(0.01 * len(compare_matrix_sorted_predicted)))\n",
    "    compare_matrix_sorted_predicted = compare_matrix_sorted_predicted[range(relevant_samples_count)]\n",
    "    compare_matrix_sorted_actual = compare_matrix_sorted_actual[range(relevant_samples_count)]\n",
    "\n",
    "    # Sum up the actual number of vulnerabilities in both matrices\n",
    "    fixed_predicted = sum(np.array(compare_matrix_sorted_predicted[:, 2], dtype='f'))\n",
    "    fixed_actual = sum(np.array(compare_matrix_sorted_actual[:, 2], dtype='f'))\n",
    "\n",
    "    # Calculate the prediction factor\n",
    "\n",
    "    return (fixed_predicted / fixed_actual)\n",
    "\n",
    "counter = 0\n",
    "quarter_between_matrices = 12\n",
    "\n",
    "import os\n",
    "all_files = os.listdir(\"data/semiannual\")\n",
    "file_list = [file for file in all_files if file != '.DS_Store' and file.split('_', 2)[1] == 'regression']\n",
    "for i in range(len(file_list) - quarter_between_matrices):\n",
    "    file = file_list[i]\n",
    "    file_date = file.split('_', 2)[2].split('.', 1)[0]\n",
    "    validaiton_file = file_list[i+quarter_between_matrices]\n",
    "    validation_date = validaiton_file.split('_', 2)[2].split('.', 1)[0]\n",
    "    if (counter > -1):\n",
    "        counter += 1\n",
    "        matrices = matrix_helper.load_from_parse('data/semiannual/' + file)\n",
    "        validation_matrices = matrix_helper.load_from_parse('data/semiannual/' + validaiton_file)\n",
    "        \n",
    "        vulnerable_samples_count = len([i for i in matrices[0] if i[-1] > 0])\n",
    "        vulnerable_validation_samples_count = len([i for i in validation_matrices[0] if i[-1] > 0])\n",
    "        if vulnerable_samples_count > 0 and vulnerable_validation_samples_count > 0:\n",
    "            factor = validate(matrices, validation_matrices)\n",
    "            print('* {} ({}) vs {} ({}) Koeffizient: {}'.format(file_date, matrices[0].shape[0], validation_date, validation_matrices[0].shape[0], factor))\n",
    "\n",
    "\n"
   ]
  },
  {
   "cell_type": "code",
   "execution_count": null,
   "metadata": {
    "collapsed": true
   },
   "outputs": [],
   "source": []
  }
 ],
 "metadata": {
  "kernelspec": {
   "display_name": "Python [default]",
   "language": "python",
   "name": "python2"
  },
  "language_info": {
   "codemirror_mode": {
    "name": "ipython",
    "version": 2
   },
   "file_extension": ".py",
   "mimetype": "text/x-python",
   "name": "python",
   "nbconvert_exporter": "python",
   "pygments_lexer": "ipython2",
   "version": "2.7.9"
  }
 },
 "nbformat": 4,
 "nbformat_minor": 2
}
