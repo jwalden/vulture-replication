{
 "cells": [
  {
   "cell_type": "markdown",
   "metadata": {},
   "source": [
    "### Evaluierung der Resultate mit den Semiannual Matrizen\n",
    "Dieses Skript berechnet die WSK, dass bei 30 zufälligen gewählten Komponenten in Matrix 1, midnestens 5 in Matrix 2 eine Verwundbarkeit aufweisen."
   ]
  },
  {
   "cell_type": "code",
   "execution_count": 45,
   "metadata": {
    "scrolled": false
   },
   "outputs": [
    {
     "name": "stdout",
     "output_type": "stream",
     "text": [
      "0.00258517431424\n"
     ]
    }
   ],
   "source": [
    "import math\n",
    "total = 13100\n",
    "vulnerable = 426\n",
    "neutral = total - vulnerable\n",
    "\n",
    "def calc_wsk(n, k):\n",
    "    bin_coeff = math.factorial(n) / (math.factorial((n-k)) * math.factorial(k))\n",
    "    quotient = 1\n",
    "    for i in range(n):\n",
    "        new_quotient = 1\n",
    "        if i < k:  \n",
    "            new_quotient = ((vulnerable - i) / float(total - i))\n",
    "      #      print('{} : {} = '.format((vulnerable - i), float(total - i)))\n",
    "        else:\n",
    "            new_quotient = ((neutral - (i - k)) / float(total - i))\n",
    "     #       print('{} : {} = '.format((neutral - (i - k)), float(total - i)))\n",
    "        quotient *= new_quotient\n",
    "    #print('** {}'.format((quotient * bin_coeff)))\n",
    "    return (quotient * bin_coeff)\n",
    "\n",
    "wsk_mind_5 = 0\n",
    "for j in range(5, 31):\n",
    "    wsk_mind_5 += calc_wsk(30, j)\n",
    "print(wsk_mind_5)"
   ]
  }
 ],
 "metadata": {
  "kernelspec": {
   "display_name": "Python 2",
   "language": "python",
   "name": "python2"
  },
  "language_info": {
   "codemirror_mode": {
    "name": "ipython",
    "version": 2
   },
   "file_extension": ".py",
   "mimetype": "text/x-python",
   "name": "python",
   "nbconvert_exporter": "python",
   "pygments_lexer": "ipython2",
   "version": "2.7.10"
  }
 },
 "nbformat": 4,
 "nbformat_minor": 2
}
