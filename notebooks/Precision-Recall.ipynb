{
 "cells": [
  {
   "cell_type": "markdown",
   "metadata": {
    "collapsed": true,
    "deletable": true,
    "editable": true
   },
   "source": [
    "# Test: Bestimmung Precision / Recall\n",
    "Um die Klassifikation, und damit auch von dem Aufbau unserer Matrix, zu testen, bestimmen wir Precision und Recall.\n",
    "\n",
    "* Precision: Wieviele der zugeordneten Samples sind tatsächlich relevant? (true pos.) / (true pos. + false pos.)\n",
    "* Recall: Wieviele der tatsächlich relevanten Samples wurden gefunden / zugeordnet? (true pos.) / (true pos. + false neg.)\n",
    " * Tiefe Precision / hoher Recall: Es werden viele Samples zugeordnet, von denen jedoch viele falsch sind\n",
    " * Hohe Precision / tiefer Recall: Es werden nur wenige Samples zugeordnet, von denen jedoch die meisten stimmen.\n",
    "<img src=\"img/Precisionrecall.png\" alt=\"Drawing\" style=\"width: 200px\"/>\n",
    "\n",
    "## Optimierung\n",
    "Mit diesem Test versuchen wir die Konfiguration der SVM möglichst gut auf unsere Datenstruktur auszurichten.\n",
    "### Kernel\n",
    "Der Kernel definiert, mit welcher Art Funktion die Datenpunkte im 2D-Raum voneinander getrennt werden. Standardmässig wird dazu eine lineare Funktion (linear kernel) verwendet. Wenn die Punkte im training set nicht durch eine Gerade trennbar sind, versucht man sie in einer höheren Dimension voneinander zu trennen. Die erreicht man durch andere kernel-Funktionen (z.B. Polynomial oder RBF).\n",
    "Bei vielen Features, wie es bei unseren Daten der Fall ist, bringt eine höhere Dimension keine Vorteile, ist aber sehr teuer. Entsprechend verwenden wir einen linearen Kernel.\n",
    "\n",
    "#### Parameter\n",
    "Der lineare Kernel verlangt ausschliesslich einen Penalty Parameter C. \n",
    "M\n",
    "* C=0.1: Precision 0.777777777778, Recall 0.21875\n",
    "* C=0.2: Precision 0.785714285714, Recall 0.34375\n",
    "* C=0.3: Precision 0.769230769231, Recall 0.3125\n",
    "* C=0.4: Precision 0.714285714286, Recall 0.3125\n",
    "* C=0.5: Precision 0.666666666667, Recall 0.3125\n",
    "* C=0.6: Precision 0.555555555556, Recall 0.3125\n",
    "* C=0.7: Precision 0.555555555556, Recall 0.3125\n",
    "* C=0.8: Precision 0.578947368421, Recall 0.34375\n",
    "* C=0.9: Precision 0.578947368421, Recall 0.34375\n",
    "* C=1: Precision 0.578947368421, Recall 0.34375"
   ]
  },
  {
   "cell_type": "code",
   "execution_count": 12,
   "metadata": {
    "collapsed": false,
    "scrolled": false
   },
   "outputs": [
    {
     "name": "stdout",
     "output_type": "stream",
     "text": [
      "Length Data Test (300, 14443)\n",
      "Nonzero Data Test 2362\n",
      "[0 0 0 1 0 0 0 0 0 0 0 0 0 0 0 0 0 0 0 0 0 0 0 0 0 0 0 0 0 0 1 0 1 1 0 0 0\n",
      " 0 0 0 0 1 0 0 0 0 0 0 0 0 0 0 0 1 0 0 0 1 0 0 0 0 0 0 1 0 0 0 0 0 0 0 0 0\n",
      " 0 0 0 0 0 0 0 0 0 0 0 1 0 0 0 1 1 0 0 0 0 0 0 0 0 0 0 0 0 0 0 0 1 0 0 1 0\n",
      " 0 0 0 0 0 0 0 1 0 0 0 0 0 0 0 0 0 0 0 0 1 0 0 0 0 0 0 0 0 0 0 0 0 0 0 0 0\n",
      " 0 0 1 0 0 0 1 0 1 0 0 0 0 0 1 0 0 1 0 0 0 0 0 0 0 1 0 0 0 0 0 0 0 0 0 0 0\n",
      " 0 0 0 0 0 0 0 0 0 0 0 0 0 0 0 0 0 0 0 0 0 0 0 0 1 0 0 0 0 0 1 0 0 0 0 0 0\n",
      " 0 0 0 0 0 0 0 0 0 1 1 0 0 0 1 0 0 1 0 0 0 0 0 0 0 1 0 0 0 0 0 0 0 0 0 1 0\n",
      " 0 0 0 0 0 0 0 0 0 0 0 0 0 0 0 0 0 0 0 0 0 0 0 1 1 0 0 0 0 0 0 1 0 0 0 0 0\n",
      " 0 0 0 0]\n",
      "[0 0 0 1 0 0 0 0 0 0 0 0 0 0 0 0 0 0 0 0 0 0 0 0 0 0 0 0 0 0 0 0 1 0 0 0 0\n",
      " 0 0 0 0 1 0 0 0 0 0 0 0 0 0 0 1 0 0 0 0 0 0 0 0 0 0 0 0 0 0 0 0 0 0 0 0 0\n",
      " 0 0 0 0 0 0 0 0 0 0 0 0 0 0 0 0 1 0 0 0 0 0 0 1 0 0 0 0 0 0 0 0 0 0 0 1 0\n",
      " 0 0 0 0 0 0 1 1 0 0 0 0 0 0 0 0 0 0 0 0 0 0 0 0 0 0 0 0 0 0 0 0 0 0 0 0 0\n",
      " 0 0 1 0 0 0 0 0 0 0 0 0 0 0 0 0 0 0 0 0 0 0 0 0 0 0 0 0 0 0 0 0 0 0 0 0 0\n",
      " 0 0 0 0 0 0 0 0 0 0 0 0 0 0 0 0 0 0 0 0 0 0 0 0 0 0 0 0 0 0 0 0 0 0 0 0 0\n",
      " 0 0 0 0 0 0 0 0 0 0 0 0 0 0 0 0 0 0 0 0 0 0 0 0 0 1 0 0 0 0 0 0 0 0 0 0 0\n",
      " 0 0 0 0 0 0 0 0 0 0 0 0 0 0 0 0 0 0 0 0 0 0 0 1 0 0 0 1 0 0 0 1 0 0 0 0 0\n",
      " 0 0 0 0]\n",
      "Precision 0.714285714286, Recall 0.3125\n"
     ]
    },
    {
     "data": {
      "image/png": "[encoded data removed]",
      "text/plain": [
       "<matplotlib.figure.Figure at 0x1141546d0>"
      ]
     },
     "metadata": {},
     "output_type": "display_data"
    }
   ],
   "source": [
    "import matplotlib.pyplot as plts\n",
    "import numpy as np\n",
    "import cPickle as pickle\n",
    "\n",
    "from sklearn import svm, datasets\n",
    "from sklearn.metrics import precision_recall_curve\n",
    "\n",
    "# Read pickle\n",
    "data = None\n",
    "with open('data/feature_matrix_sparse.pickle', 'rb') as f:\n",
    "    sparse = pickle.load(f)\n",
    "\n",
    "rows = sparse[2]\n",
    "columns = sparse[3]\n",
    "data = np.zeros((len(rows), len(columns) + 1), dtype=np.uint8)\n",
    "data[:,-1:] = sparse[1]\n",
    "for i, j in sparse[0]:\n",
    "    data[i, j] = 1\n",
    "\n",
    "# Define data and target\n",
    "target = data[:, 14443]\n",
    "target[target > 1] = 1\n",
    "data = data[:, range(14443)]\n",
    "\n",
    "# print('Length Target {}'.format(target.size))\n",
    "# print('Nonzero {}'.format(np.count_nonzero(target)))\n",
    "\n",
    "# Define test- and trainingset for target\n",
    "target_test = target[-300:]\n",
    "target_train = target[:2000]\n",
    "#target_train = target[:-30]\n",
    "\n",
    "\n",
    "# Define test- and trainingset for data\n",
    "data_test = data[-300:]\n",
    "data_train = data[:2000]\n",
    "#data_train = data[:-30]\n",
    "\n",
    "\n",
    "print('Length Data Test {}'.format(data_test.shape))\n",
    "print('Nonzero Data Test {}'.format(np.count_nonzero(data_test)))\n",
    "\n",
    "# Create classifier\n",
    "clf = svm.SVC(kernel='linear', C=0.2)\n",
    "\n",
    "# Fit model\n",
    "clf.fit(data_train, target_train)\n",
    "\n",
    "# Predict remaining data\n",
    "target_score = clf.predict(data_test)\n",
    "\n",
    "print(target_test)\n",
    "print(target_score)\n",
    "#\n",
    "# Compute Precision-Recall\n",
    "precision, recall, thresholds = precision_recall_curve(target_test, target_score)\n",
    "#\n",
    "# Print Precision and Recall\n",
    "print('Precision {}, Recall {}'.format(precision[1], recall[1]))\n",
    "\n",
    "# Plot precision-recall-curve\n",
    "plt.clf()\n",
    "plt.plot(recall, precision, lw=2, color='navy',\n",
    "         label='Precision-Recall curve')\n",
    "plt.xlabel('Recall')\n",
    "plt.ylabel('Precision')\n",
    "plt.ylim([0.0, 1.05])\n",
    "plt.xlim([0.0, 1.0])\n",
    "plt.title('Precision-Recall')\n",
    "plt.legend(loc=\"lower left\")\n",
    "plt.show()\n"
   ]
  },
  {
   "cell_type": "code",
   "execution_count": null,
   "metadata": {
    "collapsed": true
   },
   "outputs": [],
   "source": []
  }
 ],
 "metadata": {
  "kernelspec": {
   "display_name": "Python [default]",
   "language": "python",
   "name": "python2"
  },
  "language_info": {
   "codemirror_mode": {
    "name": "ipython",
    "version": 2
   },
   "file_extension": ".py",
   "mimetype": "text/x-python",
   "name": "python",
   "nbconvert_exporter": "python",
   "pygments_lexer": "ipython2",
   "version": "2.7.13"
  }
 },
 "nbformat": 4,
 "nbformat_minor": 2
}
