{
 "cells": [
  {
   "cell_type": "code",
   "execution_count": 2,
   "metadata": {
    "collapsed": false,
    "scrolled": false
   },
   "outputs": [
    {
     "name": "stdout",
     "output_type": "stream",
     "text": [
      "Precision: 0.2, Recall: 0.00218818380744\n"
     ]
    }
   ],
   "source": [
    "import numpy as np\n",
    "import matplotlib.pyplot as plt\n",
    "import copy\n",
    "import collections\n",
    "\n",
    "from sklearn.svm import SVC\n",
    "from sklearn.metrics import mean_squared_error\n",
    "from sklearn.metrics import mean_squared_error\n",
    "from sklearn.metrics import precision_recall_curve\n",
    "\n",
    "from imports.matrix_helper import MatrixHelper\n",
    "\n",
    "matrix_helper = MatrixHelper()\n",
    "\n",
    "# get feature matrices and row names (component names)\n",
    "matrices = matrix_helper.load_from_parse('data/semiannual/matrix_classification_2014-03-17.pickle')\n",
    "validation_matrices = matrix_helper.load_from_parse('data/semiannual/matrix_classification_2017-03-09.pickle')\n",
    "\n",
    "feature_matrix = matrices[0]\n",
    "validation_feature_matrix = validation_matrices[0]\n",
    "rows = matrices[1]\n",
    "validation_rows = validation_matrices[1]\n",
    "\n",
    "# count number of samples and features in the feature matrix\n",
    "samples_count = feature_matrix.shape[0]\n",
    "features_count = feature_matrix.shape[1] - 1\n",
    "\n",
    "# Create Array (vulnerable_rows) with the names of all vulnerable components\n",
    "vulnerable_indices = np.where(feature_matrix[:,-1] > 0)\n",
    "vulnerable_rows = [rows[i] for i in (vulnerable_indices[0])]\n",
    "\n",
    "# Create 2 matrices: One with the NOT vulnerable samples/components and one with their names\n",
    "not_vulnerable_rows = []\n",
    "not_vulnerable_matrix = []\n",
    "\n",
    "for i in range(len(rows)):\n",
    "    if rows[i] not in vulnerable_rows:   \n",
    "        not_vulnerable_rows.append(rows[i])\n",
    "        not_vulnerable_matrix.append(feature_matrix[i,:])\n",
    "        \n",
    "not_vulnerable_matrix = np.asarray(not_vulnerable_matrix)\n",
    "\n",
    "# Split feature matrix into data and target\n",
    "training_data = feature_matrix[:, range(features_count)]\n",
    "training_target = feature_matrix[:, features_count]\n",
    "\n",
    "\n",
    "# Create svm classifier\n",
    "clf = SVC(kernel='linear', C=0.2)\n",
    "\n",
    "# Fit model\n",
    "clf.fit(training_data, training_target)\n",
    "\n",
    "# Predict data\n",
    "target_prediction = clf.predict(not_vulnerable_matrix[:, range(features_count)])\n",
    "\n",
    "# Create matrix with component names, predicted vulnerabilities and actual vulnerabilities in validation revision\n",
    "compare_matrix = []\n",
    "for i in range(len(not_vulnerable_rows)):\n",
    "    if not_vulnerable_rows[i] in validation_rows:\n",
    "        validation_index = validation_rows.index(not_vulnerable_rows[i])\n",
    "        compare_matrix.append([not_vulnerable_rows[i], target_prediction[i], validation_feature_matrix[validation_index, -1]])\n",
    "\n",
    "compare_matrix = np.array(compare_matrix)\n",
    "\n",
    "# Calculate precision and recall \n",
    "precision, recall, thresholds = precision_recall_curve(np.array(compare_matrix[:, 2], dtype='f'), np.array(compare_matrix[:, 1], dtype='f'))\n",
    "\n",
    "print('Precision: {}, Recall: {}'.format(precision[1], recall[1]))\n",
    "\n",
    "#print('--------------')\n",
    "#for component in compare_matrix:\n",
    "#    print(\"{:25} Predicted: {:>3} \\t Actual in new Revision: {:>3}\".format(component[0], round(float(component[1])), component[2]))"
   ]
  },
  {
   "cell_type": "code",
   "execution_count": null,
   "metadata": {
    "collapsed": false
   },
   "outputs": [],
   "source": [
    "import numpy as np\n",
    "import matplotlib.pyplot as plt\n",
    "\n",
    "from sklearn.metrics import mean_squared_error\n",
    "from sklearn.metrics import precision_recall_curve\n",
    "from scipy.stats import rankdata\n",
    "from scipy.stats import spearmanr\n",
    "\n",
    "from imports.matrix_helper import MatrixHelper\n",
    "from imports.prediction_helper import PredictionHelper\n",
    "\n",
    "# get feature matrices and row names (component names)\n",
    "matrix_helper = MatrixHelper()\n",
    "matrices = matrix_helper.load_from_parse('data/semiannual/matrix_classification_2014-03-17.pickle')\n",
    "validation_matrices = matrix_helper.load_from_parse('data/semiannual/matrix_classification_2017-03-09.pickle')\n",
    "\n",
    "# instantiate Prediction Helper Class and predict values for compare matrix with regression\n",
    "prediction_helper = PredictionHelper()\n",
    "prediction_helper.calculate_semiannual_compare_matrix(matrices, validation_matrices, 'SVM')\n",
    "\n",
    "compare_matrix = prediction_helper.get_compare_matrix()\n",
    "\n",
    "precision, recall, thresholds = precision_recall_curve(np.array(compare_matrix[:, 2], dtype='f'), np.array(compare_matrix[:, 1], dtype='f'))\n",
    "\n",
    "print('Precision: {}, Recall: {}'.format(precision[1], recall[1]))"
   ]
  },
  {
   "cell_type": "code",
   "execution_count": null,
   "metadata": {
    "collapsed": true
   },
   "outputs": [],
   "source": []
  }
 ],
 "metadata": {
  "kernelspec": {
   "display_name": "Python [default]",
   "language": "python",
   "name": "python2"
  },
  "language_info": {
   "codemirror_mode": {
    "name": "ipython",
    "version": 2
   },
   "file_extension": ".py",
   "mimetype": "text/x-python",
   "name": "python",
   "nbconvert_exporter": "python",
   "pygments_lexer": "ipython2",
   "version": "2.7.13"
  }
 },
 "nbformat": 4,
 "nbformat_minor": 2
}
