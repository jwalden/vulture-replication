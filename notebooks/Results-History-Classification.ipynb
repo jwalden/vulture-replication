{
 "cells": [
  {
   "cell_type": "markdown",
   "metadata": {},
   "source": [
    "### Precision/Recall History\n",
    "* Zweck: Verbesserung von Precision und Recall aus der Replikation mit den Feature Hisotry Matrizen.\n",
    "* Matrix: Klassifikationsmatrix mit Feautre History des mozilla-central Repository\n",
    "* Features: Includes, Function Calls\n",
    "* Modell: Support Vector Machine Classifier\n",
    "\n",
    "#### Setup\n",
    "* Training-Set/Test-Set: Stratified sampling auf einer Matrix (2/3 : 1/3)\n",
    "\n",
    "#### Results\n",
    "Das Skript macht auf n verschiedenen Datensets eine Vorhersage und berechnet Precision und Recall. Diese werden im Scatterplot dargestellt und der deren Durchschnitt im print.\n",
    "* Resultat Plot: Scatterplot Precision vs. Recall\n",
    "* Resultat Print: Durchschnitt Precision vs. Recall über n Datensets"
   ]
  },
  {
   "cell_type": "code",
   "execution_count": 1,
   "metadata": {},
   "outputs": [
    {
     "name": "stdout",
     "output_type": "stream",
     "text": [
      "Includes            : 40/40\n",
      "Function Calls      : 40/40\n",
      "==================================\n",
      "+----------------+---------------+------------+------------------------------+---------------------------+\n",
      "| Features       | Precision avg | Recall avg | Precision standard deviation | Recall standard deviation |\n",
      "+----------------+---------------+------------+------------------------------+---------------------------+\n",
      "| Includes       |      0.66     |    0.58    |            0.014             |           0.016           |\n",
      "| Function Calls |      0.72     |    0.65    |            0.013             |           0.012           |\n",
      "+----------------+---------------+------------+------------------------------+---------------------------+\n",
      "==================================\n"
     ]
    },
    {
     "data": {
      "image/png": "[encoded data removed]",
      "text/plain": [
       "<matplotlib.figure.Figure at 0x108438350>"
      ]
     },
     "metadata": {},
     "output_type": "display_data"
    }
   ],
   "source": [
    "%matplotlib inline\n",
    "import matplotlib.pyplot as plt\n",
    "import numpy as np\n",
    "\n",
    "from imports.matrix_helper import MatrixHelper\n",
    "from imports.prediction_helper import PredictionHelper\n",
    "from sklearn.metrics import precision_recall_curve\n",
    "from prettytable import PrettyTable\n",
    "\n",
    "matrix_helper = MatrixHelper()\n",
    "experiments_count = 40\n",
    "\n",
    "features = [('incl', 'Includes', 'o', '#5180cc'), ('calls', 'Function Calls', 'x', '#FD3612')]\n",
    "precision_lists = {}\n",
    "recall_lists = {}\n",
    "\n",
    "for feature in features:\n",
    "    # Read pickle\n",
    "    matrices = matrix_helper.load_from_parse('data/matrices/matrix_cla_{}_history.pickle'.format(feature[0]))\n",
    "    precision_lists[feature[0]] = []\n",
    "    recall_lists[feature[0]] = []\n",
    "    \n",
    "    for i in range(experiments_count):\n",
    "        print '{:20}: {:2}/{:2}\\r'.format(feature[1], i+1, experiments_count),\n",
    "        # Instantiate Prediction Helper Class and predict values for compare matrix with an SVM\n",
    "        prediction_helper = PredictionHelper()\n",
    "        prediction_helper.calculate_validation_compare_matrix(matrices, sampling_factor=(2.0/3), model_type='LinearSVC', penalty=1.0)\n",
    "        compare_matrix = prediction_helper.get_compare_matrix()\n",
    "\n",
    "        # Compute Precision-Recall\n",
    "        precision, recall, thresholds = precision_recall_curve(np.array(compare_matrix[:, 2], dtype='f'), np.array(compare_matrix[:, 1], dtype='f'))\n",
    "\n",
    "        precision_lists[feature[0]].append(precision[1])\n",
    "        recall_lists[feature[0]].append(recall[1])\n",
    "    print\n",
    "\n",
    "\n",
    "# plot\n",
    "ymin = min([min(precision_lists[list]) for list in precision_lists])\n",
    "ymax = max([max(precision_lists[list]) for list in precision_lists])\n",
    "\n",
    "fig = plt.figure(figsize=(9, 4))\n",
    "\n",
    "for i, feature in enumerate(features):\n",
    "    ax = plt.subplot2grid((1, 10), (0, i))\n",
    "    boxprops = dict(color=feature[3])\n",
    "    flierprops = dict(markerfacecolor=feature[3],markeredgecolor=feature[3], marker=feature[2])\n",
    "    whiskerprops = dict(color=feature[3])\n",
    "    medianprops = dict(color='black')\n",
    "    plt.boxplot(precision_lists[feature[0]], flierprops=flierprops, whiskerprops=whiskerprops, boxprops=boxprops, medianprops=medianprops, widths=(0.5))\n",
    "    plt.ylim(ymin=ymin/1.01, ymax=ymax*1.01)\n",
    "    plt.axis('off')\n",
    "\n",
    "ax = plt.subplot2grid((1, 10), (0, 3), colspan=7)\n",
    "for feature in features:\n",
    "    plt.scatter(recall_lists[feature[0]], precision_lists[feature[0]], edgecolor=feature[3], linewidth='1', facecolor=feature[3], marker=feature[2], label=feature[1])\n",
    "\n",
    "plt.xlabel('Recall')\n",
    "plt.ylabel('Precision')\n",
    "plt.ylim(ymin=ymin/1.01, ymax=ymax*1.01)\n",
    "plt.legend(loc=4)\n",
    "ax.set_title('Includes and Function Calls')\n",
    "\n",
    "fig.savefig('outputs/precision-recall-history.pdf')\n",
    "\n",
    "# print\n",
    "print('==================================')\n",
    "table = PrettyTable(['Features', 'Precision avg', 'Recall avg', 'Precision standard deviation', 'Recall standard deviation'])\n",
    "table.align[\"Features\"] = \"l\"\n",
    "for feature in features:\n",
    "    precision_average = '{:.2f}'.format(sum(precision_lists[feature[0]]) / float(len(precision_lists[feature[0]])))\n",
    "    recall_average = '{:.2f}'.format(float(sum(recall_lists[feature[0]])) / len(recall_lists[feature[0]]))\n",
    "    precision_sd = '{:.3f}'.format(np.std(precision_lists[feature[0]]))\n",
    "    recall_sd = '{:.3f}'.format(np.std(recall_lists[feature[0]]))\n",
    "    \n",
    "    table.add_row([feature[1], precision_average, recall_average, precision_sd, recall_sd])\n",
    "print(table)\n",
    "print('==================================')\n"
   ]
  },
  {
   "cell_type": "code",
   "execution_count": null,
   "metadata": {
    "collapsed": true
   },
   "outputs": [],
   "source": []
  }
 ],
 "metadata": {
  "kernelspec": {
   "display_name": "Python 2",
   "language": "python",
   "name": "python2"
  },
  "language_info": {
   "codemirror_mode": {
    "name": "ipython",
    "version": 2
   },
   "file_extension": ".py",
   "mimetype": "text/x-python",
   "name": "python",
   "nbconvert_exporter": "python",
   "pygments_lexer": "ipython2",
   "version": "2.7.10"
  }
 },
 "nbformat": 4,
 "nbformat_minor": 2
}
