{
 "cells": [
  {
   "cell_type": "markdown",
   "metadata": {},
   "source": [
    "### Precision/Recall History\n",
    "* Zweck: Verbesserung von Precision und Recall aus der Replikation mit den Feature Hisotry Matrizen.\n",
    "* Matrix: Klassifikationsmatrix mit Feautre History des mozilla-central Repository\n",
    "* Features: Includes, Function Calls\n",
    "* Modell: Support Vector Machine Classifier\n",
    "\n",
    "#### Setup\n",
    "* Training-Set/Test-Set: Stratified sampling auf einer Matrix (2/3 : 1/3)\n",
    "\n",
    "#### Results\n",
    "Das Skript macht auf n verschiedenen Datensets eine Vorhersage und berechnet Precision und Recall. Diese werden im Scatterplot dargestellt und der deren Durchschnitt im print.\n",
    "* Resultat Plot: Scatterplot Precision vs. Recall\n",
    "* Resultat Print: Durchschnitt Precision vs. Recall über n Datensets"
   ]
  },
  {
   "cell_type": "code",
   "execution_count": 1,
   "metadata": {},
   "outputs": [
    {
     "name": "stdout",
     "output_type": "stream",
     "text": [
      "0\n",
      "1\n",
      "2\n",
      "3\n",
      "4\n",
      "5\n",
      "6\n",
      "7\n",
      "8\n",
      "9\n",
      "10\n",
      "11\n",
      "12\n",
      "13\n",
      "14\n",
      "15\n",
      "16\n",
      "17\n",
      "18\n",
      "19\n",
      "20\n",
      "21\n",
      "22\n",
      "23\n",
      "24\n",
      "25\n",
      "26\n",
      "27\n",
      "28\n",
      "29\n",
      "30\n",
      "31\n",
      "32\n",
      "33\n",
      "34\n",
      "35\n",
      "36\n",
      "37\n",
      "38\n",
      "39\n",
      "Average of 40 Experiments:\n",
      "Precision: 0.67\n",
      "Recall: 0.58\n"
     ]
    },
    {
     "data": {
      "image/png": "[encoded data removed]",
      "text/plain": [
       "<matplotlib.figure.Figure at 0x107222b10>"
      ]
     },
     "metadata": {},
     "output_type": "display_data"
    }
   ],
   "source": [
    "%matplotlib inline\n",
    "import matplotlib.pyplot as plt\n",
    "import numpy as np\n",
    "\n",
    "from imports.matrix_helper import MatrixHelper\n",
    "from imports.prediction_helper import PredictionHelper\n",
    "from sklearn.metrics import precision_recall_curve\n",
    "\n",
    "matrix_helper = MatrixHelper()\n",
    "experiments_count = 40\n",
    "\n",
    "# Read pickle\n",
    "matrices = matrix_helper.load_from_parse('data/matrices/matrix_cla_incl_history.pickle')\n",
    "\n",
    "precision_list = []\n",
    "recall_list = []\n",
    "for i in range(experiments_count):\n",
    "    # Instantiate Prediction Helper Class and predict values for compare matrix with an SVM\n",
    "    prediction_helper = PredictionHelper()\n",
    "    prediction_helper.calculate_validation_compare_matrix(matrices, sampling_factor=(2.0/3), model_type='LinearSVC')\n",
    "    compare_matrix = prediction_helper.get_compare_matrix()\n",
    "\n",
    "    # Compute Precision-Recall\n",
    "    precision, recall, thresholds = precision_recall_curve(np.array(compare_matrix[:, 2], dtype='f'), np.array(compare_matrix[:, 1], dtype='f'))\n",
    "\n",
    "    precision_list.append(precision[1])\n",
    "    recall_list.append(recall[1])\n",
    "    print(i)\n",
    "\n",
    "\n",
    "# plot\n",
    "fig = plt.figure()\n",
    "plt.scatter(recall_list, precision_list, edgecolor='black', linewidth='1', facecolor='white')\n",
    "fig.suptitle('(a) Includes')\n",
    "plt.xlabel('Recall')\n",
    "plt.ylabel('Precision')\n",
    "fig.savefig('outputs/precision-recall-includes-history.pdf')\n",
    "\n",
    "# print\n",
    "precision_average = sum(precision_list) / float(len(precision_list))\n",
    "recall_average = float(sum(recall_list)) / len(recall_list)\n",
    "print('Average of {} Experiments:'.format(experiments_count))\n",
    "print('Precision: {:.2f}'.format(precision_average))\n",
    "print('Recall: {:.2f}'.format(recall_average))"
   ]
  },
  {
   "cell_type": "code",
   "execution_count": null,
   "metadata": {
    "collapsed": true
   },
   "outputs": [],
   "source": []
  }
 ],
 "metadata": {
  "kernelspec": {
   "display_name": "Python 2",
   "language": "python",
   "name": "python2"
  },
  "language_info": {
   "codemirror_mode": {
    "name": "ipython",
    "version": 2
   },
   "file_extension": ".py",
   "mimetype": "text/x-python",
   "name": "python",
   "nbconvert_exporter": "python",
   "pygments_lexer": "ipython2",
   "version": "2.7.10"
  }
 },
 "nbformat": 4,
 "nbformat_minor": 2
}
