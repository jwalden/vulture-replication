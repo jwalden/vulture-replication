{
 "cells": [
  {
   "cell_type": "code",
   "execution_count": 1,
   "metadata": {
    "collapsed": false,
    "scrolled": false
   },
   "outputs": [
    {
     "name": "stdout",
     "output_type": "stream",
     "text": [
      "Mean square error: 6.13137578964\n",
      "Mean square error with top 1%: 91.2247924805\n",
      "Spearman correlation coefficient: 0.356678733676\n"
     ]
    },
    {
     "name": "stderr",
     "output_type": "stream",
     "text": [
      "/Users/aurelio/anaconda/lib/python2.7/site-packages/scipy/stats/stats.py:250: RuntimeWarning: The input array could not be properly checked for nan values. nan values will be ignored.\n",
      "  \"values. nan values will be ignored.\", RuntimeWarning)\n"
     ]
    }
   ],
   "source": [
    "import numpy as np\n",
    "import matplotlib.pyplot as plt\n",
    "\n",
    "from sklearn.metrics import mean_squared_error\n",
    "from sklearn.metrics import precision_recall_curve\n",
    "from scipy.stats import spearmanr\n",
    "\n",
    "from imports.matrix_helper import MatrixHelper\n",
    "from imports.svr_helper import SVRHelper\n",
    "\n",
    "# get feature matrices and row names (component names)\n",
    "matrix_helper = MatrixHelper()\n",
    "matrices = matrix_helper.load_from_parse('data/semiannual/matrix_regression_2007-06-21.pickle')\n",
    "validation_matrices = matrix_helper.load_from_parse('data/semiannual/matrix_regression_2017-03-09.pickle')\n",
    "\n",
    "# instantiate SVR Helper Class and predict values for compare matrix\n",
    "svr_helper = SVRHelper()\n",
    "svr_helper.calculate_semiannual_compare_matrix(matrices, validation_matrices)\n",
    "\n",
    "# Calculate the mean square error between the actual vulnerabilities in the validation matrix and the predicted values\n",
    "compare_matrix_sorted = svr_helper.get_compare_matrix_sorted()\n",
    "mse = mean_squared_error(np.array(compare_matrix_sorted[:,2], dtype='f'), np.array(compare_matrix_sorted[:,1], dtype='f'))\n",
    "print('Mean square error: {}'.format(mse))\n",
    "\n",
    "# Get the Top 1% and calcualte again the mean square error\n",
    "compare_matrix_top = svr_helper.get_compare_matrix_top()\n",
    "mse_top = mean_squared_error(np.array(compare_matrix_top[:,2], dtype='f'), np.array(compare_matrix_top[:,1], dtype='f'))\n",
    "print('Mean square error with top 1%: {}'.format(mse_top))\n",
    "\n",
    "\n",
    "# Get the Top 1% and calculate the spearman correlation coefficient\n",
    "coefficient = spearmanr(compare_matrix_top[:,1], compare_matrix_top[:,2])\n",
    "print('Spearman correlation coefficient: {}'.format(coefficient[0]))\n"
   ]
  },
  {
   "cell_type": "markdown",
   "metadata": {},
   "source": [
    "## Regression with multiple matrices"
   ]
  },
  {
   "cell_type": "code",
   "execution_count": 8,
   "metadata": {
    "collapsed": false
   },
   "outputs": [
    {
     "name": "stdout",
     "output_type": "stream",
     "text": [
      "2007-03-22 - MSE: 16.6169605255    MSE Top 1%: 0.571428596973    Spearman coefficient: nan\n",
      "2007-06-21 - MSE: 6.13131999969    MSE Top 1%: 91.2246704102    Spearman coefficient: 0.356678733676\n",
      "2007-09-23 - MSE: 4.47656202316    MSE Top 1%: 51.9271125793    Spearman coefficient: 0.607613826231\n"
     ]
    }
   ],
   "source": [
    "import numpy as np\n",
    "import matplotlib.pyplot as plt\n",
    "import os\n",
    "\n",
    "from sklearn.metrics import mean_squared_error\n",
    "from sklearn.metrics import precision_recall_curve\n",
    "from scipy.stats import spearmanr\n",
    "\n",
    "from imports.matrix_helper import MatrixHelper\n",
    "from imports.svr_helper import SVRHelper\n",
    "\n",
    "matrix_helper = MatrixHelper()\n",
    "\n",
    "def validate(matrices, validation_matrices):\n",
    "    # instantiate SVR Helper Class and predict values for compare matrix\n",
    "    svr_helper = SVRHelper()\n",
    "    svr_helper.calculate_semiannual_compare_matrix(matrices, validation_matrices)\n",
    "\n",
    "    # Calculate the mean square error between the actual vulnerabilities in the validation matrix and the predicted values\n",
    "    compare_matrix_sorted = svr_helper.get_compare_matrix_sorted()\n",
    "    mse = mean_squared_error(np.array(compare_matrix_sorted[:,2], dtype='f'), np.array(compare_matrix_sorted[:,1], dtype='f'))\n",
    "\n",
    "    # Get the Top 1% and calcualte again the mean square error\n",
    "    compare_matrix_top = svr_helper.get_compare_matrix_top()\n",
    "    mse_top = mean_squared_error(np.array(compare_matrix_top[:,2], dtype='f'), np.array(compare_matrix_top[:,1], dtype='f'))\n",
    "\n",
    "\n",
    "    # Get the Top 1% and calculate the spearman correlation coefficient\n",
    "    spearman = spearmanr(compare_matrix_top[:,1], compare_matrix_top[:,2])[0]\n",
    "\n",
    "    return mse, mse_top, spearman\n",
    "\n",
    "validation_date = '2017-03-09'\n",
    "counter = 0\n",
    "\n",
    "for file in os.listdir(\"data/semiannual\"):\n",
    "    if file != '.DS_Store' and file.split('_', 2)[1] == 'regression':\n",
    "        date = file.split('_', 2)[2].split('.', 1)[0]\n",
    "        if (date != validation_date and counter < 3):\n",
    "            counter += 1\n",
    "            matrices = matrix_helper.load_from_parse('data/semiannual/' + file)\n",
    "            validation_matrices = matrix_helper.load_from_parse('data/semiannual/matrix_regression_' + validation_date + '.pickle')\n",
    "            mse, mse_top, spearman = validate(matrices, validation_matrices)\n",
    "            print('{} - MSE: {}    MSE Top 1%: {}    Spearman coefficient: {}'.format(date, mse, mse_top, spearman))\n",
    "\n"
   ]
  },
  {
   "cell_type": "code",
   "execution_count": null,
   "metadata": {
    "collapsed": true
   },
   "outputs": [],
   "source": []
  }
 ],
 "metadata": {
  "kernelspec": {
   "display_name": "Python [default]",
   "language": "python",
   "name": "python2"
  },
  "language_info": {
   "codemirror_mode": {
    "name": "ipython",
    "version": 2
   },
   "file_extension": ".py",
   "mimetype": "text/x-python",
   "name": "python",
   "nbconvert_exporter": "python",
   "pygments_lexer": "ipython2",
   "version": "2.7.13"
  }
 },
 "nbformat": 4,
 "nbformat_minor": 2
}
