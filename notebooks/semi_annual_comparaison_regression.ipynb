{
 "cells": [
  {
   "cell_type": "code",
   "execution_count": 7,
   "metadata": {
    "collapsed": false,
    "scrolled": false
   },
   "outputs": [
    {
     "name": "stdout",
     "output_type": "stream",
     "text": [
      "Mean square error: 0.955091059208\n",
      "Mean square error with top 1%: 3.3125\n",
      "Spearman correlation coefficient: 0.32377738857\n"
     ]
    }
   ],
   "source": [
    "import numpy as np\n",
    "import matplotlib.pyplot as plt\n",
    "\n",
    "from sklearn.metrics import mean_squared_error\n",
    "from sklearn.metrics import precision_recall_curve\n",
    "from scipy.stats import rankdata\n",
    "from scipy.stats import spearmanr\n",
    "\n",
    "from imports.matrix_helper import MatrixHelper\n",
    "from imports.svr_helper import SVRHelper\n",
    "\n",
    "# get feature matrices and row names (component names)\n",
    "matrix_helper = MatrixHelper()\n",
    "matrices = matrix_helper.load_from_parse('data/semiannual/matrix_regression_2011-09-15.pickle')\n",
    "validation_matrices = matrix_helper.load_from_parse('data/semiannual/matrix_regression_2017-03-09.pickle')\n",
    "\n",
    "# instantiate SVR Helper Class and predict values for compare matrix\n",
    "svr_helper = SVRHelper()\n",
    "svr_helper.calculate_semiannual_compare_matrix(matrices, validation_matrices)\n",
    "\n",
    "# Calculate the mean square error between the actual vulnerabilities in the validation matrix and the predicted values\n",
    "compare_matrix_sorted = svr_helper.get_compare_matrix_sorted()\n",
    "mse = mean_squared_error(np.array(compare_matrix_sorted[:,2], dtype='f'), np.array(compare_matrix_sorted[:,1], dtype='f'))\n",
    "print('Mean square error: {}'.format(mse))\n",
    "\n",
    "# Get the Top 1% and calcualte again the mean square error\n",
    "compare_matrix_top = svr_helper.get_compare_matrix_top()\n",
    "mse_top = mean_squared_error(np.array(compare_matrix_top[:,2], dtype='f'), np.array(compare_matrix_top[:,1], dtype='f'))\n",
    "print('Mean square error with top 1%: {}'.format(mse_top))\n",
    "\n",
    "# Get the Top 1% and calculate the spearman correlation coefficient\n",
    "predicted_ranking = len(compare_matrix_top[:, 1]) - rankdata(compare_matrix_top[:, 1], method='max') + 1\n",
    "actual_ranking = len(compare_matrix_top[:, 2]) - rankdata(compare_matrix_top[:, 2], method='max') + 1\n",
    "\n",
    "# Calculate Spearman's correlation coefficient\n",
    "coefficient = spearmanr(predicted_ranking, actual_ranking)\n",
    "print('Spearman correlation coefficient: {}'.format(coefficient[0]))\n"
   ]
  },
  {
   "cell_type": "markdown",
   "metadata": {},
   "source": [
    "## Regression with multiple matrices"
   ]
  },
  {
   "cell_type": "code",
   "execution_count": null,
   "metadata": {
    "collapsed": false
   },
   "outputs": [
    {
     "name": "stdout",
     "output_type": "stream",
     "text": [
      "2007-03-22 - MSE: 16.6169605255    MSE Top 1%: 0.571428596973    Spearman coefficient: nan\n",
      "2007-06-21 - MSE: 6.14189815521    MSE Top 1%: 63.7142868042    Spearman coefficient: -0.269283887663\n",
      "2007-09-23 - MSE: 4.49358654022    MSE Top 1%: 1.66666662693    Spearman coefficient: -0.304870559568\n",
      "2007-12-18 - MSE: 3.33031463623    MSE Top 1%: 0.904761910439    Spearman coefficient: -0.227616367\n",
      "2008-03-18 - MSE: 2.58407902718    MSE Top 1%: 0.523809552193    Spearman coefficient: 0.340127571764\n",
      "2008-06-08 - MSE: 1.81991398335    MSE Top 1%: 1.18181812763    Spearman coefficient: 0.516734155486\n",
      "2008-09-21 - MSE: 1.73864996433    MSE Top 1%: 8.30303001404    Spearman coefficient: 0.446529865668\n",
      "2008-12-16 - MSE: 0.851306259632    MSE Top 1%: 6.80555534363    Spearman coefficient: 0.256149697401\n",
      "2009-03-21 - MSE: 0.779922783375    MSE Top 1%: 2.27777767181    Spearman coefficient: 0.324083349486\n",
      "2009-06-18 - MSE: 0.659047603607    MSE Top 1%: 3.35135126114    Spearman coefficient: 0.348713273132\n",
      "2009-09-20 - MSE: 1.3887155056    MSE Top 1%: 3.34210515022    Spearman coefficient: 0.400771139843\n",
      "2009-12-19 - MSE: 1.30761599541    MSE Top 1%: 1.64999997616    Spearman coefficient: 0.317779115744\n",
      "2010-03-21 - MSE: 1.24105238914    MSE Top 1%: 4.09523820877    Spearman coefficient: 0.50689649831\n",
      "2010-06-19 - MSE: 0.626625657082    MSE Top 1%: 4.14285707474    Spearman coefficient: 0.441332688592\n",
      "2010-09-17 - MSE: 0.827854275703    MSE Top 1%: 5.19999980927    Spearman coefficient: 0.427916403307\n",
      "2010-12-16 - MSE: 1.10468947887    MSE Top 1%: 11.4489793777    Spearman coefficient: 0.29751387137\n",
      "2011-03-17 - MSE: 0.865600705147    MSE Top 1%: 12.1086959839    Spearman coefficient: 0.403132544941\n",
      "2011-06-16 - MSE: 1.01645922661    MSE Top 1%: 25.148935318    Spearman coefficient: 0.214136714542\n",
      "2011-09-15 - MSE: 0.955091059208    MSE Top 1%: 3.3125    Spearman coefficient: 0.32377738857\n",
      "2011-12-15 - MSE: 0.799456179142    MSE Top 1%: 1.63636362553    Spearman coefficient: 0.261762592967\n",
      "2012-03-15 - MSE: 0.761833190918    MSE Top 1%: 3.13207554817    Spearman coefficient: 0.0946937460952\n",
      "2012-06-13 - MSE: 0.635879218578    MSE Top 1%: 5.01470565796    Spearman coefficient: 0.200205752153\n",
      "2012-09-10 - MSE: 0.622252941132    MSE Top 1%: 5.0    Spearman coefficient: 0.227661128493\n",
      "2012-12-13 - MSE: 0.453928768635    MSE Top 1%: 3.81690144539    Spearman coefficient: 0.0818621627868\n",
      "2013-03-14 - MSE: 0.29224255681    MSE Top 1%: 3.58750009537    Spearman coefficient: 0.235395693055\n",
      "2013-06-13 - MSE: 0.25324434042    MSE Top 1%: 3.96296286583    Spearman coefficient: 0.255617222435\n",
      "2013-09-15 - MSE: 0.270454078913    MSE Top 1%: 5.26041650772    Spearman coefficient: 0.344048389613\n",
      "2013-12-08 - MSE: 0.190508171916    MSE Top 1%: 3.67415738106    Spearman coefficient: 0.214832711148\n",
      "2014-03-17 - MSE: 0.212228044868    MSE Top 1%: 4.1414141655    Spearman coefficient: 0.143983125318\n",
      "2014-06-12 - MSE: 0.172789111733    MSE Top 1%: 4.76363658905    Spearman coefficient: 0.132311001731\n",
      "2014-12-14 - MSE: 0.119469024241    MSE Top 1%: 5.79411745071    Spearman coefficient: 0.210280158232\n",
      "2015-03-01 - MSE: 0.113073058426    MSE Top 1%: 4.89430904388    Spearman coefficient: -0.0099652527642\n"
     ]
    }
   ],
   "source": [
    "import numpy as np\n",
    "import matplotlib.pyplot as plt\n",
    "import os\n",
    "\n",
    "from sklearn.metrics import mean_squared_error\n",
    "from sklearn.metrics import precision_recall_curve\n",
    "from scipy.stats import rankdata\n",
    "from scipy.stats import spearmanr\n",
    "\n",
    "from imports.matrix_helper import MatrixHelper\n",
    "from imports.svr_helper import SVRHelper\n",
    "\n",
    "matrix_helper = MatrixHelper()\n",
    "\n",
    "def validate(matrices, validation_matrices):\n",
    "    # instantiate SVR Helper Class and predict values for compare matrix\n",
    "    svr_helper = SVRHelper()\n",
    "    svr_helper.calculate_semiannual_compare_matrix(matrices, validation_matrices)\n",
    "\n",
    "    # Calculate the mean square error between the actual vulnerabilities in the validation matrix and the predicted values\n",
    "    compare_matrix_sorted = svr_helper.get_compare_matrix_sorted()\n",
    "    mse = mean_squared_error(np.array(compare_matrix_sorted[:,2], dtype='f'), np.array(compare_matrix_sorted[:,1], dtype='f'))\n",
    "\n",
    "    # Get the Top 1% and calcualte again the mean square error\n",
    "    compare_matrix_top = svr_helper.get_compare_matrix_top()\n",
    "    mse_top = mean_squared_error(np.array(compare_matrix_top[:,2], dtype='f'), np.array(compare_matrix_top[:,1], dtype='f'))\n",
    "\n",
    "\n",
    "    # Get the Top 1% and calculate the spearman correlation coefficient\n",
    "    predicted_ranking = len(compare_matrix_top[:, 1]) - rankdata(compare_matrix_top[:, 1], method='max') + 1\n",
    "    actual_ranking = len(compare_matrix_top[:, 2]) - rankdata(compare_matrix_top[:, 2], method='max') + 1\n",
    "\n",
    "    # Calculate Spearman's correlation coefficient\n",
    "    spearman = spearmanr(predicted_ranking, actual_ranking)[0]\n",
    "\n",
    "    return mse, mse_top, spearman\n",
    "\n",
    "validation_date = '2017-03-09'\n",
    "counter = 0\n",
    "\n",
    "for file in os.listdir(\"data/semiannual\"):\n",
    "    if file != '.DS_Store' and file.split('_', 2)[1] == 'regression':\n",
    "        date = file.split('_', 2)[2].split('.', 1)[0]\n",
    "        if (date != validation_date and counter >= 0):\n",
    "            counter += 1\n",
    "            matrices = matrix_helper.load_from_parse('data/semiannual/' + file)\n",
    "            validation_matrices = matrix_helper.load_from_parse('data/semiannual/matrix_regression_' + validation_date + '.pickle')\n",
    "            mse, mse_top, spearman = validate(matrices, validation_matrices)\n",
    "            print('{} - MSE: {}    MSE Top 1%: {}    Spearman coefficient: {}'.format(date, mse, mse_top, spearman))\n",
    "\n"
   ]
  },
  {
   "cell_type": "code",
   "execution_count": null,
   "metadata": {
    "collapsed": true
   },
   "outputs": [],
   "source": []
  }
 ],
 "metadata": {
  "kernelspec": {
   "display_name": "Python [default]",
   "language": "python",
   "name": "python2"
  },
  "language_info": {
   "codemirror_mode": {
    "name": "ipython",
    "version": 2
   },
   "file_extension": ".py",
   "mimetype": "text/x-python",
   "name": "python",
   "nbconvert_exporter": "python",
   "pygments_lexer": "ipython2",
   "version": "2.7.13"
  }
 },
 "nbformat": 4,
 "nbformat_minor": 2
}
