{
 "cells": [
  {
   "cell_type": "markdown",
   "metadata": {},
   "source": [
    "### Ranking Replication\n",
    "* Zweck: Replikation des Kapitel \"Ranking\" aus dem Paper \"Predicting Vulnerable Software Components\"\n",
    "* Matrix: Aktueller Stand \"current\" des mozilla-central Repository\n",
    "* Features: Includes, FUnction Calls\n",
    "* Modell: Support Vector Regressionsmodell\n",
    "\n",
    "#### Setup\n",
    "* Training-Set/Test-Set: Stratified sampling auf einer Matrix (2/3 : 1/3)\n",
    "\n",
    "#### Results\n",
    "Angenommen man konzentriert seine Ressourcen auf die Optimierung der 1% verwundbarsten Komponenten. Bei der Auswahl verlässt man sich auf die Vorhersage des Regressionsmodells. Dieses Skript berechnet den Faktor zwischen der Anzahl Verwundbarkeiten die in diesem Fall behoben werden und der Anzahl Verwundbarkeiten die bei der Konzentration auf 1% maximal behoben werden können.\n",
    "* Resultat: Faktor zwischen behobenen und maximal behebbaren Verwundbarkeiten."
   ]
  },
  {
   "cell_type": "code",
   "execution_count": 2,
   "metadata": {
    "scrolled": false
   },
   "outputs": [
    {
     "name": "stdout",
     "output_type": "stream",
     "text": [
      "0 - f_opt: 397.0, quotient: 0.722921914358\n",
      "1 - f_opt: 462.0, quotient: 0.666666666667\n",
      "2 - f_opt: 427.0, quotient: 0.690866510539\n",
      "3 - f_opt: 398.0, quotient: 0.618090452261\n",
      "4 - f_opt: 425.0, quotient: 0.724705882353\n",
      "5 - f_opt: 448.0, quotient: 0.658482142857\n",
      "6 - f_opt: 410.0, quotient: 0.707317073171\n",
      "7 - f_opt: 423.0, quotient: 0.713947990544\n",
      "8 - f_opt: 431.0, quotient: 0.596287703016\n",
      "9 - f_opt: 416.0, quotient: 0.711538461538\n",
      "10 - f_opt: 390.0, quotient: 0.728205128205\n",
      "11 - f_opt: 540.0, quotient: 0.757407407407\n",
      "12 - f_opt: 399.0, quotient: 0.621553884712\n",
      "13 - f_opt: 379.0, quotient: 0.738786279683\n",
      "14 - f_opt: 404.0, quotient: 0.678217821782\n",
      "15 - f_opt: 355.0, quotient: 0.735211267606\n",
      "16 - f_opt: 346.0, quotient: 0.658959537572\n",
      "17 - f_opt: 495.0, quotient: 0.769696969697\n",
      "18 - f_opt: 452.0, quotient: 0.721238938053\n",
      "19 - f_opt: 386.0, quotient: 0.69170984456\n",
      "20 - f_opt: 550.0, quotient: 0.672727272727\n",
      "21 - f_opt: 365.0, quotient: 0.717808219178\n",
      "22 - f_opt: 431.0, quotient: 0.69837587007\n",
      "23 - f_opt: 389.0, quotient: 0.694087403599\n",
      "24 - f_opt: 437.0, quotient: 0.702517162471\n",
      "25 - f_opt: 405.0, quotient: 0.725925925926\n",
      "26 - f_opt: 436.0, quotient: 0.685779816514\n",
      "27 - f_opt: 412.0, quotient: 0.54854368932\n",
      "28 - f_opt: 455.0, quotient: 0.624175824176\n",
      "29 - f_opt: 491.0, quotient: 0.818737270876\n",
      "30 - f_opt: 444.0, quotient: 0.684684684685\n",
      "31 - f_opt: 463.0, quotient: 0.701943844492\n",
      "32 - f_opt: 387.0, quotient: 0.795865633075\n",
      "33 - f_opt: 301.0, quotient: 0.661129568106\n",
      "34 - f_opt: 383.0, quotient: 0.668407310705\n",
      "35 - f_opt: 449.0, quotient: 0.790645879733\n",
      "36 - f_opt: 441.0, quotient: 0.725623582766\n",
      "37 - f_opt: 467.0, quotient: 0.646680942184\n",
      "38 - f_opt: 383.0, quotient: 0.577023498695\n",
      "39 - f_opt: 459.0, quotient: 0.708061002179\n",
      "Average Quotient of 40 Experiments: 0.694013906951\n"
     ]
    },
    {
     "data": {
      "image/png": "[encoded data removed]",
      "text/plain": [
       "<matplotlib.figure.Figure at 0x10b67a750>"
      ]
     },
     "metadata": {},
     "output_type": "display_data"
    }
   ],
   "source": [
    "%matplotlib inline\n",
    "\n",
    "from imports.matrix_helper import MatrixHelper\n",
    "from imports.prediction_helper import PredictionHelper\n",
    "import matplotlib.pyplot as plt\n",
    "import numpy as np\n",
    "\n",
    "matrix_helper = MatrixHelper()\n",
    "experiments_count = 40\n",
    "\n",
    "# read pickle\n",
    "matrices = matrix_helper.load_from_parse('data/matrices/matrix_reg_incl_current.pickle')\n",
    "\n",
    "quotient_list = []\n",
    "f_opt_list = []\n",
    "for i in range(experiments_count):\n",
    "    # Instantiate Prediction Helper Class and predict values for compare matrix\n",
    "    prediction_helper = PredictionHelper()\n",
    "    prediction_helper.calculate_validation_compare_matrix(matrices, sampling_factor=(2.0/3), model_type='SVR')\n",
    "\n",
    "    # get the compare matrix twice:\n",
    "    # Once sorted according to the PREDICTED number of vulnerabilities\n",
    "    # Once sorted according to the ACTUAL number of vulnerabilities\n",
    "    compare_matrix_sorted_predicted = prediction_helper.get_compare_matrix_sorted()\n",
    "    compare_matrix_sorted_actual = prediction_helper.get_compare_matrix_sorted(reference_column=2)\n",
    "\n",
    "    # Crop first 1% of both matrices\n",
    "    relevant_samples_count = 30 #int(round(0.01 * len(compare_matrix_sorted_predicted)))\n",
    "    compare_matrix_sorted_predicted = compare_matrix_sorted_predicted[range(relevant_samples_count)]\n",
    "    compare_matrix_sorted_actual = compare_matrix_sorted_actual[range(relevant_samples_count)]\n",
    "\n",
    "    # Sum up the actual number of vulnerabilities in both matrices\n",
    "    f = sum(np.array(compare_matrix_sorted_predicted[:, 2], dtype='f'))\n",
    "    f_opt = sum(np.array(compare_matrix_sorted_actual[:, 2], dtype='f'))\n",
    "    \n",
    "    f_opt_list.append(f_opt)\n",
    "    quotient_list.append(f / f_opt)\n",
    "    print('{} - f_opt: {}, quotient: {}'.format(i, f_opt, f / f_opt))\n",
    "\n",
    "# plot\n",
    "fig = plt.figure()\n",
    "plt.scatter(f_opt_list, quotient_list, edgecolor='black', linewidth='1', facecolor='white')\n",
    "fig.suptitle('(a) Includes')\n",
    "plt.xlabel('Number of vulnerabilities present F_opt')\n",
    "plt.ylabel('Quotient Q = F / F_opt')\n",
    "fig.savefig('outputs/f_opt-quotient-includes-current.pdf')\n",
    "\n",
    "# print\n",
    "quotient_average = sum(quotient_list) / float(len(quotient_list))\n",
    "print('Average Quotient of {} Experiments: {}'.format(experiments_count, quotient_average)) "
   ]
  },
  {
   "cell_type": "code",
   "execution_count": null,
   "metadata": {
    "collapsed": true
   },
   "outputs": [],
   "source": []
  }
 ],
 "metadata": {
  "kernelspec": {
   "display_name": "Python 2",
   "language": "python",
   "name": "python2"
  },
  "language_info": {
   "codemirror_mode": {
    "name": "ipython",
    "version": 2
   },
   "file_extension": ".py",
   "mimetype": "text/x-python",
   "name": "python",
   "nbconvert_exporter": "python",
   "pygments_lexer": "ipython2",
   "version": "2.7.10"
  }
 },
 "nbformat": 4,
 "nbformat_minor": 2
}
