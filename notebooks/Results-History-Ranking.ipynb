{
 "cells": [
  {
   "cell_type": "markdown",
   "metadata": {},
   "source": [
    "### Ranking with Feature History (Section 6.2.2)\n",
    "* Zweck: Verbesserung des Ranking Quotienten aus der Replikation anhand der Feature Hisotry Matrizen.\n",
    "* Matrix: Regressionsmatrix mit Feautre History des mozilla-central Repository\n",
    "* Features: Includes, Function Calls\n",
    "* Modell: Support Vector Regressionsmodell\n",
    "\n",
    "#### Setup\n",
    "* Training-Set/Test-Set: Stratified sampling auf einer Matrix (2/3 : 1/3)\n",
    "\n",
    "#### Results\n",
    "Angenommen man möchte durch die Optimierung von 30 Komponenten soviele Verwundbarkeiten wie möglich beheben. Bei der Auswahl verlässt man sich auf die Vorhersage des Regressionsmodells. Das Skript teilt die Anzahl Verwundbarkeiten, die dabei tatsächlich behoben werden, durch die Anzahl, die maximal behoben werden könnten. Der Scatterplot zeigt die einzelnen Resultate für Includes und Function Calls bei 40 Experimenten. Die durchschnittlichen Werte und die Standardabweichung des Quotienten sind in der Tabelle aufgelistet."
   ]
  },
  {
   "cell_type": "code",
   "execution_count": 18,
   "metadata": {
    "collapsed": false
   },
   "outputs": [
    {
     "name": "stdout",
     "output_type": "stream",
     "text": [
      "0 - f_opt: 893.0, quotient: 0.987681970885\n",
      "1 - f_opt: 821.0, quotient: 0.990255785627\n",
      "2 - f_opt: 817.0, quotient: 0.992656058752\n",
      "3 - f_opt: 865.0, quotient: 0.989595375723\n",
      "4 - f_opt: 829.0, quotient: 0.977080820265\n",
      "5 - f_opt: 846.0, quotient: 0.983451536643\n",
      "6 - f_opt: 850.0, quotient: 0.988235294118\n",
      "7 - f_opt: 895.0, quotient: 0.989944134078\n",
      "8 - f_opt: 829.0, quotient: 0.985524728589\n",
      "9 - f_opt: 829.0, quotient: 0.983112183353\n",
      "10 - f_opt: 836.0, quotient: 0.988038277512\n",
      "11 - f_opt: 854.0, quotient: 0.992974238876\n",
      "12 - f_opt: 804.0, quotient: 0.980099502488\n",
      "13 - f_opt: 925.0, quotient: 0.982702702703\n",
      "14 - f_opt: 858.0, quotient: 0.981351981352\n",
      "15 - f_opt: 795.0, quotient: 0.968553459119\n",
      "16 - f_opt: 869.0, quotient: 0.968929804373\n",
      "17 - f_opt: 877.0, quotient: 0.984036488027\n",
      "18 - f_opt: 792.0, quotient: 0.978535353535\n",
      "19 - f_opt: 825.0, quotient: 0.991515151515\n",
      "20 - f_opt: 794.0, quotient: 0.981108312343\n",
      "21 - f_opt: 817.0, quotient: 0.979192166463\n",
      "22 - f_opt: 859.0, quotient: 0.976717112922\n",
      "23 - f_opt: 879.0, quotient: 0.981797497156\n",
      "24 - f_opt: 860.0, quotient: 0.98488372093\n",
      "25 - f_opt: 824.0, quotient: 0.995145631068\n",
      "26 - f_opt: 831.0, quotient: 0.980746089049\n",
      "27 - f_opt: 865.0, quotient: 0.995375722543\n",
      "28 - f_opt: 890.0, quotient: 0.996629213483\n",
      "29 - f_opt: 850.0, quotient: 0.975294117647\n",
      "30 - f_opt: 865.0, quotient: 0.995375722543\n",
      "31 - f_opt: 728.0, quotient: 0.973901098901\n",
      "32 - f_opt: 922.0, quotient: 0.980477223427\n",
      "33 - f_opt: 842.0, quotient: 0.985748218527\n",
      "34 - f_opt: 866.0, quotient: 0.987297921478\n",
      "35 - f_opt: 929.0, quotient: 0.998923573735\n",
      "36 - f_opt: 742.0, quotient: 0.960916442049\n",
      "37 - f_opt: 864.0, quotient: 0.990740740741\n",
      "38 - f_opt: 779.0, quotient: 0.955070603338\n",
      "39 - f_opt: 849.0, quotient: 0.976442873969\n",
      "Average Quotient of 40 Experiments: 0.983401471246\n"
     ]
    },
    {
     "data": {
      "image/png": "[encoded data removed]",
      "text/plain": [
       "<matplotlib.figure.Figure at 0x113c77c90>"
      ]
     },
     "metadata": {},
     "output_type": "display_data"
    }
   ],
   "source": [
    "%matplotlib inline\n",
    "\n",
    "from imports.matrix_helper import MatrixHelper\n",
    "from imports.prediction_helper import PredictionHelper\n",
    "import matplotlib.pyplot as plt\n",
    "import numpy as np\n",
    "\n",
    "matrix_helper = MatrixHelper()\n",
    "experiments_count = 40\n",
    "\n",
    "# read pickle\n",
    "matrices = matrix_helper.load_from_parse('data/matrices/matrix_reg_incl_history.pickle')\n",
    "\n",
    "quotient_list = []\n",
    "f_opt_list = []\n",
    "for i in range(experiments_count):\n",
    "    # Instantiate Prediction Helper Class and predict values for compare matrix\n",
    "    prediction_helper = PredictionHelper()\n",
    "    prediction_helper.calculate_validation_compare_matrix(matrices, sampling_factor=(2.0/3), model_type='SVR')\n",
    "\n",
    "    # get the compare matrix twice:\n",
    "    # Once sorted according to the PREDICTED number of vulnerabilities\n",
    "    # Once sorted according to the ACTUAL number of vulnerabilities\n",
    "    compare_matrix_sorted_predicted = prediction_helper.get_compare_matrix_sorted()\n",
    "    compare_matrix_sorted_actual = prediction_helper.get_compare_matrix_sorted(reference_column=2)\n",
    "\n",
    "    # Crop first 30 Samples of both matrices\n",
    "    relevant_samples_count = 30\n",
    "    compare_matrix_sorted_predicted = compare_matrix_sorted_predicted[range(relevant_samples_count)]\n",
    "    compare_matrix_sorted_actual = compare_matrix_sorted_actual[range(relevant_samples_count)]\n",
    "\n",
    "    # Sum up the actual number of vulnerabilities in both matrices\n",
    "    f = sum(np.array(compare_matrix_sorted_predicted[:, 2], dtype='f'))\n",
    "    f_opt = sum(np.array(compare_matrix_sorted_actual[:, 2], dtype='f'))\n",
    "    \n",
    "    f_opt_list.append(f_opt)\n",
    "    quotient_list.append(f / f_opt)\n",
    "    print('{} - f_opt: {}, quotient: {}'.format(i, f_opt, f / f_opt))\n",
    "\n",
    "# plot\n",
    "fig = plt.figure()\n",
    "plt.scatter(f_opt_list, quotient_list, edgecolor='black', linewidth='1', facecolor='white')\n",
    "fig.suptitle('(a) Includes')\n",
    "plt.xlabel('Number of vulnerabilities present F_opt')\n",
    "plt.ylabel('Quotient Q = F / F_opt')\n",
    "fig.savefig('outputs/f_opt-quotient-includes-history.pdf')\n",
    "\n",
    "# print\n",
    "quotient_average = sum(quotient_list) / float(len(quotient_list))\n",
    "print('Average Quotient of {} Experiments: {}'.format(experiments_count, quotient_average)) "
   ]
  },
  {
   "cell_type": "code",
   "execution_count": null,
   "metadata": {
    "collapsed": true
   },
   "outputs": [],
   "source": []
  }
 ],
 "metadata": {
  "kernelspec": {
   "display_name": "Python [default]",
   "language": "python",
   "name": "python2"
  },
  "language_info": {
   "codemirror_mode": {
    "name": "ipython",
    "version": 2
   },
   "file_extension": ".py",
   "mimetype": "text/x-python",
   "name": "python",
   "nbconvert_exporter": "python",
   "pygments_lexer": "ipython2",
   "version": "2.7.13"
  }
 },
 "nbformat": 4,
 "nbformat_minor": 2
}
