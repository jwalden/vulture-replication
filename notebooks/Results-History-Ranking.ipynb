{
 "cells": [
  {
   "cell_type": "markdown",
   "metadata": {},
   "source": [
    "### Ranking with Feature History (Section 6.2.2)\n",
    "* Zweck: Verbesserung des Ranking Quotienten aus der Replikation anhand der Feature Hisotry Matrizen.\n",
    "* Matrix: Regressionsmatrix mit Feautre History des mozilla-central Repository\n",
    "* Features: Includes, Function Calls\n",
    "* Modell: Support Vector Regressionsmodell\n",
    "\n",
    "#### Setup\n",
    "* Training-Set/Test-Set: Stratified sampling auf einer Matrix (2/3 : 1/3)\n",
    "\n",
    "#### Results\n",
    "Angenommen man möchte durch die Optimierung von 30 Komponenten soviele Verwundbarkeiten wie möglich beheben. Bei der Auswahl verlässt man sich auf die Vorhersage des Regressionsmodells. Das Skript teilt die Anzahl Verwundbarkeiten, die dabei tatsächlich behoben werden, durch die Anzahl, die maximal behoben werden könnten. Der Scatterplot zeigt die einzelnen Resultate für Includes und Function Calls bei 40 Experimenten. Die durchschnittlichen Werte und die Standardabweichung des Quotienten sind in der Tabelle aufgelistet."
   ]
  },
  {
   "cell_type": "code",
   "execution_count": 2,
   "metadata": {},
   "outputs": [
    {
     "name": "stdout",
     "output_type": "stream",
     "text": [
      "Includes            : 40/40\n",
      "Function Calls      : 40/40\n",
      "==================================\n",
      "+----------------+--------------+-----------------------------+\n",
      "| Features       | Quotient avg | Quotient standard deviation |\n",
      "+----------------+--------------+-----------------------------+\n",
      "| Includes       |     0.96     |            0.014            |\n",
      "| Function Calls |     0.99     |            0.009            |\n",
      "+----------------+--------------+-----------------------------+\n",
      "==================================\n"
     ]
    },
    {
     "data": {
      "image/png": "[encoded data removed]",
      "text/plain": [
       "<matplotlib.figure.Figure at 0x1083c1f10>"
      ]
     },
     "metadata": {},
     "output_type": "display_data"
    }
   ],
   "source": [
    "%matplotlib inline\n",
    "\n",
    "from imports.matrix_helper import MatrixHelper\n",
    "from imports.prediction_helper import PredictionHelper\n",
    "import matplotlib.pyplot as plt\n",
    "import numpy as np\n",
    "from prettytable import PrettyTable\n",
    "\n",
    "matrix_helper = MatrixHelper()\n",
    "experiments_count = 40\n",
    "\n",
    "features = [('incl', 'Includes', 'o', '#5180cc'), ('calls', 'Function Calls', 'x', '#FD3612')]\n",
    "quotient_lists = {}\n",
    "f_opt_lists = {}\n",
    "\n",
    "for feature in features:\n",
    "    # read pickle\n",
    "    matrices = matrix_helper.load_from_parse('data/matrices/matrix_reg_{}_history.pickle'.format(feature[0]))\n",
    "    quotient_lists[feature[0]] = []\n",
    "    f_opt_lists[feature[0]] = []\n",
    "\n",
    "    for i in range(experiments_count):\n",
    "        print '{:20}: {:2}/{:2}\\r'.format(feature[1], i+1, experiments_count),\n",
    "        \n",
    "        # Instantiate Prediction Helper Class and predict values for compare matrix\n",
    "        prediction_helper = PredictionHelper()\n",
    "        prediction_helper.calculate_validation_compare_matrix(matrices, sampling_factor=(2.0/3), model_type='SVR')\n",
    "\n",
    "        # get the compare matrix twice:\n",
    "        # Once sorted according to the PREDICTED number of vulnerabilities\n",
    "        # Once sorted according to the ACTUAL number of vulnerabilities\n",
    "        compare_matrix_sorted_predicted = prediction_helper.get_compare_matrix_sorted()\n",
    "        compare_matrix_sorted_actual = prediction_helper.get_compare_matrix_sorted(reference_column=2)\n",
    "\n",
    "        # Crop first 1% of both matrices\n",
    "        relevant_samples_count = 30 #int(round(0.01 * len(compare_matrix_sorted_predicted)))\n",
    "        compare_matrix_sorted_predicted = compare_matrix_sorted_predicted[range(relevant_samples_count)]\n",
    "        compare_matrix_sorted_actual = compare_matrix_sorted_actual[range(relevant_samples_count)]\n",
    "\n",
    "        # Sum up the actual number of vulnerabilities in both matrices\n",
    "        f = sum(np.array(compare_matrix_sorted_predicted[:, 2], dtype='f'))\n",
    "        f_opt = sum(np.array(compare_matrix_sorted_actual[:, 2], dtype='f'))\n",
    "\n",
    "        f_opt_lists[feature[0]].append(f_opt)\n",
    "        quotient_lists[feature[0]].append(f / f_opt)\n",
    "    print\n",
    "\n",
    "                \n",
    "ymin = min([min(quotient_lists[list]) for list in quotient_lists])\n",
    "ymax = max([max(quotient_lists[list]) for list in quotient_lists])\n",
    "\n",
    "fig = plt.figure(figsize=(9, 4))\n",
    "\n",
    "for i, feature in enumerate(features):\n",
    "    ax = plt.subplot2grid((1, 10), (0, i))\n",
    "    boxprops = dict(color=feature[3])\n",
    "    flierprops = dict(markerfacecolor=feature[3],markeredgecolor=feature[3], marker=feature[2])\n",
    "    whiskerprops = dict(color=feature[3])\n",
    "    medianprops = dict(color='black')\n",
    "    plt.boxplot(quotient_lists[feature[0]], flierprops=flierprops, whiskerprops=whiskerprops, boxprops=boxprops, medianprops=medianprops, widths=(0.5))\n",
    "    plt.ylim(ymin=ymin/1.01, ymax=ymax*1.01)\n",
    "    plt.axis('off')\n",
    "\n",
    "ax = plt.subplot2grid((1, 10), (0, 3), colspan=7)\n",
    "for feature in features:\n",
    "    plt.scatter(f_opt_lists[feature[0]], quotient_lists[feature[0]], edgecolor=feature[3], linewidth='1', facecolor=feature[3], marker=feature[2], label=feature[1])\n",
    "\n",
    "plt.xlabel('Number of vulnerabilities present F_opt')\n",
    "plt.ylabel('Quotient Q = F / F_opt')\n",
    "plt.ylim(ymin=ymin/1.01, ymax=ymax*1.01)\n",
    "plt.legend(loc=4)\n",
    "ax.set_title('Includes and Function Calls')\n",
    "\n",
    "fig.savefig('outputs/ranking-history.pdf')\n",
    "        \n",
    "\n",
    "# print\n",
    "print('==================================')\n",
    "table = PrettyTable(['Features', 'Quotient avg', 'Quotient standard deviation'])\n",
    "table.align[\"Features\"] = \"l\"\n",
    "for feature in features:\n",
    "    quotient_average = '{:.2f}'.format(sum(quotient_lists[feature[0]]) / float(len(quotient_lists[feature[0]])))\n",
    "    quotient_sd = '{:.3f}'.format(np.std(quotient_lists[feature[0]]))\n",
    "\n",
    "    \n",
    "    table.add_row([feature[1], quotient_average, quotient_sd])\n",
    "print(table)\n",
    "print('==================================')\n",
    "\n"
   ]
  },
  {
   "cell_type": "code",
   "execution_count": null,
   "metadata": {
    "collapsed": true
   },
   "outputs": [],
   "source": []
  }
 ],
 "metadata": {
  "kernelspec": {
   "display_name": "Python 2",
   "language": "python",
   "name": "python2"
  },
  "language_info": {
   "codemirror_mode": {
    "name": "ipython",
    "version": 2
   },
   "file_extension": ".py",
   "mimetype": "text/x-python",
   "name": "python",
   "nbconvert_exporter": "python",
   "pygments_lexer": "ipython2",
   "version": "2.7.10"
  }
 },
 "nbformat": 4,
 "nbformat_minor": 2
}
